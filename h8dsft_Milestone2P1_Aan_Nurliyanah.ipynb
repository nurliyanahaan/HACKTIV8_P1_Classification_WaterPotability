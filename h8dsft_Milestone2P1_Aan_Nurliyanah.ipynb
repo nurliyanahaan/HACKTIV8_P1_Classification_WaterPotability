{
  "cells": [
    {
      "cell_type": "markdown",
      "metadata": {
        "id": "ZqggSKGnJCOa"
      },
      "source": [
        "# Milestones 2"
      ]
    },
    {
      "cell_type": "markdown",
      "metadata": {
        "id": "HT94FGfmJFr1"
      },
      "source": [
        "## Perkenalan \n",
        "\n",
        "`Name : Aan Nurliyanah`\n",
        "\n",
        "`Batch : 002`"
      ]
    },
    {
      "cell_type": "markdown",
      "metadata": {},
      "source": [
        "Link Hugging Face :\n",
        "\n",
        "\n",
        "https://huggingface.co/spaces/nurliyanahaan/Milestone2_Aan_Nurliyanah\n"
      ]
    },
    {
      "cell_type": "markdown",
      "metadata": {
        "id": "nCMqWOU-tQTd"
      },
      "source": [
        "## Assignment Objective\n",
        "\n",
        "Milestones 2 ini dibuat guna mengevaluasi Pembelajaran Phase 1:\n",
        "\n",
        "1. Mampu memahami konsep supervised learning dan unsupervised learning\n",
        "2. Mampu mempersiapkan data untuk digunakan dalam model supervised learning dan unsupervised learning\n",
        "3. Mampu mengimplementasikan supervised learning dan unsupervised learning dengan dataset yang baru\n",
        "4. Mampu melakukan evaluasi model\n",
        "5. Mampu melakukan model tuning\n",
        "6. Mampu melakukan model deployment"
      ]
    },
    {
      "cell_type": "markdown",
      "metadata": {
        "id": "pV7QXax4t1Mp"
      },
      "source": [
        "## Problems\n",
        "\n",
        "Memilih algoritma Classification terbaik untuk memprediksi apakah keadaan air dapat diminum atau tidak. "
      ]
    },
    {
      "cell_type": "markdown",
      "metadata": {
        "id": "4w3I9doZHGUV"
      },
      "source": [
        "## Import Library"
      ]
    },
    {
      "cell_type": "markdown",
      "metadata": {
        "id": "VgmsilpeuPl-"
      },
      "source": [
        "Penggunaan library : \n",
        "- numpy, pandas, seaborn, matplotlib : untuk perhitungan data, pengolahan data, dan visualisasi data. \n",
        "- train_test_split : untuk memisahkan antara data train dan test \n",
        "- winsorizer : untuk handling outlier \n",
        "- SimpleImputer : untuk handling missing value dengan imputasi \n",
        "- LogisticRegression,RandomForestClassifier,DecisionTreeClassifier,AdaboostClassifier: model yang digunakan.\n",
        "- StandardScaler : untuk scaling numerical data\n",
        "- accuracy_score,classification_report,ConfusionMatrixDisplay,confusion_matrix : untuk mengevalusi hasil model yang digunakan \n",
        "- cross_val_score : digunakan untuk mencari cross validation \n",
        "- GridSearchCV : untuk hyperparameter tuning\n",
        "- variance_inflation_factor : untuk mlihat multicolenarity antar kolom\n",
        "- SMOTE : untuk handling imbalance\n",
        "- Pipeline , imbpipe : untuk menggunakan papeline "
      ]
    },
    {
      "cell_type": "code",
      "execution_count": 1,
      "metadata": {
        "colab": {
          "base_uri": "https://localhost:8080/"
        },
        "id": "cukubBbGCp3G",
        "outputId": "11a05d2a-3988-4ffd-def4-b389e0a49a1c"
      },
      "outputs": [
        {
          "name": "stdout",
          "output_type": "stream",
          "text": [
            "Requirement already satisfied: feature_engine in c:\\users\\lenovo\\anaconda3\\lib\\site-packages (1.5.1)\n",
            "Requirement already satisfied: scikit-learn>=1.0.0 in c:\\users\\lenovo\\anaconda3\\lib\\site-packages (from feature_engine) (1.1.3)\n",
            "Requirement already satisfied: scipy>=1.4.1 in c:\\users\\lenovo\\anaconda3\\lib\\site-packages (from feature_engine) (1.7.3)\n",
            "Requirement already satisfied: numpy>=1.18.2 in c:\\users\\lenovo\\anaconda3\\lib\\site-packages (from feature_engine) (1.21.5)\n",
            "Requirement already satisfied: statsmodels>=0.11.1 in c:\\users\\lenovo\\anaconda3\\lib\\site-packages (from feature_engine) (0.13.2)\n",
            "Requirement already satisfied: pandas>=1.0.3 in c:\\users\\lenovo\\anaconda3\\lib\\site-packages (from feature_engine) (1.4.2)\n",
            "Requirement already satisfied: pytz>=2020.1 in c:\\users\\lenovo\\anaconda3\\lib\\site-packages (from pandas>=1.0.3->feature_engine) (2021.3)\n",
            "Requirement already satisfied: python-dateutil>=2.8.1 in c:\\users\\lenovo\\anaconda3\\lib\\site-packages (from pandas>=1.0.3->feature_engine) (2.8.2)\n",
            "Requirement already satisfied: six>=1.5 in c:\\users\\lenovo\\anaconda3\\lib\\site-packages (from python-dateutil>=2.8.1->pandas>=1.0.3->feature_engine) (1.16.0)\n",
            "Requirement already satisfied: threadpoolctl>=2.0.0 in c:\\users\\lenovo\\anaconda3\\lib\\site-packages (from scikit-learn>=1.0.0->feature_engine) (2.2.0)\n",
            "Requirement already satisfied: joblib>=1.0.0 in c:\\users\\lenovo\\anaconda3\\lib\\site-packages (from scikit-learn>=1.0.0->feature_engine) (1.1.0)\n",
            "Requirement already satisfied: patsy>=0.5.2 in c:\\users\\lenovo\\anaconda3\\lib\\site-packages (from statsmodels>=0.11.1->feature_engine) (0.5.2)\n",
            "Requirement already satisfied: packaging>=21.3 in c:\\users\\lenovo\\anaconda3\\lib\\site-packages (from statsmodels>=0.11.1->feature_engine) (21.3)\n",
            "Requirement already satisfied: pyparsing!=3.0.5,>=2.0.2 in c:\\users\\lenovo\\anaconda3\\lib\\site-packages (from packaging>=21.3->statsmodels>=0.11.1->feature_engine) (3.0.4)\n",
            "Requirement already satisfied: sklearn in c:\\users\\lenovo\\anaconda3\\lib\\site-packages (0.0.post1)\n"
          ]
        }
      ],
      "source": [
        "import pandas as pd\n",
        "import numpy as np\n",
        "import seaborn as sns\n",
        "import matplotlib.pyplot as plt\n",
        "\n",
        "\n",
        "!pip install feature_engine\n",
        "!pip install sklearn\n",
        "from sklearn.model_selection import train_test_split\n",
        "from feature_engine.outliers import Winsorizer\n",
        "from sklearn.impute import SimpleImputer\n",
        "from sklearn.linear_model import LogisticRegression\n",
        "from sklearn.tree import DecisionTreeClassifier\n",
        "from sklearn.ensemble import RandomForestClassifier\n",
        "from sklearn.ensemble import AdaBoostClassifier\n",
        "from sklearn.preprocessing import StandardScaler\n",
        "from sklearn.metrics import accuracy_score,classification_report,ConfusionMatrixDisplay,confusion_matrix\n",
        "from sklearn.metrics import plot_confusion_matrix\n",
        "from sklearn.model_selection import cross_val_score\n",
        "from sklearn.model_selection import GridSearchCV\n",
        "from sklearn.pipeline import Pipeline\n",
        "from imblearn.pipeline import Pipeline as imbpipe\n",
        "from statsmodels.stats.outliers_influence import variance_inflation_factor\n",
        "import pickle\n",
        "from sklearn import set_config\n",
        "from imblearn.over_sampling import SMOTE\n"
      ]
    },
    {
      "cell_type": "markdown",
      "metadata": {
        "id": "d7_Wx-GDWRFr"
      },
      "source": [
        "## Data Loading and Overview "
      ]
    },
    {
      "cell_type": "markdown",
      "metadata": {
        "id": "hlZB8AHIFwDK"
      },
      "source": [
        "Dataset ini diambil dari sumber Kaggle :\n",
        "\n",
        "https://www.kaggle.com/datasets/adityakadiwal/water-potability?resource=download\n"
      ]
    },
    {
      "cell_type": "markdown",
      "metadata": {
        "id": "-NM7EqqsFbDC"
      },
      "source": [
        "About this file\n",
        "- ppm: parts per million\n",
        "- μg/L: microgram per litre\n",
        "- mg/L: milligram per litre\n",
        "\n",
        "Column description:\n",
        "\n",
        "1. ph: pH of 1. water (0 to 14).\n",
        "2. Hardness: Capacity of water to precipitate soap in mg/L.\n",
        "3. Solids: Total dissolved solids in ppm.\n",
        "4. Chloramines: Amount of Chloramines in ppm.\n",
        "5. Sulfate: Amount of Sulfates dissolved in mg/L.\n",
        "6. Conductivity: Electrical conductivity of water in μS/cm.\n",
        "7. Organic_carbon: Amount of organic carbon in ppm.\n",
        "8. Trihalomethanes: Amount of Trihalomethanes in μg/L.\n",
        "9. Turbidity: Measure of light emiting property of water in NTU.\n",
        "10. Potability: Indicates if water is safe for human consumption. Potable -1 and Not potable -0"
      ]
    },
    {
      "cell_type": "markdown",
      "metadata": {
        "id": "kKTvjdgJFoOF"
      },
      "source": [
        "Loading data dengan menggunakan pd.read_csv dan mendefinisikan jika terdapat values seperti '?',' ','99999','N/A' akan didefinisikan sebagai nan atau missing value, juga menggunakan parameter skipinitialspace untuk skip jika ada spasi di seluruh dataframe."
      ]
    },
    {
      "cell_type": "code",
      "execution_count": 2,
      "metadata": {
        "id": "P_9-AFRjCwM4"
      },
      "outputs": [],
      "source": [
        "data = pd.read_csv('water_potability.csv',na_values=['?',' ','99999','N/A'],skipinitialspace=True)"
      ]
    },
    {
      "cell_type": "markdown",
      "metadata": {
        "id": "0EkIXwvPF-jC"
      },
      "source": [
        "Melihat ukuran data, banyak kolom dan baris"
      ]
    },
    {
      "cell_type": "code",
      "execution_count": 3,
      "metadata": {
        "colab": {
          "base_uri": "https://localhost:8080/"
        },
        "id": "C-u-4s7QC1Rn",
        "outputId": "28d97bbe-4732-49ed-f844-da63e2ecfcf7"
      },
      "outputs": [
        {
          "data": {
            "text/plain": [
              "(3276, 10)"
            ]
          },
          "execution_count": 3,
          "metadata": {},
          "output_type": "execute_result"
        }
      ],
      "source": [
        "data.shape"
      ]
    },
    {
      "cell_type": "markdown",
      "metadata": {
        "id": "DPl8eKVdGBXU"
      },
      "source": [
        "Menampilkan dataset default 5 teratas dengan fungsi head"
      ]
    },
    {
      "cell_type": "code",
      "execution_count": 4,
      "metadata": {
        "colab": {
          "base_uri": "https://localhost:8080/",
          "height": 270
        },
        "id": "rEXYOeOeC7TY",
        "outputId": "decae702-081b-4486-aad9-4e7ebf6bb25e"
      },
      "outputs": [
        {
          "data": {
            "text/html": [
              "<div>\n",
              "<style scoped>\n",
              "    .dataframe tbody tr th:only-of-type {\n",
              "        vertical-align: middle;\n",
              "    }\n",
              "\n",
              "    .dataframe tbody tr th {\n",
              "        vertical-align: top;\n",
              "    }\n",
              "\n",
              "    .dataframe thead th {\n",
              "        text-align: right;\n",
              "    }\n",
              "</style>\n",
              "<table border=\"1\" class=\"dataframe\">\n",
              "  <thead>\n",
              "    <tr style=\"text-align: right;\">\n",
              "      <th></th>\n",
              "      <th>ph</th>\n",
              "      <th>Hardness</th>\n",
              "      <th>Solids</th>\n",
              "      <th>Chloramines</th>\n",
              "      <th>Sulfate</th>\n",
              "      <th>Conductivity</th>\n",
              "      <th>Organic_carbon</th>\n",
              "      <th>Trihalomethanes</th>\n",
              "      <th>Turbidity</th>\n",
              "      <th>Potability</th>\n",
              "    </tr>\n",
              "  </thead>\n",
              "  <tbody>\n",
              "    <tr>\n",
              "      <th>0</th>\n",
              "      <td>NaN</td>\n",
              "      <td>204.890455</td>\n",
              "      <td>20791.318981</td>\n",
              "      <td>7.300212</td>\n",
              "      <td>368.516441</td>\n",
              "      <td>564.308654</td>\n",
              "      <td>10.379783</td>\n",
              "      <td>86.990970</td>\n",
              "      <td>2.963135</td>\n",
              "      <td>0</td>\n",
              "    </tr>\n",
              "    <tr>\n",
              "      <th>1</th>\n",
              "      <td>3.716080</td>\n",
              "      <td>129.422921</td>\n",
              "      <td>18630.057858</td>\n",
              "      <td>6.635246</td>\n",
              "      <td>NaN</td>\n",
              "      <td>592.885359</td>\n",
              "      <td>15.180013</td>\n",
              "      <td>56.329076</td>\n",
              "      <td>4.500656</td>\n",
              "      <td>0</td>\n",
              "    </tr>\n",
              "    <tr>\n",
              "      <th>2</th>\n",
              "      <td>8.099124</td>\n",
              "      <td>224.236259</td>\n",
              "      <td>19909.541732</td>\n",
              "      <td>9.275884</td>\n",
              "      <td>NaN</td>\n",
              "      <td>418.606213</td>\n",
              "      <td>16.868637</td>\n",
              "      <td>66.420093</td>\n",
              "      <td>3.055934</td>\n",
              "      <td>0</td>\n",
              "    </tr>\n",
              "    <tr>\n",
              "      <th>3</th>\n",
              "      <td>8.316766</td>\n",
              "      <td>214.373394</td>\n",
              "      <td>22018.417441</td>\n",
              "      <td>8.059332</td>\n",
              "      <td>356.886136</td>\n",
              "      <td>363.266516</td>\n",
              "      <td>18.436524</td>\n",
              "      <td>100.341674</td>\n",
              "      <td>4.628771</td>\n",
              "      <td>0</td>\n",
              "    </tr>\n",
              "    <tr>\n",
              "      <th>4</th>\n",
              "      <td>9.092223</td>\n",
              "      <td>181.101509</td>\n",
              "      <td>17978.986339</td>\n",
              "      <td>6.546600</td>\n",
              "      <td>310.135738</td>\n",
              "      <td>398.410813</td>\n",
              "      <td>11.558279</td>\n",
              "      <td>31.997993</td>\n",
              "      <td>4.075075</td>\n",
              "      <td>0</td>\n",
              "    </tr>\n",
              "  </tbody>\n",
              "</table>\n",
              "</div>"
            ],
            "text/plain": [
              "         ph    Hardness        Solids  Chloramines     Sulfate  Conductivity  \\\n",
              "0       NaN  204.890455  20791.318981     7.300212  368.516441    564.308654   \n",
              "1  3.716080  129.422921  18630.057858     6.635246         NaN    592.885359   \n",
              "2  8.099124  224.236259  19909.541732     9.275884         NaN    418.606213   \n",
              "3  8.316766  214.373394  22018.417441     8.059332  356.886136    363.266516   \n",
              "4  9.092223  181.101509  17978.986339     6.546600  310.135738    398.410813   \n",
              "\n",
              "   Organic_carbon  Trihalomethanes  Turbidity  Potability  \n",
              "0       10.379783        86.990970   2.963135           0  \n",
              "1       15.180013        56.329076   4.500656           0  \n",
              "2       16.868637        66.420093   3.055934           0  \n",
              "3       18.436524       100.341674   4.628771           0  \n",
              "4       11.558279        31.997993   4.075075           0  "
            ]
          },
          "execution_count": 4,
          "metadata": {},
          "output_type": "execute_result"
        }
      ],
      "source": [
        "data.head()"
      ]
    },
    {
      "cell_type": "markdown",
      "metadata": {
        "id": "ecSw3qZGGGgN"
      },
      "source": [
        "Menampilkan data default 5 terbawah dengan menggunakan fungsi tail "
      ]
    },
    {
      "cell_type": "code",
      "execution_count": 5,
      "metadata": {
        "colab": {
          "base_uri": "https://localhost:8080/",
          "height": 270
        },
        "id": "5RcQn2UZSocv",
        "outputId": "798b21ca-4608-4911-fc0b-803ab230217b"
      },
      "outputs": [
        {
          "data": {
            "text/html": [
              "<div>\n",
              "<style scoped>\n",
              "    .dataframe tbody tr th:only-of-type {\n",
              "        vertical-align: middle;\n",
              "    }\n",
              "\n",
              "    .dataframe tbody tr th {\n",
              "        vertical-align: top;\n",
              "    }\n",
              "\n",
              "    .dataframe thead th {\n",
              "        text-align: right;\n",
              "    }\n",
              "</style>\n",
              "<table border=\"1\" class=\"dataframe\">\n",
              "  <thead>\n",
              "    <tr style=\"text-align: right;\">\n",
              "      <th></th>\n",
              "      <th>ph</th>\n",
              "      <th>Hardness</th>\n",
              "      <th>Solids</th>\n",
              "      <th>Chloramines</th>\n",
              "      <th>Sulfate</th>\n",
              "      <th>Conductivity</th>\n",
              "      <th>Organic_carbon</th>\n",
              "      <th>Trihalomethanes</th>\n",
              "      <th>Turbidity</th>\n",
              "      <th>Potability</th>\n",
              "    </tr>\n",
              "  </thead>\n",
              "  <tbody>\n",
              "    <tr>\n",
              "      <th>3271</th>\n",
              "      <td>4.668102</td>\n",
              "      <td>193.681735</td>\n",
              "      <td>47580.991603</td>\n",
              "      <td>7.166639</td>\n",
              "      <td>359.948574</td>\n",
              "      <td>526.424171</td>\n",
              "      <td>13.894419</td>\n",
              "      <td>66.687695</td>\n",
              "      <td>4.435821</td>\n",
              "      <td>1</td>\n",
              "    </tr>\n",
              "    <tr>\n",
              "      <th>3272</th>\n",
              "      <td>7.808856</td>\n",
              "      <td>193.553212</td>\n",
              "      <td>17329.802160</td>\n",
              "      <td>8.061362</td>\n",
              "      <td>NaN</td>\n",
              "      <td>392.449580</td>\n",
              "      <td>19.903225</td>\n",
              "      <td>NaN</td>\n",
              "      <td>2.798243</td>\n",
              "      <td>1</td>\n",
              "    </tr>\n",
              "    <tr>\n",
              "      <th>3273</th>\n",
              "      <td>9.419510</td>\n",
              "      <td>175.762646</td>\n",
              "      <td>33155.578218</td>\n",
              "      <td>7.350233</td>\n",
              "      <td>NaN</td>\n",
              "      <td>432.044783</td>\n",
              "      <td>11.039070</td>\n",
              "      <td>69.845400</td>\n",
              "      <td>3.298875</td>\n",
              "      <td>1</td>\n",
              "    </tr>\n",
              "    <tr>\n",
              "      <th>3274</th>\n",
              "      <td>5.126763</td>\n",
              "      <td>230.603758</td>\n",
              "      <td>11983.869376</td>\n",
              "      <td>6.303357</td>\n",
              "      <td>NaN</td>\n",
              "      <td>402.883113</td>\n",
              "      <td>11.168946</td>\n",
              "      <td>77.488213</td>\n",
              "      <td>4.708658</td>\n",
              "      <td>1</td>\n",
              "    </tr>\n",
              "    <tr>\n",
              "      <th>3275</th>\n",
              "      <td>7.874671</td>\n",
              "      <td>195.102299</td>\n",
              "      <td>17404.177061</td>\n",
              "      <td>7.509306</td>\n",
              "      <td>NaN</td>\n",
              "      <td>327.459760</td>\n",
              "      <td>16.140368</td>\n",
              "      <td>78.698446</td>\n",
              "      <td>2.309149</td>\n",
              "      <td>1</td>\n",
              "    </tr>\n",
              "  </tbody>\n",
              "</table>\n",
              "</div>"
            ],
            "text/plain": [
              "            ph    Hardness        Solids  Chloramines     Sulfate  \\\n",
              "3271  4.668102  193.681735  47580.991603     7.166639  359.948574   \n",
              "3272  7.808856  193.553212  17329.802160     8.061362         NaN   \n",
              "3273  9.419510  175.762646  33155.578218     7.350233         NaN   \n",
              "3274  5.126763  230.603758  11983.869376     6.303357         NaN   \n",
              "3275  7.874671  195.102299  17404.177061     7.509306         NaN   \n",
              "\n",
              "      Conductivity  Organic_carbon  Trihalomethanes  Turbidity  Potability  \n",
              "3271    526.424171       13.894419        66.687695   4.435821           1  \n",
              "3272    392.449580       19.903225              NaN   2.798243           1  \n",
              "3273    432.044783       11.039070        69.845400   3.298875           1  \n",
              "3274    402.883113       11.168946        77.488213   4.708658           1  \n",
              "3275    327.459760       16.140368        78.698446   2.309149           1  "
            ]
          },
          "execution_count": 5,
          "metadata": {},
          "output_type": "execute_result"
        }
      ],
      "source": [
        "data.tail()"
      ]
    },
    {
      "cell_type": "markdown",
      "metadata": {
        "id": "40IwepguGJLz"
      },
      "source": [
        "Melihat overview dari banyaknya baris dan kolom, dan jumlah baris di setiap kolom, nama kolom beserta tipe data nya. "
      ]
    },
    {
      "cell_type": "code",
      "execution_count": 6,
      "metadata": {
        "colab": {
          "base_uri": "https://localhost:8080/"
        },
        "id": "JbCBVB0JC2ob",
        "outputId": "b4ef7f10-3cdc-456d-b515-a3d1177a20ca"
      },
      "outputs": [
        {
          "name": "stdout",
          "output_type": "stream",
          "text": [
            "<class 'pandas.core.frame.DataFrame'>\n",
            "RangeIndex: 3276 entries, 0 to 3275\n",
            "Data columns (total 10 columns):\n",
            " #   Column           Non-Null Count  Dtype  \n",
            "---  ------           --------------  -----  \n",
            " 0   ph               2785 non-null   float64\n",
            " 1   Hardness         3276 non-null   float64\n",
            " 2   Solids           3276 non-null   float64\n",
            " 3   Chloramines      3276 non-null   float64\n",
            " 4   Sulfate          2495 non-null   float64\n",
            " 5   Conductivity     3276 non-null   float64\n",
            " 6   Organic_carbon   3276 non-null   float64\n",
            " 7   Trihalomethanes  3114 non-null   float64\n",
            " 8   Turbidity        3276 non-null   float64\n",
            " 9   Potability       3276 non-null   int64  \n",
            "dtypes: float64(9), int64(1)\n",
            "memory usage: 256.1 KB\n"
          ]
        }
      ],
      "source": [
        "data.info()"
      ]
    },
    {
      "cell_type": "markdown",
      "metadata": {
        "id": "WFRQQ5hBGPjv"
      },
      "source": [
        "Dari overview diatas didapatkan bahwa type data nya integer dan float. ada sejumlah missing value, jumlah baris 3276 terisi, dan 10 kolom. berikutnya akan kita double cek lagi."
      ]
    },
    {
      "cell_type": "markdown",
      "metadata": {
        "id": "JYXtEatkGYWV"
      },
      "source": [
        "Mengecek missing value"
      ]
    },
    {
      "cell_type": "code",
      "execution_count": 7,
      "metadata": {
        "colab": {
          "base_uri": "https://localhost:8080/"
        },
        "id": "fXreuhtdC5L3",
        "outputId": "14ca6607-0203-4846-ca33-1df93fb40f96"
      },
      "outputs": [
        {
          "data": {
            "text/plain": [
              "ph                 491\n",
              "Hardness             0\n",
              "Solids               0\n",
              "Chloramines          0\n",
              "Sulfate            781\n",
              "Conductivity         0\n",
              "Organic_carbon       0\n",
              "Trihalomethanes    162\n",
              "Turbidity            0\n",
              "Potability           0\n",
              "dtype: int64"
            ]
          },
          "execution_count": 7,
          "metadata": {},
          "output_type": "execute_result"
        }
      ],
      "source": [
        "data.isnull().sum()"
      ]
    },
    {
      "cell_type": "markdown",
      "metadata": {
        "id": "xLlOTvgRGb-L"
      },
      "source": [
        "Presentase missing value"
      ]
    },
    {
      "cell_type": "code",
      "execution_count": 8,
      "metadata": {
        "colab": {
          "base_uri": "https://localhost:8080/"
        },
        "id": "rpcFWgLIDNrB",
        "outputId": "a1bddc14-8090-41d0-9b6f-6cb8b259dcf7"
      },
      "outputs": [
        {
          "data": {
            "text/plain": [
              "ph                 14.987790\n",
              "Hardness            0.000000\n",
              "Solids              0.000000\n",
              "Chloramines         0.000000\n",
              "Sulfate            23.840049\n",
              "Conductivity        0.000000\n",
              "Organic_carbon      0.000000\n",
              "Trihalomethanes     4.945055\n",
              "Turbidity           0.000000\n",
              "Potability          0.000000\n",
              "dtype: float64"
            ]
          },
          "execution_count": 8,
          "metadata": {},
          "output_type": "execute_result"
        }
      ],
      "source": [
        "data.isnull().mean()*100"
      ]
    },
    {
      "cell_type": "markdown",
      "metadata": {
        "id": "1n2J-55qGd5Z"
      },
      "source": [
        "Mengecek duplikat data"
      ]
    },
    {
      "cell_type": "code",
      "execution_count": 9,
      "metadata": {
        "colab": {
          "base_uri": "https://localhost:8080/"
        },
        "id": "Gp4X8jn1DTuS",
        "outputId": "fafdd59d-2558-4c48-d879-1f26ac14dfca"
      },
      "outputs": [
        {
          "data": {
            "text/plain": [
              "(0, 10)"
            ]
          },
          "execution_count": 9,
          "metadata": {},
          "output_type": "execute_result"
        }
      ],
      "source": [
        "data[data.duplicated()].shape"
      ]
    },
    {
      "cell_type": "markdown",
      "metadata": {
        "id": "WEzQkn_NGgeV"
      },
      "source": [
        "Membagi data kedalam numeric dan categoric"
      ]
    },
    {
      "cell_type": "code",
      "execution_count": 10,
      "metadata": {
        "id": "i8-4YeAbHLGg"
      },
      "outputs": [],
      "source": [
        "num = data.drop('Potability',axis=1).columns.tolist()\n",
        "cat = data[['Potability']].columns.tolist()"
      ]
    },
    {
      "cell_type": "markdown",
      "metadata": {
        "id": "ugnd_AtXGksJ"
      },
      "source": [
        "melihat central tendency dari numerical data "
      ]
    },
    {
      "cell_type": "code",
      "execution_count": 11,
      "metadata": {
        "colab": {
          "base_uri": "https://localhost:8080/",
          "height": 364
        },
        "id": "quXforKLIPJy",
        "outputId": "afa889bb-49b3-4ecc-bb48-635f91c53221"
      },
      "outputs": [
        {
          "data": {
            "text/html": [
              "<div>\n",
              "<style scoped>\n",
              "    .dataframe tbody tr th:only-of-type {\n",
              "        vertical-align: middle;\n",
              "    }\n",
              "\n",
              "    .dataframe tbody tr th {\n",
              "        vertical-align: top;\n",
              "    }\n",
              "\n",
              "    .dataframe thead th {\n",
              "        text-align: right;\n",
              "    }\n",
              "</style>\n",
              "<table border=\"1\" class=\"dataframe\">\n",
              "  <thead>\n",
              "    <tr style=\"text-align: right;\">\n",
              "      <th></th>\n",
              "      <th>ph</th>\n",
              "      <th>Hardness</th>\n",
              "      <th>Solids</th>\n",
              "      <th>Chloramines</th>\n",
              "      <th>Sulfate</th>\n",
              "      <th>Conductivity</th>\n",
              "      <th>Organic_carbon</th>\n",
              "      <th>Trihalomethanes</th>\n",
              "      <th>Turbidity</th>\n",
              "    </tr>\n",
              "  </thead>\n",
              "  <tbody>\n",
              "    <tr>\n",
              "      <th>count</th>\n",
              "      <td>2785.000000</td>\n",
              "      <td>3276.000000</td>\n",
              "      <td>3276.000000</td>\n",
              "      <td>3276.000000</td>\n",
              "      <td>2495.000000</td>\n",
              "      <td>3276.000000</td>\n",
              "      <td>3276.000000</td>\n",
              "      <td>3114.000000</td>\n",
              "      <td>3276.000000</td>\n",
              "    </tr>\n",
              "    <tr>\n",
              "      <th>mean</th>\n",
              "      <td>7.080795</td>\n",
              "      <td>196.369496</td>\n",
              "      <td>22014.092526</td>\n",
              "      <td>7.122277</td>\n",
              "      <td>333.775777</td>\n",
              "      <td>426.205111</td>\n",
              "      <td>14.284970</td>\n",
              "      <td>66.396293</td>\n",
              "      <td>3.966786</td>\n",
              "    </tr>\n",
              "    <tr>\n",
              "      <th>std</th>\n",
              "      <td>1.594320</td>\n",
              "      <td>32.879761</td>\n",
              "      <td>8768.570828</td>\n",
              "      <td>1.583085</td>\n",
              "      <td>41.416840</td>\n",
              "      <td>80.824064</td>\n",
              "      <td>3.308162</td>\n",
              "      <td>16.175008</td>\n",
              "      <td>0.780382</td>\n",
              "    </tr>\n",
              "    <tr>\n",
              "      <th>min</th>\n",
              "      <td>0.000000</td>\n",
              "      <td>47.432000</td>\n",
              "      <td>320.942611</td>\n",
              "      <td>0.352000</td>\n",
              "      <td>129.000000</td>\n",
              "      <td>181.483754</td>\n",
              "      <td>2.200000</td>\n",
              "      <td>0.738000</td>\n",
              "      <td>1.450000</td>\n",
              "    </tr>\n",
              "    <tr>\n",
              "      <th>25%</th>\n",
              "      <td>6.093092</td>\n",
              "      <td>176.850538</td>\n",
              "      <td>15666.690297</td>\n",
              "      <td>6.127421</td>\n",
              "      <td>307.699498</td>\n",
              "      <td>365.734414</td>\n",
              "      <td>12.065801</td>\n",
              "      <td>55.844536</td>\n",
              "      <td>3.439711</td>\n",
              "    </tr>\n",
              "    <tr>\n",
              "      <th>50%</th>\n",
              "      <td>7.036752</td>\n",
              "      <td>196.967627</td>\n",
              "      <td>20927.833607</td>\n",
              "      <td>7.130299</td>\n",
              "      <td>333.073546</td>\n",
              "      <td>421.884968</td>\n",
              "      <td>14.218338</td>\n",
              "      <td>66.622485</td>\n",
              "      <td>3.955028</td>\n",
              "    </tr>\n",
              "    <tr>\n",
              "      <th>75%</th>\n",
              "      <td>8.062066</td>\n",
              "      <td>216.667456</td>\n",
              "      <td>27332.762127</td>\n",
              "      <td>8.114887</td>\n",
              "      <td>359.950170</td>\n",
              "      <td>481.792304</td>\n",
              "      <td>16.557652</td>\n",
              "      <td>77.337473</td>\n",
              "      <td>4.500320</td>\n",
              "    </tr>\n",
              "    <tr>\n",
              "      <th>max</th>\n",
              "      <td>14.000000</td>\n",
              "      <td>323.124000</td>\n",
              "      <td>61227.196008</td>\n",
              "      <td>13.127000</td>\n",
              "      <td>481.030642</td>\n",
              "      <td>753.342620</td>\n",
              "      <td>28.300000</td>\n",
              "      <td>124.000000</td>\n",
              "      <td>6.739000</td>\n",
              "    </tr>\n",
              "  </tbody>\n",
              "</table>\n",
              "</div>"
            ],
            "text/plain": [
              "                ph     Hardness        Solids  Chloramines      Sulfate  \\\n",
              "count  2785.000000  3276.000000   3276.000000  3276.000000  2495.000000   \n",
              "mean      7.080795   196.369496  22014.092526     7.122277   333.775777   \n",
              "std       1.594320    32.879761   8768.570828     1.583085    41.416840   \n",
              "min       0.000000    47.432000    320.942611     0.352000   129.000000   \n",
              "25%       6.093092   176.850538  15666.690297     6.127421   307.699498   \n",
              "50%       7.036752   196.967627  20927.833607     7.130299   333.073546   \n",
              "75%       8.062066   216.667456  27332.762127     8.114887   359.950170   \n",
              "max      14.000000   323.124000  61227.196008    13.127000   481.030642   \n",
              "\n",
              "       Conductivity  Organic_carbon  Trihalomethanes    Turbidity  \n",
              "count   3276.000000     3276.000000      3114.000000  3276.000000  \n",
              "mean     426.205111       14.284970        66.396293     3.966786  \n",
              "std       80.824064        3.308162        16.175008     0.780382  \n",
              "min      181.483754        2.200000         0.738000     1.450000  \n",
              "25%      365.734414       12.065801        55.844536     3.439711  \n",
              "50%      421.884968       14.218338        66.622485     3.955028  \n",
              "75%      481.792304       16.557652        77.337473     4.500320  \n",
              "max      753.342620       28.300000       124.000000     6.739000  "
            ]
          },
          "execution_count": 11,
          "metadata": {},
          "output_type": "execute_result"
        }
      ],
      "source": [
        "data[num].describe()"
      ]
    },
    {
      "cell_type": "markdown",
      "metadata": {
        "id": "2hYjqxQgGpX8"
      },
      "source": [
        "Melihat value counts dari categoric kolom "
      ]
    },
    {
      "cell_type": "code",
      "execution_count": 12,
      "metadata": {
        "colab": {
          "base_uri": "https://localhost:8080/"
        },
        "id": "JLisFBu_IiRo",
        "outputId": "fef2414e-e015-4a59-b24b-83bb7820fb97"
      },
      "outputs": [
        {
          "data": {
            "text/plain": [
              "Potability\n",
              "0             1998\n",
              "1             1278\n",
              "dtype: int64"
            ]
          },
          "execution_count": 12,
          "metadata": {},
          "output_type": "execute_result"
        }
      ],
      "source": [
        "data[cat].value_counts()"
      ]
    },
    {
      "cell_type": "markdown",
      "metadata": {
        "id": "LPVcAiRwGs-W"
      },
      "source": [
        "General overview :\n",
        "- Terdapat missing value pada kolom ph: 14.98%, sulfate : 23.84% dan Trihalomethanes : 4.94%, akan di handle menggunakan imputasi. \n",
        "- Tidak terdapat duplikat data\n",
        "- Data terbagi menjadi numeric dan categoric "
      ]
    },
    {
      "cell_type": "markdown",
      "metadata": {
        "id": "yEUpczmYNgEZ"
      },
      "source": [
        "## Data Cleaning "
      ]
    },
    {
      "cell_type": "markdown",
      "metadata": {
        "id": "TQp27TOlH8kt"
      },
      "source": [
        "Membuat variabel baru dengan nama data_clean agar data asli tetap utuh."
      ]
    },
    {
      "cell_type": "code",
      "execution_count": 13,
      "metadata": {
        "id": "EB9IbCWqI7xh"
      },
      "outputs": [],
      "source": [
        "data_clean = data.copy()"
      ]
    },
    {
      "cell_type": "markdown",
      "metadata": {},
      "source": [
        "Untuk missing value akan dihandling di section selanjutnya dengan menggunakan SimpleImputer"
      ]
    },
    {
      "cell_type": "markdown",
      "metadata": {
        "id": "pLLruJt0Nt35"
      },
      "source": [
        "## Exploratory Data Analysis (EDA)"
      ]
    },
    {
      "cell_type": "markdown",
      "metadata": {
        "id": "1jPzG4hVIcpZ"
      },
      "source": [
        "Bagian ini berisi eksplorasi data pada dataset diatas dengan menggunakan query, grouping, visualisasi sederhana, dan lain sebagainya."
      ]
    },
    {
      "cell_type": "markdown",
      "metadata": {
        "id": "SWBwPfAxIdlb"
      },
      "source": [
        "### EDA for Analysis"
      ]
    },
    {
      "cell_type": "code",
      "execution_count": 14,
      "metadata": {
        "colab": {
          "base_uri": "https://localhost:8080/",
          "height": 207
        },
        "id": "ijVCZwz3SFdB",
        "outputId": "4de5a84c-f68d-47fc-dbaf-98908dc0bbdc"
      },
      "outputs": [
        {
          "data": {
            "text/html": [
              "<div>\n",
              "<style scoped>\n",
              "    .dataframe tbody tr th:only-of-type {\n",
              "        vertical-align: middle;\n",
              "    }\n",
              "\n",
              "    .dataframe tbody tr th {\n",
              "        vertical-align: top;\n",
              "    }\n",
              "\n",
              "    .dataframe thead th {\n",
              "        text-align: right;\n",
              "    }\n",
              "</style>\n",
              "<table border=\"1\" class=\"dataframe\">\n",
              "  <thead>\n",
              "    <tr style=\"text-align: right;\">\n",
              "      <th></th>\n",
              "      <th>ph</th>\n",
              "      <th>Hardness</th>\n",
              "      <th>Solids</th>\n",
              "      <th>Chloramines</th>\n",
              "      <th>Sulfate</th>\n",
              "      <th>Conductivity</th>\n",
              "      <th>Organic_carbon</th>\n",
              "      <th>Trihalomethanes</th>\n",
              "      <th>Turbidity</th>\n",
              "      <th>Potability</th>\n",
              "    </tr>\n",
              "  </thead>\n",
              "  <tbody>\n",
              "    <tr>\n",
              "      <th>0</th>\n",
              "      <td>NaN</td>\n",
              "      <td>204.890455</td>\n",
              "      <td>20791.318981</td>\n",
              "      <td>7.300212</td>\n",
              "      <td>368.516441</td>\n",
              "      <td>564.308654</td>\n",
              "      <td>10.379783</td>\n",
              "      <td>86.990970</td>\n",
              "      <td>2.963135</td>\n",
              "      <td>0</td>\n",
              "    </tr>\n",
              "    <tr>\n",
              "      <th>1</th>\n",
              "      <td>3.716080</td>\n",
              "      <td>129.422921</td>\n",
              "      <td>18630.057858</td>\n",
              "      <td>6.635246</td>\n",
              "      <td>NaN</td>\n",
              "      <td>592.885359</td>\n",
              "      <td>15.180013</td>\n",
              "      <td>56.329076</td>\n",
              "      <td>4.500656</td>\n",
              "      <td>0</td>\n",
              "    </tr>\n",
              "    <tr>\n",
              "      <th>2</th>\n",
              "      <td>8.099124</td>\n",
              "      <td>224.236259</td>\n",
              "      <td>19909.541732</td>\n",
              "      <td>9.275884</td>\n",
              "      <td>NaN</td>\n",
              "      <td>418.606213</td>\n",
              "      <td>16.868637</td>\n",
              "      <td>66.420093</td>\n",
              "      <td>3.055934</td>\n",
              "      <td>0</td>\n",
              "    </tr>\n",
              "  </tbody>\n",
              "</table>\n",
              "</div>"
            ],
            "text/plain": [
              "         ph    Hardness        Solids  Chloramines     Sulfate  Conductivity  \\\n",
              "0       NaN  204.890455  20791.318981     7.300212  368.516441    564.308654   \n",
              "1  3.716080  129.422921  18630.057858     6.635246         NaN    592.885359   \n",
              "2  8.099124  224.236259  19909.541732     9.275884         NaN    418.606213   \n",
              "\n",
              "   Organic_carbon  Trihalomethanes  Turbidity  Potability  \n",
              "0       10.379783        86.990970   2.963135           0  \n",
              "1       15.180013        56.329076   4.500656           0  \n",
              "2       16.868637        66.420093   3.055934           0  "
            ]
          },
          "execution_count": 14,
          "metadata": {},
          "output_type": "execute_result"
        }
      ],
      "source": [
        "data_clean.head(3)"
      ]
    },
    {
      "cell_type": "markdown",
      "metadata": {
        "id": "V9hOQLIuIin3"
      },
      "source": [
        "Melakukan visualisasi pada kolom target Potability "
      ]
    },
    {
      "cell_type": "code",
      "execution_count": 15,
      "metadata": {
        "colab": {
          "base_uri": "https://localhost:8080/"
        },
        "id": "Ns5GwtttNkX8",
        "outputId": "a5d87c53-b989-4677-c1ea-88a188accda8"
      },
      "outputs": [
        {
          "data": {
            "text/plain": [
              "0    1998\n",
              "1    1278\n",
              "Name: Potability, dtype: int64"
            ]
          },
          "execution_count": 15,
          "metadata": {},
          "output_type": "execute_result"
        }
      ],
      "source": [
        "data_clean.Potability.value_counts()"
      ]
    },
    {
      "cell_type": "code",
      "execution_count": 16,
      "metadata": {
        "colab": {
          "base_uri": "https://localhost:8080/",
          "height": 279
        },
        "id": "AaYaYbSFOKyY",
        "outputId": "4a96e400-5feb-4f53-bc83-03244849cfc2"
      },
      "outputs": [
        {
          "data": {
            "text/plain": [
              "<AxesSubplot:>"
            ]
          },
          "execution_count": 16,
          "metadata": {},
          "output_type": "execute_result"
        },
        {
          "data": {
            "image/png": "[encoded data removed]",
            "text/plain": [
              "<Figure size 432x288 with 1 Axes>"
            ]
          },
          "metadata": {
            "needs_background": "light"
          },
          "output_type": "display_data"
        }
      ],
      "source": [
        "data_clean['Potability'].value_counts().plot(kind='bar',color='lightblue')"
      ]
    },
    {
      "cell_type": "code",
      "execution_count": 17,
      "metadata": {
        "colab": {
          "base_uri": "https://localhost:8080/"
        },
        "id": "7y1rBXBdOQ_E",
        "outputId": "a49884e8-745c-457a-aef9-e0589666c7ff"
      },
      "outputs": [
        {
          "data": {
            "text/plain": [
              "60.98901098901099"
            ]
          },
          "execution_count": 17,
          "metadata": {},
          "output_type": "execute_result"
        }
      ],
      "source": [
        "1998/3276*100"
      ]
    },
    {
      "cell_type": "code",
      "execution_count": 18,
      "metadata": {
        "colab": {
          "base_uri": "https://localhost:8080/"
        },
        "id": "rqEACW6LOYEA",
        "outputId": "5fded51d-2b9c-4a43-eacf-50b9de1f40c9"
      },
      "outputs": [
        {
          "data": {
            "text/plain": [
              "39.010989010989015"
            ]
          },
          "execution_count": 18,
          "metadata": {},
          "output_type": "execute_result"
        }
      ],
      "source": [
        "1278/3276*100"
      ]
    },
    {
      "cell_type": "markdown",
      "metadata": {
        "id": "nUtDRMWyIobV"
      },
      "source": [
        "Dari visualisasi diatas didapatkan bahwa jumlah data yang terprediksi sebagai air yang dapat diminum lebih sedikit yaitu sebesar 39.01 %, dibandingkan dengan air yang tidak dapat diminum sebesar 60,98 %. Dari presentase didapatkan data Mild imbalance."
      ]
    },
    {
      "cell_type": "markdown",
      "metadata": {
        "id": "RNf3SDrqJIuk"
      },
      "source": [
        "Melihat visualisasi ph terhadap Potability"
      ]
    },
    {
      "cell_type": "code",
      "execution_count": 19,
      "metadata": {
        "colab": {
          "base_uri": "https://localhost:8080/",
          "height": 293
        },
        "id": "HYXEXdlyJnfo",
        "outputId": "a9fc3c53-7c92-4927-8730-8b325b6601a2"
      },
      "outputs": [
        {
          "data": {
            "text/plain": [
              "<AxesSubplot:xlabel='Potability'>"
            ]
          },
          "execution_count": 19,
          "metadata": {},
          "output_type": "execute_result"
        },
        {
          "data": {
            "image/png": "[encoded data removed]",
            "text/plain": [
              "<Figure size 432x288 with 1 Axes>"
            ]
          },
          "metadata": {
            "needs_background": "light"
          },
          "output_type": "display_data"
        }
      ],
      "source": [
        "data_clean.groupby('Potability')[['ph']].count().plot(kind='bar',color ='grey')"
      ]
    },
    {
      "cell_type": "code",
      "execution_count": 20,
      "metadata": {
        "colab": {
          "base_uri": "https://localhost:8080/",
          "height": 386
        },
        "id": "8mlxq49LU4Jk",
        "outputId": "6484a9ca-ddff-4132-cb81-ea8dd6589344"
      },
      "outputs": [
        {
          "data": {
            "text/plain": [
              "<seaborn.axisgrid.FacetGrid at 0x25a685e2be0>"
            ]
          },
          "execution_count": 20,
          "metadata": {},
          "output_type": "execute_result"
        },
        {
          "data": {
            "image/png": "[encoded data removed]",
            "text/plain": [
              "<Figure size 414.25x360 with 1 Axes>"
            ]
          },
          "metadata": {
            "needs_background": "light"
          },
          "output_type": "display_data"
        }
      ],
      "source": [
        "sns.displot(data=data_clean, x='ph', hue='Potability', kind='kde',palette='cubehelix' )"
      ]
    },
    {
      "cell_type": "markdown",
      "metadata": {
        "id": "7O-s909TOyy6"
      },
      "source": [
        "Dari kedua visualisasi diatas didapatkan bahwa data ph yang dapat diminum lebih sedikit dari pada ph yang tidak dapat diminum, jika dilihat dr grafiknya ph yang tepat yang bisa diterima untuk dikatakan dapat diminum adalah sekitar 6.52 atau 6.83 sesuai WHO standard. "
      ]
    },
    {
      "cell_type": "markdown",
      "metadata": {
        "id": "-wzmIsC9JRaf"
      },
      "source": [
        "Melihat visualisasi Turbidity terhadap ph "
      ]
    },
    {
      "cell_type": "code",
      "execution_count": 21,
      "metadata": {
        "colab": {
          "base_uri": "https://localhost:8080/",
          "height": 293
        },
        "id": "LEbYoJTFP8ae",
        "outputId": "c731c12c-d2d0-43f0-cd0b-9bf90e78909a"
      },
      "outputs": [
        {
          "data": {
            "text/plain": [
              "<AxesSubplot:xlabel='Potability'>"
            ]
          },
          "execution_count": 21,
          "metadata": {},
          "output_type": "execute_result"
        },
        {
          "data": {
            "image/png": "[encoded data removed]",
            "text/plain": [
              "<Figure size 432x288 with 1 Axes>"
            ]
          },
          "metadata": {
            "needs_background": "light"
          },
          "output_type": "display_data"
        }
      ],
      "source": [
        "data_clean.groupby('Potability')[['Turbidity']].count().plot(kind='bar',color ='grey')"
      ]
    },
    {
      "cell_type": "code",
      "execution_count": 22,
      "metadata": {
        "colab": {
          "base_uri": "https://localhost:8080/",
          "height": 386
        },
        "id": "vJyofqtTULQI",
        "outputId": "19c341e1-7329-4571-c1ab-7b713aca95e8"
      },
      "outputs": [
        {
          "data": {
            "text/plain": [
              "<seaborn.axisgrid.FacetGrid at 0x25a69c26a60>"
            ]
          },
          "execution_count": 22,
          "metadata": {},
          "output_type": "execute_result"
        },
        {
          "data": {
            "image/png": "[encoded data removed]",
            "text/plain": [
              "<Figure size 414.25x360 with 1 Axes>"
            ]
          },
          "metadata": {
            "needs_background": "light"
          },
          "output_type": "display_data"
        }
      ],
      "source": [
        "sns.displot(data=data_clean, x=\"Turbidity\", hue=\"Potability\", multiple=\"stack\",palette='Greys' )"
      ]
    },
    {
      "cell_type": "markdown",
      "metadata": {
        "id": "gpTiUSLTQLsu"
      },
      "source": [
        "Puncak dari nilai turbidity ada di angka 4 , dimana nilai nya dapat diterima sebegai air yang dapat diminum. Rekomendasi WHO untuk nilai turbidity ini adalah 5. "
      ]
    },
    {
      "cell_type": "markdown",
      "metadata": {
        "id": "NdyrximSQzGV"
      },
      "source": [
        "Melihat visualisasi Solids terhadap Potability"
      ]
    },
    {
      "cell_type": "code",
      "execution_count": 23,
      "metadata": {
        "colab": {
          "base_uri": "https://localhost:8080/"
        },
        "id": "qyfHNeiERlvq",
        "outputId": "5fbadb93-0ede-4c0b-e772-71bff6ab6019"
      },
      "outputs": [
        {
          "data": {
            "text/plain": [
              "22014.09252607711"
            ]
          },
          "execution_count": 23,
          "metadata": {},
          "output_type": "execute_result"
        }
      ],
      "source": [
        "data_clean.Solids.mean()"
      ]
    },
    {
      "cell_type": "code",
      "execution_count": 24,
      "metadata": {
        "colab": {
          "base_uri": "https://localhost:8080/",
          "height": 386
        },
        "id": "lhJvK1BkSUeE",
        "outputId": "7fd56888-16ba-4823-a7c3-b5b5d0c89fa3"
      },
      "outputs": [
        {
          "data": {
            "text/plain": [
              "<seaborn.axisgrid.FacetGrid at 0x25a69bbb5b0>"
            ]
          },
          "execution_count": 24,
          "metadata": {},
          "output_type": "execute_result"
        },
        {
          "data": {
            "image/png": "[encoded data removed]",
            "text/plain": [
              "<Figure size 414.25x360 with 1 Axes>"
            ]
          },
          "metadata": {
            "needs_background": "light"
          },
          "output_type": "display_data"
        }
      ],
      "source": [
        "sns.displot(data=data_clean, x='Solids', hue='Potability',palette='Set2')"
      ]
    },
    {
      "cell_type": "markdown",
      "metadata": {
        "id": "HIMIm7-lQ5d1"
      },
      "source": [
        "Batas yang diinginkan untuk TDS adalah 500 mg/l dan batas maksimum adalah 1000 mg/l yang ditentukan untuk tujuan minum, namun kita lihat di visualisasi diatas puncak data berada di 1000 lebih mengarah ke 2000. Rata-rata nilai solids / TDS pada data ini sebesar 22014. Jika nilai diatas itu maka tidak layak untuk diminum. "
      ]
    },
    {
      "cell_type": "markdown",
      "metadata": {
        "id": "zGKLBWl8SyCN"
      },
      "source": [
        "Melihat visualisasi Sulfate"
      ]
    },
    {
      "cell_type": "code",
      "execution_count": 25,
      "metadata": {
        "colab": {
          "base_uri": "https://localhost:8080/",
          "height": 296
        },
        "id": "5e7btcKzS0cs",
        "outputId": "4e2959bf-ad48-4366-a576-e2d580aa62f7"
      },
      "outputs": [
        {
          "data": {
            "text/plain": [
              "<AxesSubplot:xlabel='Sulfate', ylabel='Count'>"
            ]
          },
          "execution_count": 25,
          "metadata": {},
          "output_type": "execute_result"
        },
        {
          "data": {
            "image/png": "[encoded data removed]",
            "text/plain": [
              "<Figure size 432x288 with 1 Axes>"
            ]
          },
          "metadata": {
            "needs_background": "light"
          },
          "output_type": "display_data"
        }
      ],
      "source": [
        "sns.histplot(data_clean['Sulfate'],kde=True,color='grey',bins=20)"
      ]
    },
    {
      "cell_type": "markdown",
      "metadata": {
        "id": "_7UdDNKeYPmV"
      },
      "source": [
        "Nilai Sulfate terbanyak ada di angka 340, dan data nilainya umumnya berkisar dari 300 - 400.  "
      ]
    },
    {
      "cell_type": "markdown",
      "metadata": {
        "id": "swgqUo2STHc9"
      },
      "source": [
        "### Split Dataset "
      ]
    },
    {
      "cell_type": "markdown",
      "metadata": {
        "id": "Ywjwd4tbY5kg"
      },
      "source": [
        "Memisahkan data untuk model inference sebanyak 15 data dengan random_state sebesar 15."
      ]
    },
    {
      "cell_type": "code",
      "execution_count": 26,
      "metadata": {
        "colab": {
          "base_uri": "https://localhost:8080/",
          "height": 584
        },
        "id": "Kmxe5uCZSqpp",
        "outputId": "fa984d91-6468-49d3-e04d-204b6bc613a1"
      },
      "outputs": [
        {
          "data": {
            "text/html": [
              "<div>\n",
              "<style scoped>\n",
              "    .dataframe tbody tr th:only-of-type {\n",
              "        vertical-align: middle;\n",
              "    }\n",
              "\n",
              "    .dataframe tbody tr th {\n",
              "        vertical-align: top;\n",
              "    }\n",
              "\n",
              "    .dataframe thead th {\n",
              "        text-align: right;\n",
              "    }\n",
              "</style>\n",
              "<table border=\"1\" class=\"dataframe\">\n",
              "  <thead>\n",
              "    <tr style=\"text-align: right;\">\n",
              "      <th></th>\n",
              "      <th>ph</th>\n",
              "      <th>Hardness</th>\n",
              "      <th>Solids</th>\n",
              "      <th>Chloramines</th>\n",
              "      <th>Sulfate</th>\n",
              "      <th>Conductivity</th>\n",
              "      <th>Organic_carbon</th>\n",
              "      <th>Trihalomethanes</th>\n",
              "      <th>Turbidity</th>\n",
              "      <th>Potability</th>\n",
              "    </tr>\n",
              "  </thead>\n",
              "  <tbody>\n",
              "    <tr>\n",
              "      <th>3126</th>\n",
              "      <td>6.665774</td>\n",
              "      <td>155.709679</td>\n",
              "      <td>30610.047900</td>\n",
              "      <td>8.172548</td>\n",
              "      <td>337.173767</td>\n",
              "      <td>425.691956</td>\n",
              "      <td>15.101533</td>\n",
              "      <td>79.780467</td>\n",
              "      <td>4.903553</td>\n",
              "      <td>1</td>\n",
              "    </tr>\n",
              "    <tr>\n",
              "      <th>1730</th>\n",
              "      <td>6.185951</td>\n",
              "      <td>174.796123</td>\n",
              "      <td>22198.929420</td>\n",
              "      <td>7.608496</td>\n",
              "      <td>NaN</td>\n",
              "      <td>479.091845</td>\n",
              "      <td>13.744284</td>\n",
              "      <td>51.497112</td>\n",
              "      <td>5.205724</td>\n",
              "      <td>0</td>\n",
              "    </tr>\n",
              "    <tr>\n",
              "      <th>50</th>\n",
              "      <td>NaN</td>\n",
              "      <td>168.388431</td>\n",
              "      <td>27492.307307</td>\n",
              "      <td>7.046225</td>\n",
              "      <td>299.820478</td>\n",
              "      <td>383.795020</td>\n",
              "      <td>16.182066</td>\n",
              "      <td>75.729434</td>\n",
              "      <td>3.048057</td>\n",
              "      <td>0</td>\n",
              "    </tr>\n",
              "    <tr>\n",
              "      <th>426</th>\n",
              "      <td>6.887864</td>\n",
              "      <td>173.325022</td>\n",
              "      <td>19947.924178</td>\n",
              "      <td>7.488703</td>\n",
              "      <td>334.098023</td>\n",
              "      <td>441.002612</td>\n",
              "      <td>10.780501</td>\n",
              "      <td>89.005492</td>\n",
              "      <td>5.454488</td>\n",
              "      <td>0</td>\n",
              "    </tr>\n",
              "    <tr>\n",
              "      <th>1799</th>\n",
              "      <td>NaN</td>\n",
              "      <td>162.935371</td>\n",
              "      <td>24916.625585</td>\n",
              "      <td>6.374496</td>\n",
              "      <td>388.312725</td>\n",
              "      <td>494.288784</td>\n",
              "      <td>14.297696</td>\n",
              "      <td>84.802970</td>\n",
              "      <td>4.301273</td>\n",
              "      <td>0</td>\n",
              "    </tr>\n",
              "    <tr>\n",
              "      <th>777</th>\n",
              "      <td>8.589202</td>\n",
              "      <td>233.727975</td>\n",
              "      <td>7263.056749</td>\n",
              "      <td>6.953308</td>\n",
              "      <td>268.971355</td>\n",
              "      <td>258.880209</td>\n",
              "      <td>8.986363</td>\n",
              "      <td>41.930439</td>\n",
              "      <td>4.041446</td>\n",
              "      <td>1</td>\n",
              "    </tr>\n",
              "    <tr>\n",
              "      <th>2939</th>\n",
              "      <td>6.088022</td>\n",
              "      <td>162.278357</td>\n",
              "      <td>23567.132875</td>\n",
              "      <td>7.698582</td>\n",
              "      <td>372.835081</td>\n",
              "      <td>387.970635</td>\n",
              "      <td>13.663607</td>\n",
              "      <td>75.266064</td>\n",
              "      <td>4.173083</td>\n",
              "      <td>0</td>\n",
              "    </tr>\n",
              "    <tr>\n",
              "      <th>1230</th>\n",
              "      <td>7.943882</td>\n",
              "      <td>211.816551</td>\n",
              "      <td>32071.179369</td>\n",
              "      <td>7.769215</td>\n",
              "      <td>290.337398</td>\n",
              "      <td>353.336484</td>\n",
              "      <td>17.871950</td>\n",
              "      <td>78.492783</td>\n",
              "      <td>4.111691</td>\n",
              "      <td>0</td>\n",
              "    </tr>\n",
              "    <tr>\n",
              "      <th>312</th>\n",
              "      <td>NaN</td>\n",
              "      <td>161.826476</td>\n",
              "      <td>29299.123353</td>\n",
              "      <td>7.028797</td>\n",
              "      <td>350.430940</td>\n",
              "      <td>375.780716</td>\n",
              "      <td>19.762576</td>\n",
              "      <td>86.698457</td>\n",
              "      <td>3.497577</td>\n",
              "      <td>1</td>\n",
              "    </tr>\n",
              "    <tr>\n",
              "      <th>152</th>\n",
              "      <td>6.579969</td>\n",
              "      <td>197.226981</td>\n",
              "      <td>17657.084176</td>\n",
              "      <td>4.506293</td>\n",
              "      <td>290.289894</td>\n",
              "      <td>254.393276</td>\n",
              "      <td>9.847655</td>\n",
              "      <td>73.749716</td>\n",
              "      <td>4.575932</td>\n",
              "      <td>0</td>\n",
              "    </tr>\n",
              "    <tr>\n",
              "      <th>3252</th>\n",
              "      <td>4.868827</td>\n",
              "      <td>258.678959</td>\n",
              "      <td>13400.385532</td>\n",
              "      <td>4.880910</td>\n",
              "      <td>NaN</td>\n",
              "      <td>328.764529</td>\n",
              "      <td>17.352080</td>\n",
              "      <td>55.968217</td>\n",
              "      <td>3.255600</td>\n",
              "      <td>1</td>\n",
              "    </tr>\n",
              "    <tr>\n",
              "      <th>953</th>\n",
              "      <td>6.583065</td>\n",
              "      <td>163.361604</td>\n",
              "      <td>17977.693938</td>\n",
              "      <td>6.542088</td>\n",
              "      <td>NaN</td>\n",
              "      <td>383.124504</td>\n",
              "      <td>18.094544</td>\n",
              "      <td>44.136469</td>\n",
              "      <td>3.772859</td>\n",
              "      <td>0</td>\n",
              "    </tr>\n",
              "    <tr>\n",
              "      <th>1719</th>\n",
              "      <td>8.927906</td>\n",
              "      <td>188.054419</td>\n",
              "      <td>22139.878848</td>\n",
              "      <td>4.252721</td>\n",
              "      <td>376.334566</td>\n",
              "      <td>438.515587</td>\n",
              "      <td>8.597973</td>\n",
              "      <td>92.828321</td>\n",
              "      <td>5.474355</td>\n",
              "      <td>0</td>\n",
              "    </tr>\n",
              "    <tr>\n",
              "      <th>2035</th>\n",
              "      <td>5.763773</td>\n",
              "      <td>183.073629</td>\n",
              "      <td>22025.696606</td>\n",
              "      <td>8.952896</td>\n",
              "      <td>NaN</td>\n",
              "      <td>376.581389</td>\n",
              "      <td>10.547398</td>\n",
              "      <td>63.299757</td>\n",
              "      <td>3.253200</td>\n",
              "      <td>1</td>\n",
              "    </tr>\n",
              "    <tr>\n",
              "      <th>1131</th>\n",
              "      <td>NaN</td>\n",
              "      <td>259.144928</td>\n",
              "      <td>2808.025756</td>\n",
              "      <td>10.087062</td>\n",
              "      <td>392.833160</td>\n",
              "      <td>354.405278</td>\n",
              "      <td>13.898950</td>\n",
              "      <td>63.857674</td>\n",
              "      <td>4.081329</td>\n",
              "      <td>1</td>\n",
              "    </tr>\n",
              "  </tbody>\n",
              "</table>\n",
              "</div>"
            ],
            "text/plain": [
              "            ph    Hardness        Solids  Chloramines     Sulfate  \\\n",
              "3126  6.665774  155.709679  30610.047900     8.172548  337.173767   \n",
              "1730  6.185951  174.796123  22198.929420     7.608496         NaN   \n",
              "50         NaN  168.388431  27492.307307     7.046225  299.820478   \n",
              "426   6.887864  173.325022  19947.924178     7.488703  334.098023   \n",
              "1799       NaN  162.935371  24916.625585     6.374496  388.312725   \n",
              "777   8.589202  233.727975   7263.056749     6.953308  268.971355   \n",
              "2939  6.088022  162.278357  23567.132875     7.698582  372.835081   \n",
              "1230  7.943882  211.816551  32071.179369     7.769215  290.337398   \n",
              "312        NaN  161.826476  29299.123353     7.028797  350.430940   \n",
              "152   6.579969  197.226981  17657.084176     4.506293  290.289894   \n",
              "3252  4.868827  258.678959  13400.385532     4.880910         NaN   \n",
              "953   6.583065  163.361604  17977.693938     6.542088         NaN   \n",
              "1719  8.927906  188.054419  22139.878848     4.252721  376.334566   \n",
              "2035  5.763773  183.073629  22025.696606     8.952896         NaN   \n",
              "1131       NaN  259.144928   2808.025756    10.087062  392.833160   \n",
              "\n",
              "      Conductivity  Organic_carbon  Trihalomethanes  Turbidity  Potability  \n",
              "3126    425.691956       15.101533        79.780467   4.903553           1  \n",
              "1730    479.091845       13.744284        51.497112   5.205724           0  \n",
              "50      383.795020       16.182066        75.729434   3.048057           0  \n",
              "426     441.002612       10.780501        89.005492   5.454488           0  \n",
              "1799    494.288784       14.297696        84.802970   4.301273           0  \n",
              "777     258.880209        8.986363        41.930439   4.041446           1  \n",
              "2939    387.970635       13.663607        75.266064   4.173083           0  \n",
              "1230    353.336484       17.871950        78.492783   4.111691           0  \n",
              "312     375.780716       19.762576        86.698457   3.497577           1  \n",
              "152     254.393276        9.847655        73.749716   4.575932           0  \n",
              "3252    328.764529       17.352080        55.968217   3.255600           1  \n",
              "953     383.124504       18.094544        44.136469   3.772859           0  \n",
              "1719    438.515587        8.597973        92.828321   5.474355           0  \n",
              "2035    376.581389       10.547398        63.299757   3.253200           1  \n",
              "1131    354.405278       13.898950        63.857674   4.081329           1  "
            ]
          },
          "execution_count": 26,
          "metadata": {},
          "output_type": "execute_result"
        }
      ],
      "source": [
        "#data untuk model inference\n",
        "data_inf = data_clean.sample(15,random_state=15)\n",
        "data_inf"
      ]
    },
    {
      "cell_type": "code",
      "execution_count": 27,
      "metadata": {
        "colab": {
          "base_uri": "https://localhost:8080/",
          "height": 176
        },
        "id": "znvUBPasTWia",
        "outputId": "fb761156-2905-4eff-928e-bdd007adcbd5"
      },
      "outputs": [
        {
          "data": {
            "text/html": [
              "<div>\n",
              "<style scoped>\n",
              "    .dataframe tbody tr th:only-of-type {\n",
              "        vertical-align: middle;\n",
              "    }\n",
              "\n",
              "    .dataframe tbody tr th {\n",
              "        vertical-align: top;\n",
              "    }\n",
              "\n",
              "    .dataframe thead th {\n",
              "        text-align: right;\n",
              "    }\n",
              "</style>\n",
              "<table border=\"1\" class=\"dataframe\">\n",
              "  <thead>\n",
              "    <tr style=\"text-align: right;\">\n",
              "      <th></th>\n",
              "      <th>ph</th>\n",
              "      <th>Hardness</th>\n",
              "      <th>Solids</th>\n",
              "      <th>Chloramines</th>\n",
              "      <th>Sulfate</th>\n",
              "      <th>Conductivity</th>\n",
              "      <th>Organic_carbon</th>\n",
              "      <th>Trihalomethanes</th>\n",
              "      <th>Turbidity</th>\n",
              "      <th>Potability</th>\n",
              "    </tr>\n",
              "  </thead>\n",
              "  <tbody>\n",
              "    <tr>\n",
              "      <th>0</th>\n",
              "      <td>NaN</td>\n",
              "      <td>204.890455</td>\n",
              "      <td>20791.318981</td>\n",
              "      <td>7.300212</td>\n",
              "      <td>368.516441</td>\n",
              "      <td>564.308654</td>\n",
              "      <td>10.379783</td>\n",
              "      <td>86.990970</td>\n",
              "      <td>2.963135</td>\n",
              "      <td>0</td>\n",
              "    </tr>\n",
              "    <tr>\n",
              "      <th>1</th>\n",
              "      <td>3.71608</td>\n",
              "      <td>129.422921</td>\n",
              "      <td>18630.057858</td>\n",
              "      <td>6.635246</td>\n",
              "      <td>NaN</td>\n",
              "      <td>592.885359</td>\n",
              "      <td>15.180013</td>\n",
              "      <td>56.329076</td>\n",
              "      <td>4.500656</td>\n",
              "      <td>0</td>\n",
              "    </tr>\n",
              "  </tbody>\n",
              "</table>\n",
              "</div>"
            ],
            "text/plain": [
              "        ph    Hardness        Solids  Chloramines     Sulfate  Conductivity  \\\n",
              "0      NaN  204.890455  20791.318981     7.300212  368.516441    564.308654   \n",
              "1  3.71608  129.422921  18630.057858     6.635246         NaN    592.885359   \n",
              "\n",
              "   Organic_carbon  Trihalomethanes  Turbidity  Potability  \n",
              "0       10.379783        86.990970   2.963135           0  \n",
              "1       15.180013        56.329076   4.500656           0  "
            ]
          },
          "execution_count": 27,
          "metadata": {},
          "output_type": "execute_result"
        }
      ],
      "source": [
        "# Menghapus Inference-Set dari Dataset\n",
        "\n",
        "data_train_test = data_clean.drop(data_inf.index)\n",
        "data_train_test.head(2)"
      ]
    },
    {
      "cell_type": "code",
      "execution_count": 28,
      "metadata": {
        "colab": {
          "base_uri": "https://localhost:8080/",
          "height": 584
        },
        "id": "FjBV0REFTarf",
        "outputId": "25b7e7d8-43c2-4b39-d932-8116c2001ba4"
      },
      "outputs": [
        {
          "data": {
            "text/html": [
              "<div>\n",
              "<style scoped>\n",
              "    .dataframe tbody tr th:only-of-type {\n",
              "        vertical-align: middle;\n",
              "    }\n",
              "\n",
              "    .dataframe tbody tr th {\n",
              "        vertical-align: top;\n",
              "    }\n",
              "\n",
              "    .dataframe thead th {\n",
              "        text-align: right;\n",
              "    }\n",
              "</style>\n",
              "<table border=\"1\" class=\"dataframe\">\n",
              "  <thead>\n",
              "    <tr style=\"text-align: right;\">\n",
              "      <th></th>\n",
              "      <th>ph</th>\n",
              "      <th>Hardness</th>\n",
              "      <th>Solids</th>\n",
              "      <th>Chloramines</th>\n",
              "      <th>Sulfate</th>\n",
              "      <th>Conductivity</th>\n",
              "      <th>Organic_carbon</th>\n",
              "      <th>Trihalomethanes</th>\n",
              "      <th>Turbidity</th>\n",
              "      <th>Potability</th>\n",
              "    </tr>\n",
              "  </thead>\n",
              "  <tbody>\n",
              "    <tr>\n",
              "      <th>0</th>\n",
              "      <td>6.665774</td>\n",
              "      <td>155.709679</td>\n",
              "      <td>30610.047900</td>\n",
              "      <td>8.172548</td>\n",
              "      <td>337.173767</td>\n",
              "      <td>425.691956</td>\n",
              "      <td>15.101533</td>\n",
              "      <td>79.780467</td>\n",
              "      <td>4.903553</td>\n",
              "      <td>1</td>\n",
              "    </tr>\n",
              "    <tr>\n",
              "      <th>1</th>\n",
              "      <td>6.185951</td>\n",
              "      <td>174.796123</td>\n",
              "      <td>22198.929420</td>\n",
              "      <td>7.608496</td>\n",
              "      <td>NaN</td>\n",
              "      <td>479.091845</td>\n",
              "      <td>13.744284</td>\n",
              "      <td>51.497112</td>\n",
              "      <td>5.205724</td>\n",
              "      <td>0</td>\n",
              "    </tr>\n",
              "    <tr>\n",
              "      <th>2</th>\n",
              "      <td>NaN</td>\n",
              "      <td>168.388431</td>\n",
              "      <td>27492.307307</td>\n",
              "      <td>7.046225</td>\n",
              "      <td>299.820478</td>\n",
              "      <td>383.795020</td>\n",
              "      <td>16.182066</td>\n",
              "      <td>75.729434</td>\n",
              "      <td>3.048057</td>\n",
              "      <td>0</td>\n",
              "    </tr>\n",
              "    <tr>\n",
              "      <th>3</th>\n",
              "      <td>6.887864</td>\n",
              "      <td>173.325022</td>\n",
              "      <td>19947.924178</td>\n",
              "      <td>7.488703</td>\n",
              "      <td>334.098023</td>\n",
              "      <td>441.002612</td>\n",
              "      <td>10.780501</td>\n",
              "      <td>89.005492</td>\n",
              "      <td>5.454488</td>\n",
              "      <td>0</td>\n",
              "    </tr>\n",
              "    <tr>\n",
              "      <th>4</th>\n",
              "      <td>NaN</td>\n",
              "      <td>162.935371</td>\n",
              "      <td>24916.625585</td>\n",
              "      <td>6.374496</td>\n",
              "      <td>388.312725</td>\n",
              "      <td>494.288784</td>\n",
              "      <td>14.297696</td>\n",
              "      <td>84.802970</td>\n",
              "      <td>4.301273</td>\n",
              "      <td>0</td>\n",
              "    </tr>\n",
              "    <tr>\n",
              "      <th>5</th>\n",
              "      <td>8.589202</td>\n",
              "      <td>233.727975</td>\n",
              "      <td>7263.056749</td>\n",
              "      <td>6.953308</td>\n",
              "      <td>268.971355</td>\n",
              "      <td>258.880209</td>\n",
              "      <td>8.986363</td>\n",
              "      <td>41.930439</td>\n",
              "      <td>4.041446</td>\n",
              "      <td>1</td>\n",
              "    </tr>\n",
              "    <tr>\n",
              "      <th>6</th>\n",
              "      <td>6.088022</td>\n",
              "      <td>162.278357</td>\n",
              "      <td>23567.132875</td>\n",
              "      <td>7.698582</td>\n",
              "      <td>372.835081</td>\n",
              "      <td>387.970635</td>\n",
              "      <td>13.663607</td>\n",
              "      <td>75.266064</td>\n",
              "      <td>4.173083</td>\n",
              "      <td>0</td>\n",
              "    </tr>\n",
              "    <tr>\n",
              "      <th>7</th>\n",
              "      <td>7.943882</td>\n",
              "      <td>211.816551</td>\n",
              "      <td>32071.179369</td>\n",
              "      <td>7.769215</td>\n",
              "      <td>290.337398</td>\n",
              "      <td>353.336484</td>\n",
              "      <td>17.871950</td>\n",
              "      <td>78.492783</td>\n",
              "      <td>4.111691</td>\n",
              "      <td>0</td>\n",
              "    </tr>\n",
              "    <tr>\n",
              "      <th>8</th>\n",
              "      <td>NaN</td>\n",
              "      <td>161.826476</td>\n",
              "      <td>29299.123353</td>\n",
              "      <td>7.028797</td>\n",
              "      <td>350.430940</td>\n",
              "      <td>375.780716</td>\n",
              "      <td>19.762576</td>\n",
              "      <td>86.698457</td>\n",
              "      <td>3.497577</td>\n",
              "      <td>1</td>\n",
              "    </tr>\n",
              "    <tr>\n",
              "      <th>9</th>\n",
              "      <td>6.579969</td>\n",
              "      <td>197.226981</td>\n",
              "      <td>17657.084176</td>\n",
              "      <td>4.506293</td>\n",
              "      <td>290.289894</td>\n",
              "      <td>254.393276</td>\n",
              "      <td>9.847655</td>\n",
              "      <td>73.749716</td>\n",
              "      <td>4.575932</td>\n",
              "      <td>0</td>\n",
              "    </tr>\n",
              "    <tr>\n",
              "      <th>10</th>\n",
              "      <td>4.868827</td>\n",
              "      <td>258.678959</td>\n",
              "      <td>13400.385532</td>\n",
              "      <td>4.880910</td>\n",
              "      <td>NaN</td>\n",
              "      <td>328.764529</td>\n",
              "      <td>17.352080</td>\n",
              "      <td>55.968217</td>\n",
              "      <td>3.255600</td>\n",
              "      <td>1</td>\n",
              "    </tr>\n",
              "    <tr>\n",
              "      <th>11</th>\n",
              "      <td>6.583065</td>\n",
              "      <td>163.361604</td>\n",
              "      <td>17977.693938</td>\n",
              "      <td>6.542088</td>\n",
              "      <td>NaN</td>\n",
              "      <td>383.124504</td>\n",
              "      <td>18.094544</td>\n",
              "      <td>44.136469</td>\n",
              "      <td>3.772859</td>\n",
              "      <td>0</td>\n",
              "    </tr>\n",
              "    <tr>\n",
              "      <th>12</th>\n",
              "      <td>8.927906</td>\n",
              "      <td>188.054419</td>\n",
              "      <td>22139.878848</td>\n",
              "      <td>4.252721</td>\n",
              "      <td>376.334566</td>\n",
              "      <td>438.515587</td>\n",
              "      <td>8.597973</td>\n",
              "      <td>92.828321</td>\n",
              "      <td>5.474355</td>\n",
              "      <td>0</td>\n",
              "    </tr>\n",
              "    <tr>\n",
              "      <th>13</th>\n",
              "      <td>5.763773</td>\n",
              "      <td>183.073629</td>\n",
              "      <td>22025.696606</td>\n",
              "      <td>8.952896</td>\n",
              "      <td>NaN</td>\n",
              "      <td>376.581389</td>\n",
              "      <td>10.547398</td>\n",
              "      <td>63.299757</td>\n",
              "      <td>3.253200</td>\n",
              "      <td>1</td>\n",
              "    </tr>\n",
              "    <tr>\n",
              "      <th>14</th>\n",
              "      <td>NaN</td>\n",
              "      <td>259.144928</td>\n",
              "      <td>2808.025756</td>\n",
              "      <td>10.087062</td>\n",
              "      <td>392.833160</td>\n",
              "      <td>354.405278</td>\n",
              "      <td>13.898950</td>\n",
              "      <td>63.857674</td>\n",
              "      <td>4.081329</td>\n",
              "      <td>1</td>\n",
              "    </tr>\n",
              "  </tbody>\n",
              "</table>\n",
              "</div>"
            ],
            "text/plain": [
              "          ph    Hardness        Solids  Chloramines     Sulfate  Conductivity  \\\n",
              "0   6.665774  155.709679  30610.047900     8.172548  337.173767    425.691956   \n",
              "1   6.185951  174.796123  22198.929420     7.608496         NaN    479.091845   \n",
              "2        NaN  168.388431  27492.307307     7.046225  299.820478    383.795020   \n",
              "3   6.887864  173.325022  19947.924178     7.488703  334.098023    441.002612   \n",
              "4        NaN  162.935371  24916.625585     6.374496  388.312725    494.288784   \n",
              "5   8.589202  233.727975   7263.056749     6.953308  268.971355    258.880209   \n",
              "6   6.088022  162.278357  23567.132875     7.698582  372.835081    387.970635   \n",
              "7   7.943882  211.816551  32071.179369     7.769215  290.337398    353.336484   \n",
              "8        NaN  161.826476  29299.123353     7.028797  350.430940    375.780716   \n",
              "9   6.579969  197.226981  17657.084176     4.506293  290.289894    254.393276   \n",
              "10  4.868827  258.678959  13400.385532     4.880910         NaN    328.764529   \n",
              "11  6.583065  163.361604  17977.693938     6.542088         NaN    383.124504   \n",
              "12  8.927906  188.054419  22139.878848     4.252721  376.334566    438.515587   \n",
              "13  5.763773  183.073629  22025.696606     8.952896         NaN    376.581389   \n",
              "14       NaN  259.144928   2808.025756    10.087062  392.833160    354.405278   \n",
              "\n",
              "    Organic_carbon  Trihalomethanes  Turbidity  Potability  \n",
              "0        15.101533        79.780467   4.903553           1  \n",
              "1        13.744284        51.497112   5.205724           0  \n",
              "2        16.182066        75.729434   3.048057           0  \n",
              "3        10.780501        89.005492   5.454488           0  \n",
              "4        14.297696        84.802970   4.301273           0  \n",
              "5         8.986363        41.930439   4.041446           1  \n",
              "6        13.663607        75.266064   4.173083           0  \n",
              "7        17.871950        78.492783   4.111691           0  \n",
              "8        19.762576        86.698457   3.497577           1  \n",
              "9         9.847655        73.749716   4.575932           0  \n",
              "10       17.352080        55.968217   3.255600           1  \n",
              "11       18.094544        44.136469   3.772859           0  \n",
              "12        8.597973        92.828321   5.474355           0  \n",
              "13       10.547398        63.299757   3.253200           1  \n",
              "14       13.898950        63.857674   4.081329           1  "
            ]
          },
          "execution_count": 28,
          "metadata": {},
          "output_type": "execute_result"
        }
      ],
      "source": [
        "# Reset Index \n",
        "\n",
        "data_train_test.reset_index(drop=True, inplace=True) \n",
        "data_inf.reset_index(drop=True, inplace=True)\n",
        "data_inf"
      ]
    },
    {
      "cell_type": "markdown",
      "metadata": {
        "id": "B6Z4JXkRZCpH"
      },
      "source": [
        "Split data kedalam x dan y sebagai fitur dan target yang akan digunakan sebagai target adalah Potability dan sisanya adalah feature, data dibagi kedalan x train, y train, xtest dan y test"
      ]
    },
    {
      "cell_type": "code",
      "execution_count": 29,
      "metadata": {
        "colab": {
          "base_uri": "https://localhost:8080/"
        },
        "id": "u2TudfhXYDPH",
        "outputId": "4649a401-7329-4079-a313-61b7091be1af"
      },
      "outputs": [
        {
          "name": "stdout",
          "output_type": "stream",
          "text": [
            "(2282, 9)\n",
            "(979, 9)\n",
            "(2282,)\n",
            "(979,)\n"
          ]
        }
      ],
      "source": [
        "# define feature and target\n",
        "X = data_train_test.drop('Potability', axis=1)\n",
        "y = data_train_test['Potability']\n",
        "\n",
        "X_train, X_test, y_train, y_test = train_test_split(X, y, test_size=0.3, stratify=y, random_state=0)\n",
        "for i in [X_train, X_test, y_train, y_test]:\n",
        "    print(i.shape)"
      ]
    },
    {
      "cell_type": "markdown",
      "metadata": {
        "id": "gzWhiIezZKye"
      },
      "source": [
        "Menggabungkan xtrain dan ytrain untuk modelling"
      ]
    },
    {
      "cell_type": "code",
      "execution_count": 30,
      "metadata": {
        "colab": {
          "base_uri": "https://localhost:8080/"
        },
        "id": "F8xERtL2JKuN",
        "outputId": "1095d41f-28c2-4551-feb4-6f078f1225ee"
      },
      "outputs": [
        {
          "data": {
            "text/plain": [
              "(2282, 10)"
            ]
          },
          "execution_count": 30,
          "metadata": {},
          "output_type": "execute_result"
        }
      ],
      "source": [
        "data_eda = pd.concat([X_train, y_train], axis=1)\n",
        "data_eda.shape"
      ]
    },
    {
      "cell_type": "code",
      "execution_count": 31,
      "metadata": {
        "colab": {
          "base_uri": "https://localhost:8080/",
          "height": 207
        },
        "id": "0CoyXquzJT9x",
        "outputId": "4d2442c0-12f1-4cbe-f120-5d6c25cea337"
      },
      "outputs": [
        {
          "data": {
            "text/html": [
              "<div>\n",
              "<style scoped>\n",
              "    .dataframe tbody tr th:only-of-type {\n",
              "        vertical-align: middle;\n",
              "    }\n",
              "\n",
              "    .dataframe tbody tr th {\n",
              "        vertical-align: top;\n",
              "    }\n",
              "\n",
              "    .dataframe thead th {\n",
              "        text-align: right;\n",
              "    }\n",
              "</style>\n",
              "<table border=\"1\" class=\"dataframe\">\n",
              "  <thead>\n",
              "    <tr style=\"text-align: right;\">\n",
              "      <th></th>\n",
              "      <th>ph</th>\n",
              "      <th>Hardness</th>\n",
              "      <th>Solids</th>\n",
              "      <th>Chloramines</th>\n",
              "      <th>Sulfate</th>\n",
              "      <th>Conductivity</th>\n",
              "      <th>Organic_carbon</th>\n",
              "      <th>Trihalomethanes</th>\n",
              "      <th>Turbidity</th>\n",
              "      <th>Potability</th>\n",
              "    </tr>\n",
              "  </thead>\n",
              "  <tbody>\n",
              "    <tr>\n",
              "      <th>1651</th>\n",
              "      <td>8.205447</td>\n",
              "      <td>145.797317</td>\n",
              "      <td>17981.254776</td>\n",
              "      <td>6.580460</td>\n",
              "      <td>359.392567</td>\n",
              "      <td>420.394223</td>\n",
              "      <td>15.856797</td>\n",
              "      <td>100.712306</td>\n",
              "      <td>3.739922</td>\n",
              "      <td>0</td>\n",
              "    </tr>\n",
              "    <tr>\n",
              "      <th>1215</th>\n",
              "      <td>8.151249</td>\n",
              "      <td>205.847301</td>\n",
              "      <td>15661.940335</td>\n",
              "      <td>7.009437</td>\n",
              "      <td>335.622779</td>\n",
              "      <td>555.590284</td>\n",
              "      <td>14.861133</td>\n",
              "      <td>72.762585</td>\n",
              "      <td>2.799883</td>\n",
              "      <td>1</td>\n",
              "    </tr>\n",
              "    <tr>\n",
              "      <th>1094</th>\n",
              "      <td>NaN</td>\n",
              "      <td>213.041191</td>\n",
              "      <td>12036.643044</td>\n",
              "      <td>9.794730</td>\n",
              "      <td>349.171395</td>\n",
              "      <td>284.017995</td>\n",
              "      <td>12.419906</td>\n",
              "      <td>74.674383</td>\n",
              "      <td>3.898916</td>\n",
              "      <td>1</td>\n",
              "    </tr>\n",
              "  </tbody>\n",
              "</table>\n",
              "</div>"
            ],
            "text/plain": [
              "            ph    Hardness        Solids  Chloramines     Sulfate  \\\n",
              "1651  8.205447  145.797317  17981.254776     6.580460  359.392567   \n",
              "1215  8.151249  205.847301  15661.940335     7.009437  335.622779   \n",
              "1094       NaN  213.041191  12036.643044     9.794730  349.171395   \n",
              "\n",
              "      Conductivity  Organic_carbon  Trihalomethanes  Turbidity  Potability  \n",
              "1651    420.394223       15.856797       100.712306   3.739922           0  \n",
              "1215    555.590284       14.861133        72.762585   2.799883           1  \n",
              "1094    284.017995       12.419906        74.674383   3.898916           1  "
            ]
          },
          "execution_count": 31,
          "metadata": {},
          "output_type": "execute_result"
        }
      ],
      "source": [
        "data_eda.head(3)"
      ]
    },
    {
      "cell_type": "markdown",
      "metadata": {
        "id": "GnmB-LTsZQbw"
      },
      "source": [
        "### EDA for Modeling"
      ]
    },
    {
      "cell_type": "code",
      "execution_count": 32,
      "metadata": {
        "id": "EpbTnhAG36gk"
      },
      "outputs": [],
      "source": [
        "X_train_eda = X_train.copy()"
      ]
    },
    {
      "cell_type": "markdown",
      "metadata": {
        "id": "n1xBVhBAZSHh"
      },
      "source": [
        "Memisahkan data antara numerical dan kategorical"
      ]
    },
    {
      "cell_type": "code",
      "execution_count": 33,
      "metadata": {
        "id": "K0d-ZlBxewQ_"
      },
      "outputs": [],
      "source": [
        "numss = data_eda[['ph','Hardness','Solids','Chloramines','Sulfate','Conductivity','Organic_carbon','Trihalomethanes','Turbidity']].columns.tolist()\n",
        "catss = data_eda[['Potability']].columns.tolist()"
      ]
    },
    {
      "cell_type": "markdown",
      "metadata": {
        "id": "0OJchfSjJrRy"
      },
      "source": [
        "### Numerical Feature"
      ]
    },
    {
      "cell_type": "markdown",
      "metadata": {
        "id": "0Hv4J-EQZYqr"
      },
      "source": [
        "Melihat berapa nilai skew dari kolom numerical"
      ]
    },
    {
      "cell_type": "code",
      "execution_count": 34,
      "metadata": {
        "colab": {
          "base_uri": "https://localhost:8080/",
          "height": 332
        },
        "id": "IKNaMu3-JtJe",
        "outputId": "940e9c72-c0c7-4b01-ff78-b17efb101881"
      },
      "outputs": [
        {
          "data": {
            "text/html": [
              "<div>\n",
              "<style scoped>\n",
              "    .dataframe tbody tr th:only-of-type {\n",
              "        vertical-align: middle;\n",
              "    }\n",
              "\n",
              "    .dataframe tbody tr th {\n",
              "        vertical-align: top;\n",
              "    }\n",
              "\n",
              "    .dataframe thead th {\n",
              "        text-align: right;\n",
              "    }\n",
              "</style>\n",
              "<table border=\"1\" class=\"dataframe\">\n",
              "  <thead>\n",
              "    <tr style=\"text-align: right;\">\n",
              "      <th></th>\n",
              "      <th>distribusi</th>\n",
              "    </tr>\n",
              "  </thead>\n",
              "  <tbody>\n",
              "    <tr>\n",
              "      <th>ph</th>\n",
              "      <td>-0.029161</td>\n",
              "    </tr>\n",
              "    <tr>\n",
              "      <th>Hardness</th>\n",
              "      <td>0.028982</td>\n",
              "    </tr>\n",
              "    <tr>\n",
              "      <th>Solids</th>\n",
              "      <td>0.564630</td>\n",
              "    </tr>\n",
              "    <tr>\n",
              "      <th>Chloramines</th>\n",
              "      <td>0.031708</td>\n",
              "    </tr>\n",
              "    <tr>\n",
              "      <th>Sulfate</th>\n",
              "      <td>-0.049612</td>\n",
              "    </tr>\n",
              "    <tr>\n",
              "      <th>Conductivity</th>\n",
              "      <td>0.266491</td>\n",
              "    </tr>\n",
              "    <tr>\n",
              "      <th>Organic_carbon</th>\n",
              "      <td>0.011879</td>\n",
              "    </tr>\n",
              "    <tr>\n",
              "      <th>Trihalomethanes</th>\n",
              "      <td>-0.053424</td>\n",
              "    </tr>\n",
              "    <tr>\n",
              "      <th>Turbidity</th>\n",
              "      <td>0.017436</td>\n",
              "    </tr>\n",
              "  </tbody>\n",
              "</table>\n",
              "</div>"
            ],
            "text/plain": [
              "                 distribusi\n",
              "ph                -0.029161\n",
              "Hardness           0.028982\n",
              "Solids             0.564630\n",
              "Chloramines        0.031708\n",
              "Sulfate           -0.049612\n",
              "Conductivity       0.266491\n",
              "Organic_carbon     0.011879\n",
              "Trihalomethanes   -0.053424\n",
              "Turbidity          0.017436"
            ]
          },
          "execution_count": 34,
          "metadata": {},
          "output_type": "execute_result"
        }
      ],
      "source": [
        "skew = data_eda[numss].skew()\n",
        "nilai_skew = pd.DataFrame(skew)\n",
        "nilai_skew.columns =['distribusi']\n",
        "\n",
        "nilai_skew"
      ]
    },
    {
      "cell_type": "markdown",
      "metadata": {
        "id": "2C3lJGJCZggb"
      },
      "source": [
        "Mari kita lihat lebih lanjut dengan menyeleksi apakah termasuk distribusi normal atau tidak normal. "
      ]
    },
    {
      "cell_type": "code",
      "execution_count": 35,
      "metadata": {
        "colab": {
          "base_uri": "https://localhost:8080/",
          "height": 525
        },
        "id": "Kn2-3LN7NVKc",
        "outputId": "14446422-556a-4e03-f00d-8302e9eba402"
      },
      "outputs": [
        {
          "name": "stderr",
          "output_type": "stream",
          "text": [
            "C:\\Users\\lenovo\\AppData\\Local\\Temp\\ipykernel_5292\\679040175.py:4: SettingWithCopyWarning: \n",
            "A value is trying to be set on a copy of a slice from a DataFrame\n",
            "\n",
            "See the caveats in the documentation: https://pandas.pydata.org/pandas-docs/stable/user_guide/indexing.html#returning-a-view-versus-a-copy\n",
            "  nilai_skew['skew'][i]='distribusi normal'\n"
          ]
        },
        {
          "data": {
            "text/html": [
              "<div>\n",
              "<style scoped>\n",
              "    .dataframe tbody tr th:only-of-type {\n",
              "        vertical-align: middle;\n",
              "    }\n",
              "\n",
              "    .dataframe tbody tr th {\n",
              "        vertical-align: top;\n",
              "    }\n",
              "\n",
              "    .dataframe thead th {\n",
              "        text-align: right;\n",
              "    }\n",
              "</style>\n",
              "<table border=\"1\" class=\"dataframe\">\n",
              "  <thead>\n",
              "    <tr style=\"text-align: right;\">\n",
              "      <th></th>\n",
              "      <th>distribusi</th>\n",
              "      <th>skew</th>\n",
              "    </tr>\n",
              "  </thead>\n",
              "  <tbody>\n",
              "    <tr>\n",
              "      <th>ph</th>\n",
              "      <td>-0.029161</td>\n",
              "      <td>distribusi normal</td>\n",
              "    </tr>\n",
              "    <tr>\n",
              "      <th>Hardness</th>\n",
              "      <td>0.028982</td>\n",
              "      <td>distribusi normal</td>\n",
              "    </tr>\n",
              "    <tr>\n",
              "      <th>Solids</th>\n",
              "      <td>0.564630</td>\n",
              "      <td>distribusi tidak normal</td>\n",
              "    </tr>\n",
              "    <tr>\n",
              "      <th>Chloramines</th>\n",
              "      <td>0.031708</td>\n",
              "      <td>distribusi normal</td>\n",
              "    </tr>\n",
              "    <tr>\n",
              "      <th>Sulfate</th>\n",
              "      <td>-0.049612</td>\n",
              "      <td>distribusi normal</td>\n",
              "    </tr>\n",
              "    <tr>\n",
              "      <th>Conductivity</th>\n",
              "      <td>0.266491</td>\n",
              "      <td>distribusi normal</td>\n",
              "    </tr>\n",
              "    <tr>\n",
              "      <th>Organic_carbon</th>\n",
              "      <td>0.011879</td>\n",
              "      <td>distribusi normal</td>\n",
              "    </tr>\n",
              "    <tr>\n",
              "      <th>Trihalomethanes</th>\n",
              "      <td>-0.053424</td>\n",
              "      <td>distribusi normal</td>\n",
              "    </tr>\n",
              "    <tr>\n",
              "      <th>Turbidity</th>\n",
              "      <td>0.017436</td>\n",
              "      <td>distribusi normal</td>\n",
              "    </tr>\n",
              "  </tbody>\n",
              "</table>\n",
              "</div>"
            ],
            "text/plain": [
              "                 distribusi                     skew\n",
              "ph                -0.029161        distribusi normal\n",
              "Hardness           0.028982        distribusi normal\n",
              "Solids             0.564630  distribusi tidak normal\n",
              "Chloramines        0.031708        distribusi normal\n",
              "Sulfate           -0.049612        distribusi normal\n",
              "Conductivity       0.266491        distribusi normal\n",
              "Organic_carbon     0.011879        distribusi normal\n",
              "Trihalomethanes   -0.053424        distribusi normal\n",
              "Turbidity          0.017436        distribusi normal"
            ]
          },
          "execution_count": 35,
          "metadata": {},
          "output_type": "execute_result"
        }
      ],
      "source": [
        "nilai_skew['skew']=0\n",
        "for i in nilai_skew.index:\n",
        "  if (nilai_skew[\"distribusi\"][i]>= -0.5) & (nilai_skew[\"distribusi\"][i] <= 0.5):\n",
        "    nilai_skew['skew'][i]='distribusi normal'\n",
        "  else:\n",
        "    nilai_skew['skew'][i]='distribusi tidak normal'\n",
        "nilai_skew"
      ]
    },
    {
      "cell_type": "code",
      "execution_count": 36,
      "metadata": {
        "id": "USoMJXedNgRV"
      },
      "outputs": [],
      "source": [
        "# new variable for plot purpose\n",
        "numerical = data_eda[numss]"
      ]
    },
    {
      "cell_type": "code",
      "execution_count": 37,
      "metadata": {
        "id": "oeSdPdsENnlo"
      },
      "outputs": [],
      "source": [
        "def diagnostic_plots(numerical, variable):\n",
        "    # Define figure size\n",
        "    plt.figure(figsize=(16, 4))\n",
        "\n",
        "    # Histogram\n",
        "    plt.subplot(1, 2, 1)\n",
        "    sns.histplot(numerical[variable], bins=30)\n",
        "    plt.title('Histogram')\n",
        "\n",
        "    # Boxplot\n",
        "    plt.subplot(1, 2, 2)\n",
        "    sns.boxplot(y=numerical[variable])\n",
        "    plt.title('Boxplot')\n",
        "\n",
        "    plt.show()"
      ]
    },
    {
      "cell_type": "code",
      "execution_count": 38,
      "metadata": {
        "colab": {
          "base_uri": "https://localhost:8080/",
          "height": 1000
        },
        "id": "QGPdhHWiNrP1",
        "outputId": "676d37c2-a2b0-4681-ff4e-bbe9032fc338"
      },
      "outputs": [
        {
          "data": {
            "image/png": "[encoded data removed]",
            "text/plain": [
              "<Figure size 1152x288 with 2 Axes>"
            ]
          },
          "metadata": {
            "needs_background": "light"
          },
          "output_type": "display_data"
        },
        {
          "data": {
            "image/png": "[encoded data removed]",
            "text/plain": [
              "<Figure size 1152x288 with 2 Axes>"
            ]
          },
          "metadata": {
            "needs_background": "light"
          },
          "output_type": "display_data"
        },
        {
          "data": {
            "image/png": "[encoded data removed]",
            "text/plain": [
              "<Figure size 1152x288 with 2 Axes>"
            ]
          },
          "metadata": {
            "needs_background": "light"
          },
          "output_type": "display_data"
        },
        {
          "data": {
            "image/png": "[encoded data removed]",
            "text/plain": [
              "<Figure size 1152x288 with 2 Axes>"
            ]
          },
          "metadata": {
            "needs_background": "light"
          },
          "output_type": "display_data"
        },
        {
          "data": {
            "image/png": "[encoded data removed]",
            "text/plain": [
              "<Figure size 1152x288 with 2 Axes>"
            ]
          },
          "metadata": {
            "needs_background": "light"
          },
          "output_type": "display_data"
        },
        {
          "data": {
            "image/png": "[encoded data removed]",
            "text/plain": [
              "<Figure size 1152x288 with 2 Axes>"
            ]
          },
          "metadata": {
            "needs_background": "light"
          },
          "output_type": "display_data"
        },
        {
          "data": {
            "image/png": "[encoded data removed]",
            "text/plain": [
              "<Figure size 1152x288 with 2 Axes>"
            ]
          },
          "metadata": {
            "needs_background": "light"
          },
          "output_type": "display_data"
        },
        {
          "data": {
            "image/png": "[encoded data removed]",
            "text/plain": [
              "<Figure size 1152x288 with 2 Axes>"
            ]
          },
          "metadata": {
            "needs_background": "light"
          },
          "output_type": "display_data"
        },
        {
          "data": {
            "image/png": "[encoded data removed]",
            "text/plain": [
              "<Figure size 1152x288 with 2 Axes>"
            ]
          },
          "metadata": {
            "needs_background": "light"
          },
          "output_type": "display_data"
        }
      ],
      "source": [
        "diagnostic_plots(numerical, 'ph')\n",
        "diagnostic_plots(numerical, 'Hardness')\n",
        "diagnostic_plots(numerical, 'Solids')\n",
        "diagnostic_plots(numerical, 'Chloramines')\n",
        "diagnostic_plots(numerical, 'Sulfate')\n",
        "diagnostic_plots(numerical, 'Conductivity')\n",
        "diagnostic_plots(numerical, 'Organic_carbon')\n",
        "diagnostic_plots(numerical, 'Trihalomethanes')\n",
        "diagnostic_plots(numerical, 'Turbidity')"
      ]
    },
    {
      "cell_type": "code",
      "execution_count": 39,
      "metadata": {
        "colab": {
          "base_uri": "https://localhost:8080/"
        },
        "id": "dE2JW5h6OXcx",
        "outputId": "824f60cc-d0e8-4c9a-ac94-a78e2c8bffaa"
      },
      "outputs": [
        {
          "name": "stdout",
          "output_type": "stream",
          "text": [
            "ph\n",
            "count of outlier:  13\n",
            "percent k of outlier:  0.5696757230499562 %\n",
            "======================================================================\n",
            "Hardness\n",
            "count of outlier:  10\n",
            "percent k of outlier:  0.43821209465381245 %\n",
            "======================================================================\n",
            "Solids\n",
            "count of outlier:  15\n",
            "percent k of outlier:  0.6573181419807186 %\n",
            "======================================================================\n",
            "Chloramines\n",
            "count of outlier:  17\n",
            "percent k of outlier:  0.7449605609114811 %\n",
            "======================================================================\n",
            "Sulfate\n",
            "count of outlier:  12\n",
            "percent k of outlier:  0.5258545135845749 %\n",
            "======================================================================\n",
            "Conductivity\n",
            "count of outlier:  4\n",
            "percent k of outlier:  0.175284837861525 %\n",
            "======================================================================\n",
            "Organic_carbon\n",
            "count of outlier:  4\n",
            "percent k of outlier:  0.175284837861525 %\n",
            "======================================================================\n",
            "Trihalomethanes\n",
            "count of outlier:  6\n",
            "percent k of outlier:  0.26292725679228746 %\n",
            "======================================================================\n",
            "Turbidity\n",
            "count of outlier:  5\n",
            "percent k of outlier:  0.21910604732690622 %\n",
            "======================================================================\n"
          ]
        }
      ],
      "source": [
        "for k in numerical:\n",
        "  mean = numerical[k].mean()\n",
        "  std = numerical[k].std()\n",
        "\n",
        "  upper = mean + (3 * std)\n",
        "  lower = mean - (3 * std)\n",
        "\n",
        "  outlier = numerical[(numerical[k] > upper) | (numerical[k] < lower)]\n",
        "  print(k)\n",
        "  print('count of outlier: ', outlier.shape[0])\n",
        "  print('percent k of outlier: ', outlier.shape[0]/numerical.shape[0] * 100, '%')\n",
        "  print('='*70)"
      ]
    },
    {
      "cell_type": "markdown",
      "metadata": {
        "id": "5s734BpDZm6X"
      },
      "source": [
        "Dari perbandingan skew nya kita lihat ada 48 distribusi  normal dan 1 normal,kemudian ditemukan juga adanya outlier. Kita akan menghandling outlier dari masing-masing kolom numerical dengan menggunakan metode capping."
      ]
    },
    {
      "cell_type": "markdown",
      "metadata": {
        "id": "FcQqy1PWaSto"
      },
      "source": [
        "#### Handling Outlier"
      ]
    },
    {
      "cell_type": "code",
      "execution_count": 40,
      "metadata": {
        "colab": {
          "base_uri": "https://localhost:8080/",
          "height": 364
        },
        "id": "J47HK0lEddqN",
        "outputId": "b1aa5f7b-83ed-4f61-a3de-0c3ecdc62a30"
      },
      "outputs": [
        {
          "data": {
            "text/html": [
              "<div>\n",
              "<style scoped>\n",
              "    .dataframe tbody tr th:only-of-type {\n",
              "        vertical-align: middle;\n",
              "    }\n",
              "\n",
              "    .dataframe tbody tr th {\n",
              "        vertical-align: top;\n",
              "    }\n",
              "\n",
              "    .dataframe thead th {\n",
              "        text-align: right;\n",
              "    }\n",
              "</style>\n",
              "<table border=\"1\" class=\"dataframe\">\n",
              "  <thead>\n",
              "    <tr style=\"text-align: right;\">\n",
              "      <th></th>\n",
              "      <th>ph</th>\n",
              "      <th>Hardness</th>\n",
              "      <th>Solids</th>\n",
              "      <th>Chloramines</th>\n",
              "      <th>Sulfate</th>\n",
              "      <th>Conductivity</th>\n",
              "      <th>Organic_carbon</th>\n",
              "      <th>Trihalomethanes</th>\n",
              "      <th>Turbidity</th>\n",
              "    </tr>\n",
              "  </thead>\n",
              "  <tbody>\n",
              "    <tr>\n",
              "      <th>count</th>\n",
              "      <td>1933.000000</td>\n",
              "      <td>2282.000000</td>\n",
              "      <td>2282.000000</td>\n",
              "      <td>2282.000000</td>\n",
              "      <td>1741.000000</td>\n",
              "      <td>2282.000000</td>\n",
              "      <td>2282.000000</td>\n",
              "      <td>2180.000000</td>\n",
              "      <td>2282.000000</td>\n",
              "    </tr>\n",
              "    <tr>\n",
              "      <th>mean</th>\n",
              "      <td>7.104166</td>\n",
              "      <td>196.467569</td>\n",
              "      <td>21946.725890</td>\n",
              "      <td>7.110382</td>\n",
              "      <td>334.003674</td>\n",
              "      <td>427.056189</td>\n",
              "      <td>14.315648</td>\n",
              "      <td>66.570104</td>\n",
              "      <td>3.962013</td>\n",
              "    </tr>\n",
              "    <tr>\n",
              "      <th>std</th>\n",
              "      <td>1.593494</td>\n",
              "      <td>32.498400</td>\n",
              "      <td>8647.533174</td>\n",
              "      <td>1.584440</td>\n",
              "      <td>40.746258</td>\n",
              "      <td>80.997011</td>\n",
              "      <td>3.295476</td>\n",
              "      <td>16.157200</td>\n",
              "      <td>0.783966</td>\n",
              "    </tr>\n",
              "    <tr>\n",
              "      <th>min</th>\n",
              "      <td>2.245843</td>\n",
              "      <td>98.563069</td>\n",
              "      <td>320.942611</td>\n",
              "      <td>2.307375</td>\n",
              "      <td>210.807703</td>\n",
              "      <td>183.606042</td>\n",
              "      <td>4.391956</td>\n",
              "      <td>18.001395</td>\n",
              "      <td>1.608347</td>\n",
              "    </tr>\n",
              "    <tr>\n",
              "      <th>25%</th>\n",
              "      <td>6.090016</td>\n",
              "      <td>176.906944</td>\n",
              "      <td>15553.848086</td>\n",
              "      <td>6.121061</td>\n",
              "      <td>308.594810</td>\n",
              "      <td>366.407590</td>\n",
              "      <td>12.122530</td>\n",
              "      <td>55.713440</td>\n",
              "      <td>3.419871</td>\n",
              "    </tr>\n",
              "    <tr>\n",
              "      <th>50%</th>\n",
              "      <td>7.088251</td>\n",
              "      <td>196.926487</td>\n",
              "      <td>20932.436188</td>\n",
              "      <td>7.130932</td>\n",
              "      <td>333.710870</td>\n",
              "      <td>422.137178</td>\n",
              "      <td>14.252996</td>\n",
              "      <td>66.947994</td>\n",
              "      <td>3.941892</td>\n",
              "    </tr>\n",
              "    <tr>\n",
              "      <th>75%</th>\n",
              "      <td>8.097454</td>\n",
              "      <td>216.675600</td>\n",
              "      <td>27275.180438</td>\n",
              "      <td>8.102951</td>\n",
              "      <td>359.516169</td>\n",
              "      <td>482.654563</td>\n",
              "      <td>16.516456</td>\n",
              "      <td>77.517441</td>\n",
              "      <td>4.494345</td>\n",
              "    </tr>\n",
              "    <tr>\n",
              "      <th>max</th>\n",
              "      <td>11.958795</td>\n",
              "      <td>294.458966</td>\n",
              "      <td>48060.027331</td>\n",
              "      <td>11.915652</td>\n",
              "      <td>457.114319</td>\n",
              "      <td>670.613304</td>\n",
              "      <td>24.243379</td>\n",
              "      <td>115.138685</td>\n",
              "      <td>6.315700</td>\n",
              "    </tr>\n",
              "  </tbody>\n",
              "</table>\n",
              "</div>"
            ],
            "text/plain": [
              "                ph     Hardness        Solids  Chloramines      Sulfate  \\\n",
              "count  1933.000000  2282.000000   2282.000000  2282.000000  1741.000000   \n",
              "mean      7.104166   196.467569  21946.725890     7.110382   334.003674   \n",
              "std       1.593494    32.498400   8647.533174     1.584440    40.746258   \n",
              "min       2.245843    98.563069    320.942611     2.307375   210.807703   \n",
              "25%       6.090016   176.906944  15553.848086     6.121061   308.594810   \n",
              "50%       7.088251   196.926487  20932.436188     7.130932   333.710870   \n",
              "75%       8.097454   216.675600  27275.180438     8.102951   359.516169   \n",
              "max      11.958795   294.458966  48060.027331    11.915652   457.114319   \n",
              "\n",
              "       Conductivity  Organic_carbon  Trihalomethanes    Turbidity  \n",
              "count   2282.000000     2282.000000      2180.000000  2282.000000  \n",
              "mean     427.056189       14.315648        66.570104     3.962013  \n",
              "std       80.997011        3.295476        16.157200     0.783966  \n",
              "min      183.606042        4.391956        18.001395     1.608347  \n",
              "25%      366.407590       12.122530        55.713440     3.419871  \n",
              "50%      422.137178       14.252996        66.947994     3.941892  \n",
              "75%      482.654563       16.516456        77.517441     4.494345  \n",
              "max      670.613304       24.243379       115.138685     6.315700  "
            ]
          },
          "execution_count": 40,
          "metadata": {},
          "output_type": "execute_result"
        }
      ],
      "source": [
        "# capping outlier \n",
        "wins = Winsorizer(capping_method='gaussian', tail='both', fold=3, missing_values='ignore', \n",
        "variables=['ph','Hardness','Solids','Chloramines','Sulfate','Conductivity','Organic_carbon','Trihalomethanes','Turbidity'])\n",
        "X_train_eda = wins.fit_transform(X_train_eda)\n",
        "X_train_eda.describe()"
      ]
    },
    {
      "cell_type": "markdown",
      "metadata": {
        "id": "V_WA0FAuaQJN"
      },
      "source": [
        "#### Handling Missing Value"
      ]
    },
    {
      "cell_type": "markdown",
      "metadata": {
        "id": "4NdEbxFfZ5d4"
      },
      "source": [
        "Handling Missing Value menggunakan simpleimputer dengan menggunakan imputasi nilai Mean karena data distribusi nya normal.  "
      ]
    },
    {
      "cell_type": "code",
      "execution_count": 41,
      "metadata": {
        "colab": {
          "base_uri": "https://localhost:8080/"
        },
        "id": "xHZUQu2L4y41",
        "outputId": "52ce98bd-e4d9-4b81-b7ef-504be2059263"
      },
      "outputs": [
        {
          "data": {
            "text/plain": [
              "ph                 349\n",
              "Hardness             0\n",
              "Solids               0\n",
              "Chloramines          0\n",
              "Sulfate            541\n",
              "Conductivity         0\n",
              "Organic_carbon       0\n",
              "Trihalomethanes    102\n",
              "Turbidity            0\n",
              "dtype: int64"
            ]
          },
          "execution_count": 41,
          "metadata": {},
          "output_type": "execute_result"
        }
      ],
      "source": [
        "X_train_eda[numss].isnull().sum()"
      ]
    },
    {
      "cell_type": "code",
      "execution_count": 42,
      "metadata": {
        "colab": {
          "base_uri": "https://localhost:8080/"
        },
        "id": "Hb83l-zy4_iB",
        "outputId": "ed36b62d-83a3-40fc-b544-61bfb2a399e5"
      },
      "outputs": [
        {
          "data": {
            "text/plain": [
              "ph                 0\n",
              "Hardness           0\n",
              "Solids             0\n",
              "Chloramines        0\n",
              "Sulfate            0\n",
              "Conductivity       0\n",
              "Organic_carbon     0\n",
              "Trihalomethanes    0\n",
              "Turbidity          0\n",
              "dtype: int64"
            ]
          },
          "execution_count": 42,
          "metadata": {},
          "output_type": "execute_result"
        }
      ],
      "source": [
        "imp_num = SimpleImputer(strategy='mean')\n",
        "\n",
        "X_train_eda[numss] = imp_num.fit_transform(X_train_eda[numss])\n",
        "X_train_eda[numss].isnull().sum()"
      ]
    },
    {
      "cell_type": "markdown",
      "metadata": {
        "id": "_ao72NV_aGbF"
      },
      "source": [
        "Melihat central tendency setelah dilakukan handling missing value dan capping outlier."
      ]
    },
    {
      "cell_type": "code",
      "execution_count": 43,
      "metadata": {
        "colab": {
          "base_uri": "https://localhost:8080/",
          "height": 364
        },
        "id": "EplH1LXQ5IeF",
        "outputId": "91a78aac-d21d-48e5-b82b-b2ceacf9879b"
      },
      "outputs": [
        {
          "data": {
            "text/html": [
              "<div>\n",
              "<style scoped>\n",
              "    .dataframe tbody tr th:only-of-type {\n",
              "        vertical-align: middle;\n",
              "    }\n",
              "\n",
              "    .dataframe tbody tr th {\n",
              "        vertical-align: top;\n",
              "    }\n",
              "\n",
              "    .dataframe thead th {\n",
              "        text-align: right;\n",
              "    }\n",
              "</style>\n",
              "<table border=\"1\" class=\"dataframe\">\n",
              "  <thead>\n",
              "    <tr style=\"text-align: right;\">\n",
              "      <th></th>\n",
              "      <th>ph</th>\n",
              "      <th>Hardness</th>\n",
              "      <th>Solids</th>\n",
              "      <th>Chloramines</th>\n",
              "      <th>Sulfate</th>\n",
              "      <th>Conductivity</th>\n",
              "      <th>Organic_carbon</th>\n",
              "      <th>Trihalomethanes</th>\n",
              "      <th>Turbidity</th>\n",
              "    </tr>\n",
              "  </thead>\n",
              "  <tbody>\n",
              "    <tr>\n",
              "      <th>count</th>\n",
              "      <td>2282.000000</td>\n",
              "      <td>2282.000000</td>\n",
              "      <td>2282.000000</td>\n",
              "      <td>2282.000000</td>\n",
              "      <td>2282.000000</td>\n",
              "      <td>2282.000000</td>\n",
              "      <td>2282.000000</td>\n",
              "      <td>2282.000000</td>\n",
              "      <td>2282.000000</td>\n",
              "    </tr>\n",
              "    <tr>\n",
              "      <th>mean</th>\n",
              "      <td>7.104166</td>\n",
              "      <td>196.467569</td>\n",
              "      <td>21946.725890</td>\n",
              "      <td>7.110382</td>\n",
              "      <td>334.003674</td>\n",
              "      <td>427.056189</td>\n",
              "      <td>14.315648</td>\n",
              "      <td>66.570104</td>\n",
              "      <td>3.962013</td>\n",
              "    </tr>\n",
              "    <tr>\n",
              "      <th>std</th>\n",
              "      <td>1.466532</td>\n",
              "      <td>32.498400</td>\n",
              "      <td>8647.533174</td>\n",
              "      <td>1.584440</td>\n",
              "      <td>35.587683</td>\n",
              "      <td>80.997011</td>\n",
              "      <td>3.295476</td>\n",
              "      <td>15.791816</td>\n",
              "      <td>0.783966</td>\n",
              "    </tr>\n",
              "    <tr>\n",
              "      <th>min</th>\n",
              "      <td>2.245843</td>\n",
              "      <td>98.563069</td>\n",
              "      <td>320.942611</td>\n",
              "      <td>2.307375</td>\n",
              "      <td>210.807703</td>\n",
              "      <td>183.606042</td>\n",
              "      <td>4.391956</td>\n",
              "      <td>18.001395</td>\n",
              "      <td>1.608347</td>\n",
              "    </tr>\n",
              "    <tr>\n",
              "      <th>25%</th>\n",
              "      <td>6.318040</td>\n",
              "      <td>176.906944</td>\n",
              "      <td>15553.848086</td>\n",
              "      <td>6.121061</td>\n",
              "      <td>317.531166</td>\n",
              "      <td>366.407590</td>\n",
              "      <td>12.122530</td>\n",
              "      <td>56.350810</td>\n",
              "      <td>3.419871</td>\n",
              "    </tr>\n",
              "    <tr>\n",
              "      <th>50%</th>\n",
              "      <td>7.104166</td>\n",
              "      <td>196.926487</td>\n",
              "      <td>20932.436188</td>\n",
              "      <td>7.130932</td>\n",
              "      <td>334.003674</td>\n",
              "      <td>422.137178</td>\n",
              "      <td>14.252996</td>\n",
              "      <td>66.570104</td>\n",
              "      <td>3.941892</td>\n",
              "    </tr>\n",
              "    <tr>\n",
              "      <th>75%</th>\n",
              "      <td>7.889454</td>\n",
              "      <td>216.675600</td>\n",
              "      <td>27275.180438</td>\n",
              "      <td>8.102951</td>\n",
              "      <td>350.523548</td>\n",
              "      <td>482.654563</td>\n",
              "      <td>16.516456</td>\n",
              "      <td>77.010134</td>\n",
              "      <td>4.494345</td>\n",
              "    </tr>\n",
              "    <tr>\n",
              "      <th>max</th>\n",
              "      <td>11.958795</td>\n",
              "      <td>294.458966</td>\n",
              "      <td>48060.027331</td>\n",
              "      <td>11.915652</td>\n",
              "      <td>457.114319</td>\n",
              "      <td>670.613304</td>\n",
              "      <td>24.243379</td>\n",
              "      <td>115.138685</td>\n",
              "      <td>6.315700</td>\n",
              "    </tr>\n",
              "  </tbody>\n",
              "</table>\n",
              "</div>"
            ],
            "text/plain": [
              "                ph     Hardness        Solids  Chloramines      Sulfate  \\\n",
              "count  2282.000000  2282.000000   2282.000000  2282.000000  2282.000000   \n",
              "mean      7.104166   196.467569  21946.725890     7.110382   334.003674   \n",
              "std       1.466532    32.498400   8647.533174     1.584440    35.587683   \n",
              "min       2.245843    98.563069    320.942611     2.307375   210.807703   \n",
              "25%       6.318040   176.906944  15553.848086     6.121061   317.531166   \n",
              "50%       7.104166   196.926487  20932.436188     7.130932   334.003674   \n",
              "75%       7.889454   216.675600  27275.180438     8.102951   350.523548   \n",
              "max      11.958795   294.458966  48060.027331    11.915652   457.114319   \n",
              "\n",
              "       Conductivity  Organic_carbon  Trihalomethanes    Turbidity  \n",
              "count   2282.000000     2282.000000      2282.000000  2282.000000  \n",
              "mean     427.056189       14.315648        66.570104     3.962013  \n",
              "std       80.997011        3.295476        15.791816     0.783966  \n",
              "min      183.606042        4.391956        18.001395     1.608347  \n",
              "25%      366.407590       12.122530        56.350810     3.419871  \n",
              "50%      422.137178       14.252996        66.570104     3.941892  \n",
              "75%      482.654563       16.516456        77.010134     4.494345  \n",
              "max      670.613304       24.243379       115.138685     6.315700  "
            ]
          },
          "execution_count": 43,
          "metadata": {},
          "output_type": "execute_result"
        }
      ],
      "source": [
        "X_train_eda.describe()"
      ]
    },
    {
      "cell_type": "markdown",
      "metadata": {
        "id": "6g0A7n0uaLiu"
      },
      "source": [
        "#### VIF "
      ]
    },
    {
      "cell_type": "markdown",
      "metadata": {
        "id": "pw-Mho0JaYFn"
      },
      "source": [
        "Mencari nilai VIF untuk melihat multicolinarity antar kolom"
      ]
    },
    {
      "cell_type": "code",
      "execution_count": 44,
      "metadata": {
        "colab": {
          "base_uri": "https://localhost:8080/",
          "height": 332
        },
        "id": "LSqkSOXX5WFz",
        "outputId": "e2e1cf99-9a1d-4425-a44a-aa7364a0df58"
      },
      "outputs": [
        {
          "data": {
            "text/html": [
              "<div>\n",
              "<style scoped>\n",
              "    .dataframe tbody tr th:only-of-type {\n",
              "        vertical-align: middle;\n",
              "    }\n",
              "\n",
              "    .dataframe tbody tr th {\n",
              "        vertical-align: top;\n",
              "    }\n",
              "\n",
              "    .dataframe thead th {\n",
              "        text-align: right;\n",
              "    }\n",
              "</style>\n",
              "<table border=\"1\" class=\"dataframe\">\n",
              "  <thead>\n",
              "    <tr style=\"text-align: right;\">\n",
              "      <th></th>\n",
              "      <th>feature</th>\n",
              "      <th>VIF</th>\n",
              "    </tr>\n",
              "  </thead>\n",
              "  <tbody>\n",
              "    <tr>\n",
              "      <th>0</th>\n",
              "      <td>ph</td>\n",
              "      <td>23.222316</td>\n",
              "    </tr>\n",
              "    <tr>\n",
              "      <th>1</th>\n",
              "      <td>Hardness</td>\n",
              "      <td>31.518313</td>\n",
              "    </tr>\n",
              "    <tr>\n",
              "      <th>2</th>\n",
              "      <td>Solids</td>\n",
              "      <td>7.153641</td>\n",
              "    </tr>\n",
              "    <tr>\n",
              "      <th>3</th>\n",
              "      <td>Chloramines</td>\n",
              "      <td>19.532292</td>\n",
              "    </tr>\n",
              "    <tr>\n",
              "      <th>4</th>\n",
              "      <td>Sulfate</td>\n",
              "      <td>56.694195</td>\n",
              "    </tr>\n",
              "    <tr>\n",
              "      <th>5</th>\n",
              "      <td>Conductivity</td>\n",
              "      <td>26.138234</td>\n",
              "    </tr>\n",
              "    <tr>\n",
              "      <th>6</th>\n",
              "      <td>Organic_carbon</td>\n",
              "      <td>19.037719</td>\n",
              "    </tr>\n",
              "    <tr>\n",
              "      <th>7</th>\n",
              "      <td>Trihalomethanes</td>\n",
              "      <td>17.471970</td>\n",
              "    </tr>\n",
              "    <tr>\n",
              "      <th>8</th>\n",
              "      <td>Turbidity</td>\n",
              "      <td>23.778408</td>\n",
              "    </tr>\n",
              "  </tbody>\n",
              "</table>\n",
              "</div>"
            ],
            "text/plain": [
              "           feature        VIF\n",
              "0               ph  23.222316\n",
              "1         Hardness  31.518313\n",
              "2           Solids   7.153641\n",
              "3      Chloramines  19.532292\n",
              "4          Sulfate  56.694195\n",
              "5     Conductivity  26.138234\n",
              "6   Organic_carbon  19.037719\n",
              "7  Trihalomethanes  17.471970\n",
              "8        Turbidity  23.778408"
            ]
          },
          "execution_count": 44,
          "metadata": {},
          "output_type": "execute_result"
        }
      ],
      "source": [
        "vif_data = pd.DataFrame()\n",
        "vif_data['feature'] = X_train_eda.columns\n",
        "  \n",
        "# calculating VIF for each feature\n",
        "vif_data['VIF'] = [variance_inflation_factor(X_train_eda.values, i) for i in range(len(X_train_eda.columns))]\n",
        "\n",
        "vif_data"
      ]
    },
    {
      "cell_type": "markdown",
      "metadata": {
        "id": "RM3DKzvIawJc"
      },
      "source": [
        "Nilai VIF diatas treshold 5 ada di semua kolom artinya multicolenarity nya tinggi . "
      ]
    },
    {
      "cell_type": "markdown",
      "metadata": {
        "id": "bp-65rjYa6bD"
      },
      "source": [
        "#### Scaling "
      ]
    },
    {
      "cell_type": "markdown",
      "metadata": {
        "id": "bTZePTL2a9md"
      },
      "source": [
        "Melakukan Scaling dengan menggunakan Standardscaling karena distribusinya normal "
      ]
    },
    {
      "cell_type": "code",
      "execution_count": 45,
      "metadata": {
        "colab": {
          "base_uri": "https://localhost:8080/",
          "height": 468
        },
        "id": "4rwRDBWSK_yu",
        "outputId": "04c28f90-6f60-4cf0-c867-0fa44314de44"
      },
      "outputs": [
        {
          "data": {
            "text/html": [
              "<div>\n",
              "<style scoped>\n",
              "    .dataframe tbody tr th:only-of-type {\n",
              "        vertical-align: middle;\n",
              "    }\n",
              "\n",
              "    .dataframe tbody tr th {\n",
              "        vertical-align: top;\n",
              "    }\n",
              "\n",
              "    .dataframe thead th {\n",
              "        text-align: right;\n",
              "    }\n",
              "</style>\n",
              "<table border=\"1\" class=\"dataframe\">\n",
              "  <thead>\n",
              "    <tr style=\"text-align: right;\">\n",
              "      <th></th>\n",
              "      <th>ph</th>\n",
              "      <th>Hardness</th>\n",
              "      <th>Solids</th>\n",
              "      <th>Chloramines</th>\n",
              "      <th>Sulfate</th>\n",
              "      <th>Conductivity</th>\n",
              "      <th>Organic_carbon</th>\n",
              "      <th>Trihalomethanes</th>\n",
              "      <th>Turbidity</th>\n",
              "    </tr>\n",
              "  </thead>\n",
              "  <tbody>\n",
              "    <tr>\n",
              "      <th>1651</th>\n",
              "      <td>7.511075e-01</td>\n",
              "      <td>-1.559503</td>\n",
              "      <td>-0.458667</td>\n",
              "      <td>-0.334527</td>\n",
              "      <td>7.135743e-01</td>\n",
              "      <td>-0.082268</td>\n",
              "      <td>0.467759</td>\n",
              "      <td>2.162493</td>\n",
              "      <td>-0.283354</td>\n",
              "    </tr>\n",
              "    <tr>\n",
              "      <th>1215</th>\n",
              "      <td>7.141427e-01</td>\n",
              "      <td>0.288685</td>\n",
              "      <td>-0.726931</td>\n",
              "      <td>-0.063724</td>\n",
              "      <td>4.550618e-02</td>\n",
              "      <td>1.587247</td>\n",
              "      <td>0.165562</td>\n",
              "      <td>0.392218</td>\n",
              "      <td>-1.482697</td>\n",
              "    </tr>\n",
              "    <tr>\n",
              "      <th>1094</th>\n",
              "      <td>-6.057647e-16</td>\n",
              "      <td>0.510094</td>\n",
              "      <td>-1.146252</td>\n",
              "      <td>1.694565</td>\n",
              "      <td>4.263004e-01</td>\n",
              "      <td>-1.766356</td>\n",
              "      <td>-0.575382</td>\n",
              "      <td>0.513307</td>\n",
              "      <td>-0.080502</td>\n",
              "    </tr>\n",
              "    <tr>\n",
              "      <th>549</th>\n",
              "      <td>1.150371e+00</td>\n",
              "      <td>-0.277852</td>\n",
              "      <td>-1.630427</td>\n",
              "      <td>-0.473734</td>\n",
              "      <td>1.597628e-15</td>\n",
              "      <td>-0.520324</td>\n",
              "      <td>0.730473</td>\n",
              "      <td>0.717780</td>\n",
              "      <td>-0.614627</td>\n",
              "    </tr>\n",
              "    <tr>\n",
              "      <th>1150</th>\n",
              "      <td>-6.057647e-16</td>\n",
              "      <td>0.258313</td>\n",
              "      <td>0.305750</td>\n",
              "      <td>0.419154</td>\n",
              "      <td>1.597628e-15</td>\n",
              "      <td>0.171410</td>\n",
              "      <td>-0.530718</td>\n",
              "      <td>3.076228</td>\n",
              "      <td>0.454531</td>\n",
              "    </tr>\n",
              "    <tr>\n",
              "      <th>...</th>\n",
              "      <td>...</td>\n",
              "      <td>...</td>\n",
              "      <td>...</td>\n",
              "      <td>...</td>\n",
              "      <td>...</td>\n",
              "      <td>...</td>\n",
              "      <td>...</td>\n",
              "      <td>...</td>\n",
              "      <td>...</td>\n",
              "    </tr>\n",
              "    <tr>\n",
              "      <th>1502</th>\n",
              "      <td>-7.525813e-01</td>\n",
              "      <td>-1.091532</td>\n",
              "      <td>-0.096588</td>\n",
              "      <td>-1.749427</td>\n",
              "      <td>-9.189603e-01</td>\n",
              "      <td>-0.522392</td>\n",
              "      <td>-1.533858</td>\n",
              "      <td>0.280720</td>\n",
              "      <td>0.273293</td>\n",
              "    </tr>\n",
              "    <tr>\n",
              "      <th>1055</th>\n",
              "      <td>-6.057647e-16</td>\n",
              "      <td>-0.440293</td>\n",
              "      <td>1.006298</td>\n",
              "      <td>-0.495691</td>\n",
              "      <td>-1.097181e+00</td>\n",
              "      <td>-0.283233</td>\n",
              "      <td>0.120384</td>\n",
              "      <td>2.520947</td>\n",
              "      <td>-0.135546</td>\n",
              "    </tr>\n",
              "    <tr>\n",
              "      <th>2371</th>\n",
              "      <td>-1.330421e+00</td>\n",
              "      <td>-2.743062</td>\n",
              "      <td>-0.327449</td>\n",
              "      <td>1.379801</td>\n",
              "      <td>-2.646819e-02</td>\n",
              "      <td>0.380781</td>\n",
              "      <td>0.949998</td>\n",
              "      <td>0.698534</td>\n",
              "      <td>-0.270597</td>\n",
              "    </tr>\n",
              "    <tr>\n",
              "      <th>2010</th>\n",
              "      <td>-6.057647e-16</td>\n",
              "      <td>-1.090403</td>\n",
              "      <td>0.420648</td>\n",
              "      <td>-0.197885</td>\n",
              "      <td>1.597628e-15</td>\n",
              "      <td>0.499186</td>\n",
              "      <td>-0.063766</td>\n",
              "      <td>-0.901845</td>\n",
              "      <td>0.704472</td>\n",
              "    </tr>\n",
              "    <tr>\n",
              "      <th>814</th>\n",
              "      <td>1.845641e-01</td>\n",
              "      <td>0.653439</td>\n",
              "      <td>-1.117423</td>\n",
              "      <td>1.848290</td>\n",
              "      <td>1.597628e-15</td>\n",
              "      <td>-0.840622</td>\n",
              "      <td>0.600369</td>\n",
              "      <td>1.723693</td>\n",
              "      <td>-0.471741</td>\n",
              "    </tr>\n",
              "  </tbody>\n",
              "</table>\n",
              "<p>2282 rows × 9 columns</p>\n",
              "</div>"
            ],
            "text/plain": [
              "                ph  Hardness    Solids  Chloramines       Sulfate  \\\n",
              "1651  7.511075e-01 -1.559503 -0.458667    -0.334527  7.135743e-01   \n",
              "1215  7.141427e-01  0.288685 -0.726931    -0.063724  4.550618e-02   \n",
              "1094 -6.057647e-16  0.510094 -1.146252     1.694565  4.263004e-01   \n",
              "549   1.150371e+00 -0.277852 -1.630427    -0.473734  1.597628e-15   \n",
              "1150 -6.057647e-16  0.258313  0.305750     0.419154  1.597628e-15   \n",
              "...            ...       ...       ...          ...           ...   \n",
              "1502 -7.525813e-01 -1.091532 -0.096588    -1.749427 -9.189603e-01   \n",
              "1055 -6.057647e-16 -0.440293  1.006298    -0.495691 -1.097181e+00   \n",
              "2371 -1.330421e+00 -2.743062 -0.327449     1.379801 -2.646819e-02   \n",
              "2010 -6.057647e-16 -1.090403  0.420648    -0.197885  1.597628e-15   \n",
              "814   1.845641e-01  0.653439 -1.117423     1.848290  1.597628e-15   \n",
              "\n",
              "      Conductivity  Organic_carbon  Trihalomethanes  Turbidity  \n",
              "1651     -0.082268        0.467759         2.162493  -0.283354  \n",
              "1215      1.587247        0.165562         0.392218  -1.482697  \n",
              "1094     -1.766356       -0.575382         0.513307  -0.080502  \n",
              "549      -0.520324        0.730473         0.717780  -0.614627  \n",
              "1150      0.171410       -0.530718         3.076228   0.454531  \n",
              "...            ...             ...              ...        ...  \n",
              "1502     -0.522392       -1.533858         0.280720   0.273293  \n",
              "1055     -0.283233        0.120384         2.520947  -0.135546  \n",
              "2371      0.380781        0.949998         0.698534  -0.270597  \n",
              "2010      0.499186       -0.063766        -0.901845   0.704472  \n",
              "814      -0.840622        0.600369         1.723693  -0.471741  \n",
              "\n",
              "[2282 rows x 9 columns]"
            ]
          },
          "execution_count": 45,
          "metadata": {},
          "output_type": "execute_result"
        }
      ],
      "source": [
        "scaler = StandardScaler()\n",
        "\n",
        "X_train_eda[numss] = scaler.fit_transform(X_train_eda[numss])\n",
        "X_train_eda"
      ]
    },
    {
      "cell_type": "code",
      "execution_count": 46,
      "metadata": {
        "colab": {
          "base_uri": "https://localhost:8080/"
        },
        "id": "UQqDdRiGe0JY",
        "outputId": "39bc1dc2-51f6-4eff-bebb-306f49091e84"
      },
      "outputs": [
        {
          "data": {
            "text/plain": [
              "1651    0\n",
              "1215    1\n",
              "1094    1\n",
              "549     0\n",
              "1150    1\n",
              "       ..\n",
              "1502    1\n",
              "1055    0\n",
              "2371    1\n",
              "2010    1\n",
              "814     1\n",
              "Name: Potability, Length: 2282, dtype: int64"
            ]
          },
          "execution_count": 46,
          "metadata": {},
          "output_type": "execute_result"
        }
      ],
      "source": [
        "y_train"
      ]
    },
    {
      "cell_type": "markdown",
      "metadata": {
        "id": "JhZxTTMpbG98"
      },
      "source": [
        "### Categorical Feature"
      ]
    },
    {
      "cell_type": "code",
      "execution_count": 47,
      "metadata": {
        "colab": {
          "base_uri": "https://localhost:8080/"
        },
        "id": "zjXj-ZhabL_D",
        "outputId": "485b4f92-7234-44f3-db60-900ffda7f87c"
      },
      "outputs": [
        {
          "data": {
            "text/plain": [
              "Potability\n",
              "0             1392\n",
              "1              890\n",
              "dtype: int64"
            ]
          },
          "execution_count": 47,
          "metadata": {},
          "output_type": "execute_result"
        }
      ],
      "source": [
        "data_eda[catss].value_counts()"
      ]
    },
    {
      "cell_type": "markdown",
      "metadata": {
        "id": "BkN9kzL-beIh"
      },
      "source": [
        "### Combine Numerical and Categorical"
      ]
    },
    {
      "cell_type": "code",
      "execution_count": 48,
      "metadata": {
        "colab": {
          "base_uri": "https://localhost:8080/"
        },
        "id": "OMsZav6hehTw",
        "outputId": "a7f1540d-0d75-4dbb-ecb4-9af7493e04d4"
      },
      "outputs": [
        {
          "data": {
            "text/plain": [
              "(2282, 10)"
            ]
          },
          "execution_count": 48,
          "metadata": {},
          "output_type": "execute_result"
        }
      ],
      "source": [
        "X_train_eda = pd.concat([X_train_eda[numss].reset_index(drop=True), y_train.reset_index(drop=True)], axis=1)\n",
        "X_train_eda.shape"
      ]
    },
    {
      "cell_type": "code",
      "execution_count": 49,
      "metadata": {
        "colab": {
          "base_uri": "https://localhost:8080/",
          "height": 357
        },
        "id": "g8oidSPje78D",
        "outputId": "363f493a-f34f-45c5-df7b-255dba2aec7c"
      },
      "outputs": [
        {
          "data": {
            "text/html": [
              "<div>\n",
              "<style scoped>\n",
              "    .dataframe tbody tr th:only-of-type {\n",
              "        vertical-align: middle;\n",
              "    }\n",
              "\n",
              "    .dataframe tbody tr th {\n",
              "        vertical-align: top;\n",
              "    }\n",
              "\n",
              "    .dataframe thead th {\n",
              "        text-align: right;\n",
              "    }\n",
              "</style>\n",
              "<table border=\"1\" class=\"dataframe\">\n",
              "  <thead>\n",
              "    <tr style=\"text-align: right;\">\n",
              "      <th></th>\n",
              "      <th>ph</th>\n",
              "      <th>Hardness</th>\n",
              "      <th>Solids</th>\n",
              "      <th>Chloramines</th>\n",
              "      <th>Sulfate</th>\n",
              "      <th>Conductivity</th>\n",
              "      <th>Organic_carbon</th>\n",
              "      <th>Trihalomethanes</th>\n",
              "      <th>Turbidity</th>\n",
              "      <th>Potability</th>\n",
              "    </tr>\n",
              "  </thead>\n",
              "  <tbody>\n",
              "    <tr>\n",
              "      <th>0</th>\n",
              "      <td>7.511075e-01</td>\n",
              "      <td>-1.559503</td>\n",
              "      <td>-0.458667</td>\n",
              "      <td>-0.334527</td>\n",
              "      <td>7.135743e-01</td>\n",
              "      <td>-0.082268</td>\n",
              "      <td>0.467759</td>\n",
              "      <td>2.162493</td>\n",
              "      <td>-0.283354</td>\n",
              "      <td>0</td>\n",
              "    </tr>\n",
              "    <tr>\n",
              "      <th>1</th>\n",
              "      <td>7.141427e-01</td>\n",
              "      <td>0.288685</td>\n",
              "      <td>-0.726931</td>\n",
              "      <td>-0.063724</td>\n",
              "      <td>4.550618e-02</td>\n",
              "      <td>1.587247</td>\n",
              "      <td>0.165562</td>\n",
              "      <td>0.392218</td>\n",
              "      <td>-1.482697</td>\n",
              "      <td>1</td>\n",
              "    </tr>\n",
              "    <tr>\n",
              "      <th>2</th>\n",
              "      <td>-6.057647e-16</td>\n",
              "      <td>0.510094</td>\n",
              "      <td>-1.146252</td>\n",
              "      <td>1.694565</td>\n",
              "      <td>4.263004e-01</td>\n",
              "      <td>-1.766356</td>\n",
              "      <td>-0.575382</td>\n",
              "      <td>0.513307</td>\n",
              "      <td>-0.080502</td>\n",
              "      <td>1</td>\n",
              "    </tr>\n",
              "    <tr>\n",
              "      <th>3</th>\n",
              "      <td>1.150371e+00</td>\n",
              "      <td>-0.277852</td>\n",
              "      <td>-1.630427</td>\n",
              "      <td>-0.473734</td>\n",
              "      <td>1.597628e-15</td>\n",
              "      <td>-0.520324</td>\n",
              "      <td>0.730473</td>\n",
              "      <td>0.717780</td>\n",
              "      <td>-0.614627</td>\n",
              "      <td>0</td>\n",
              "    </tr>\n",
              "    <tr>\n",
              "      <th>4</th>\n",
              "      <td>-6.057647e-16</td>\n",
              "      <td>0.258313</td>\n",
              "      <td>0.305750</td>\n",
              "      <td>0.419154</td>\n",
              "      <td>1.597628e-15</td>\n",
              "      <td>0.171410</td>\n",
              "      <td>-0.530718</td>\n",
              "      <td>3.076228</td>\n",
              "      <td>0.454531</td>\n",
              "      <td>1</td>\n",
              "    </tr>\n",
              "  </tbody>\n",
              "</table>\n",
              "</div>"
            ],
            "text/plain": [
              "             ph  Hardness    Solids  Chloramines       Sulfate  Conductivity  \\\n",
              "0  7.511075e-01 -1.559503 -0.458667    -0.334527  7.135743e-01     -0.082268   \n",
              "1  7.141427e-01  0.288685 -0.726931    -0.063724  4.550618e-02      1.587247   \n",
              "2 -6.057647e-16  0.510094 -1.146252     1.694565  4.263004e-01     -1.766356   \n",
              "3  1.150371e+00 -0.277852 -1.630427    -0.473734  1.597628e-15     -0.520324   \n",
              "4 -6.057647e-16  0.258313  0.305750     0.419154  1.597628e-15      0.171410   \n",
              "\n",
              "   Organic_carbon  Trihalomethanes  Turbidity  Potability  \n",
              "0        0.467759         2.162493  -0.283354           0  \n",
              "1        0.165562         0.392218  -1.482697           1  \n",
              "2       -0.575382         0.513307  -0.080502           1  \n",
              "3        0.730473         0.717780  -0.614627           0  \n",
              "4       -0.530718         3.076228   0.454531           1  "
            ]
          },
          "execution_count": 49,
          "metadata": {},
          "output_type": "execute_result"
        }
      ],
      "source": [
        "X_train_eda.head()"
      ]
    },
    {
      "cell_type": "markdown",
      "metadata": {
        "id": "B5CawMj-boMP"
      },
      "source": [
        "### Feature Selection "
      ]
    },
    {
      "cell_type": "markdown",
      "metadata": {
        "id": "Ro8RlJ7rbq4h"
      },
      "source": [
        "Melakukan feature selection menggunakan Heatmap Selection dan Feature Importance dari Random forest Classifier"
      ]
    },
    {
      "cell_type": "markdown",
      "metadata": {
        "id": "6UnfVZtAbwP9"
      },
      "source": [
        "#### Heatmap Selection"
      ]
    },
    {
      "cell_type": "code",
      "execution_count": 50,
      "metadata": {
        "colab": {
          "base_uri": "https://localhost:8080/",
          "height": 512
        },
        "id": "-NP9Y9WQgigK",
        "outputId": "1d7d3579-f985-494c-9dda-7afc71065b53"
      },
      "outputs": [
        {
          "data": {
            "image/png": "[encoded data removed]",
            "text/plain": [
              "<Figure size 1440x720 with 2 Axes>"
            ]
          },
          "metadata": {
            "needs_background": "light"
          },
          "output_type": "display_data"
        }
      ],
      "source": [
        "fig,ax = plt.subplots(figsize=[20,10])\n",
        "\n",
        "corr = X_train_eda.corr()\n",
        "\n",
        "ax = sns.heatmap(corr,annot=True)\n",
        "plt.show()"
      ]
    },
    {
      "cell_type": "code",
      "execution_count": 51,
      "metadata": {
        "colab": {
          "base_uri": "https://localhost:8080/"
        },
        "id": "VOOTS5xvcN4d",
        "outputId": "54090fcb-9d17-4075-ea08-4538bd227f92"
      },
      "outputs": [
        {
          "data": {
            "text/plain": [
              "Index(['ph', 'Hardness', 'Solids', 'Chloramines', 'Sulfate', 'Conductivity',\n",
              "       'Organic_carbon', 'Trihalomethanes', 'Turbidity', 'Potability'],\n",
              "      dtype='object')"
            ]
          },
          "execution_count": 51,
          "metadata": {},
          "output_type": "execute_result"
        }
      ],
      "source": [
        "X_train_eda.columns"
      ]
    },
    {
      "cell_type": "markdown",
      "metadata": {
        "id": "_kJJam0acEhU"
      },
      "source": [
        "Dari hasil heatmap selection kita mendapatkan feature yang nilainya diatas 0.01 terdapat 7 feature yaitu 'ph','Solids', 'Chloramines', 'Conductivity','Organic_carbon','Trihalomethanes', 'Turbidity'."
      ]
    },
    {
      "cell_type": "markdown",
      "metadata": {
        "id": "tCjsqBjlchxB"
      },
      "source": [
        "#### Feature Importance"
      ]
    },
    {
      "cell_type": "markdown",
      "metadata": {
        "id": "Vib3sHYvcpPJ"
      },
      "source": [
        "Kita akan menggunakan feature importance dari RandomForest Classifier "
      ]
    },
    {
      "cell_type": "code",
      "execution_count": 52,
      "metadata": {
        "id": "1AFwt_8OhzJN"
      },
      "outputs": [],
      "source": [
        "# memisahkan x dan y \n",
        "X_select = X_train_eda.drop('Potability',axis=1).copy()\n",
        "y_select = X_train_eda['Potability']"
      ]
    },
    {
      "cell_type": "code",
      "execution_count": 53,
      "metadata": {
        "colab": {
          "base_uri": "https://localhost:8080/",
          "height": 421
        },
        "id": "Yd4N7Y04g-i1",
        "outputId": "ced9ea69-3fb7-4396-d490-ac703937e251"
      },
      "outputs": [
        {
          "name": "stdout",
          "output_type": "stream",
          "text": [
            "Feature: 0, Score: 0.13\n",
            "Feature: 1, Score: 0.12\n",
            "Feature: 2, Score: 0.12\n",
            "Feature: 3, Score: 0.12\n",
            "Feature: 4, Score: 0.12\n",
            "Feature: 5, Score: 0.10\n",
            "Feature: 6, Score: 0.10\n",
            "Feature: 7, Score: 0.10\n",
            "Feature: 8, Score: 0.10\n"
          ]
        },
        {
          "data": {
            "image/png": "[encoded data removed]",
            "text/plain": [
              "<Figure size 432x288 with 1 Axes>"
            ]
          },
          "metadata": {
            "needs_background": "light"
          },
          "output_type": "display_data"
        }
      ],
      "source": [
        "X, y = X_select, y_select\n",
        "model = RandomForestClassifier()\n",
        "model.fit(X, y)\n",
        "importance = model.feature_importances_\n",
        "for i,v in enumerate(importance):\n",
        "    print('Feature: %0d, Score: %.2f' % (i,v))\n",
        "plt.bar([x for x in range(len(importance))], importance)\n",
        "plt.show()"
      ]
    },
    {
      "cell_type": "markdown",
      "metadata": {
        "id": "v-f4fkWac5bP"
      },
      "source": [
        "Dari hasil feature importance kita mendapatkan semua kolom bernilai diatas 0.1 oleh karena itu kita akan menggunakan semua kolom sebagai feature yaitu: 'ph', 'Hardness', 'Solids', 'Chloramines', 'Sulfate', 'Conductivity',\n",
        "'Organic_carbon', 'Trihalomethanes', 'Turbidity'"
      ]
    },
    {
      "cell_type": "code",
      "execution_count": 54,
      "metadata": {
        "colab": {
          "base_uri": "https://localhost:8080/",
          "height": 468
        },
        "id": "JWfhAzVc7CSI",
        "outputId": "01cd1b6e-9b10-4732-8dd3-7823e52115f5"
      },
      "outputs": [
        {
          "data": {
            "text/html": [
              "<div>\n",
              "<style scoped>\n",
              "    .dataframe tbody tr th:only-of-type {\n",
              "        vertical-align: middle;\n",
              "    }\n",
              "\n",
              "    .dataframe tbody tr th {\n",
              "        vertical-align: top;\n",
              "    }\n",
              "\n",
              "    .dataframe thead th {\n",
              "        text-align: right;\n",
              "    }\n",
              "</style>\n",
              "<table border=\"1\" class=\"dataframe\">\n",
              "  <thead>\n",
              "    <tr style=\"text-align: right;\">\n",
              "      <th></th>\n",
              "      <th>ph</th>\n",
              "      <th>Hardness</th>\n",
              "      <th>Solids</th>\n",
              "      <th>Chloramines</th>\n",
              "      <th>Sulfate</th>\n",
              "      <th>Conductivity</th>\n",
              "      <th>Organic_carbon</th>\n",
              "      <th>Trihalomethanes</th>\n",
              "      <th>Turbidity</th>\n",
              "    </tr>\n",
              "  </thead>\n",
              "  <tbody>\n",
              "    <tr>\n",
              "      <th>0</th>\n",
              "      <td>7.511075e-01</td>\n",
              "      <td>-1.559503</td>\n",
              "      <td>-0.458667</td>\n",
              "      <td>-0.334527</td>\n",
              "      <td>7.135743e-01</td>\n",
              "      <td>-0.082268</td>\n",
              "      <td>0.467759</td>\n",
              "      <td>2.162493</td>\n",
              "      <td>-0.283354</td>\n",
              "    </tr>\n",
              "    <tr>\n",
              "      <th>1</th>\n",
              "      <td>7.141427e-01</td>\n",
              "      <td>0.288685</td>\n",
              "      <td>-0.726931</td>\n",
              "      <td>-0.063724</td>\n",
              "      <td>4.550618e-02</td>\n",
              "      <td>1.587247</td>\n",
              "      <td>0.165562</td>\n",
              "      <td>0.392218</td>\n",
              "      <td>-1.482697</td>\n",
              "    </tr>\n",
              "    <tr>\n",
              "      <th>2</th>\n",
              "      <td>-6.057647e-16</td>\n",
              "      <td>0.510094</td>\n",
              "      <td>-1.146252</td>\n",
              "      <td>1.694565</td>\n",
              "      <td>4.263004e-01</td>\n",
              "      <td>-1.766356</td>\n",
              "      <td>-0.575382</td>\n",
              "      <td>0.513307</td>\n",
              "      <td>-0.080502</td>\n",
              "    </tr>\n",
              "    <tr>\n",
              "      <th>3</th>\n",
              "      <td>1.150371e+00</td>\n",
              "      <td>-0.277852</td>\n",
              "      <td>-1.630427</td>\n",
              "      <td>-0.473734</td>\n",
              "      <td>1.597628e-15</td>\n",
              "      <td>-0.520324</td>\n",
              "      <td>0.730473</td>\n",
              "      <td>0.717780</td>\n",
              "      <td>-0.614627</td>\n",
              "    </tr>\n",
              "    <tr>\n",
              "      <th>4</th>\n",
              "      <td>-6.057647e-16</td>\n",
              "      <td>0.258313</td>\n",
              "      <td>0.305750</td>\n",
              "      <td>0.419154</td>\n",
              "      <td>1.597628e-15</td>\n",
              "      <td>0.171410</td>\n",
              "      <td>-0.530718</td>\n",
              "      <td>3.076228</td>\n",
              "      <td>0.454531</td>\n",
              "    </tr>\n",
              "    <tr>\n",
              "      <th>...</th>\n",
              "      <td>...</td>\n",
              "      <td>...</td>\n",
              "      <td>...</td>\n",
              "      <td>...</td>\n",
              "      <td>...</td>\n",
              "      <td>...</td>\n",
              "      <td>...</td>\n",
              "      <td>...</td>\n",
              "      <td>...</td>\n",
              "    </tr>\n",
              "    <tr>\n",
              "      <th>2277</th>\n",
              "      <td>-7.525813e-01</td>\n",
              "      <td>-1.091532</td>\n",
              "      <td>-0.096588</td>\n",
              "      <td>-1.749427</td>\n",
              "      <td>-9.189603e-01</td>\n",
              "      <td>-0.522392</td>\n",
              "      <td>-1.533858</td>\n",
              "      <td>0.280720</td>\n",
              "      <td>0.273293</td>\n",
              "    </tr>\n",
              "    <tr>\n",
              "      <th>2278</th>\n",
              "      <td>-6.057647e-16</td>\n",
              "      <td>-0.440293</td>\n",
              "      <td>1.006298</td>\n",
              "      <td>-0.495691</td>\n",
              "      <td>-1.097181e+00</td>\n",
              "      <td>-0.283233</td>\n",
              "      <td>0.120384</td>\n",
              "      <td>2.520947</td>\n",
              "      <td>-0.135546</td>\n",
              "    </tr>\n",
              "    <tr>\n",
              "      <th>2279</th>\n",
              "      <td>-1.330421e+00</td>\n",
              "      <td>-2.743062</td>\n",
              "      <td>-0.327449</td>\n",
              "      <td>1.379801</td>\n",
              "      <td>-2.646819e-02</td>\n",
              "      <td>0.380781</td>\n",
              "      <td>0.949998</td>\n",
              "      <td>0.698534</td>\n",
              "      <td>-0.270597</td>\n",
              "    </tr>\n",
              "    <tr>\n",
              "      <th>2280</th>\n",
              "      <td>-6.057647e-16</td>\n",
              "      <td>-1.090403</td>\n",
              "      <td>0.420648</td>\n",
              "      <td>-0.197885</td>\n",
              "      <td>1.597628e-15</td>\n",
              "      <td>0.499186</td>\n",
              "      <td>-0.063766</td>\n",
              "      <td>-0.901845</td>\n",
              "      <td>0.704472</td>\n",
              "    </tr>\n",
              "    <tr>\n",
              "      <th>2281</th>\n",
              "      <td>1.845641e-01</td>\n",
              "      <td>0.653439</td>\n",
              "      <td>-1.117423</td>\n",
              "      <td>1.848290</td>\n",
              "      <td>1.597628e-15</td>\n",
              "      <td>-0.840622</td>\n",
              "      <td>0.600369</td>\n",
              "      <td>1.723693</td>\n",
              "      <td>-0.471741</td>\n",
              "    </tr>\n",
              "  </tbody>\n",
              "</table>\n",
              "<p>2282 rows × 9 columns</p>\n",
              "</div>"
            ],
            "text/plain": [
              "                ph  Hardness    Solids  Chloramines       Sulfate  \\\n",
              "0     7.511075e-01 -1.559503 -0.458667    -0.334527  7.135743e-01   \n",
              "1     7.141427e-01  0.288685 -0.726931    -0.063724  4.550618e-02   \n",
              "2    -6.057647e-16  0.510094 -1.146252     1.694565  4.263004e-01   \n",
              "3     1.150371e+00 -0.277852 -1.630427    -0.473734  1.597628e-15   \n",
              "4    -6.057647e-16  0.258313  0.305750     0.419154  1.597628e-15   \n",
              "...            ...       ...       ...          ...           ...   \n",
              "2277 -7.525813e-01 -1.091532 -0.096588    -1.749427 -9.189603e-01   \n",
              "2278 -6.057647e-16 -0.440293  1.006298    -0.495691 -1.097181e+00   \n",
              "2279 -1.330421e+00 -2.743062 -0.327449     1.379801 -2.646819e-02   \n",
              "2280 -6.057647e-16 -1.090403  0.420648    -0.197885  1.597628e-15   \n",
              "2281  1.845641e-01  0.653439 -1.117423     1.848290  1.597628e-15   \n",
              "\n",
              "      Conductivity  Organic_carbon  Trihalomethanes  Turbidity  \n",
              "0        -0.082268        0.467759         2.162493  -0.283354  \n",
              "1         1.587247        0.165562         0.392218  -1.482697  \n",
              "2        -1.766356       -0.575382         0.513307  -0.080502  \n",
              "3        -0.520324        0.730473         0.717780  -0.614627  \n",
              "4         0.171410       -0.530718         3.076228   0.454531  \n",
              "...            ...             ...              ...        ...  \n",
              "2277     -0.522392       -1.533858         0.280720   0.273293  \n",
              "2278     -0.283233        0.120384         2.520947  -0.135546  \n",
              "2279      0.380781        0.949998         0.698534  -0.270597  \n",
              "2280      0.499186       -0.063766        -0.901845   0.704472  \n",
              "2281     -0.840622        0.600369         1.723693  -0.471741  \n",
              "\n",
              "[2282 rows x 9 columns]"
            ]
          },
          "execution_count": 54,
          "metadata": {},
          "output_type": "execute_result"
        }
      ],
      "source": [
        "X_train_eda[['ph', 'Hardness', 'Solids', 'Chloramines', 'Sulfate', 'Conductivity',\n",
        "       'Organic_carbon', 'Trihalomethanes', 'Turbidity']]"
      ]
    },
    {
      "cell_type": "markdown",
      "metadata": {},
      "source": [
        "Pada section ini dilakukan \n",
        "1. Numeric \n",
        "- Handling Outlier menggunakan capping metode gaussian \n",
        "- Handling missing value dengan menggunakan simpleimputer metode = mean \n",
        "- Melihat multicolenarity antar kolom dengan VIF \n",
        "- Scaling menggunakan StandardScaler \n",
        "2. Categorical \n",
        "- tidak dilakukan handling karena data sudah ordinal \n",
        "\n",
        "====\n",
        "- Combine data numeric dan categoric\n",
        "- Feature Selection using Heatmap dan feture importance by RandomForest "
      ]
    },
    {
      "cell_type": "markdown",
      "metadata": {
        "id": "P3yCA_hD-7Le"
      },
      "source": [
        "## Data Preprocessing"
      ]
    },
    {
      "cell_type": "markdown",
      "metadata": {
        "id": "_IIowKuedb7N"
      },
      "source": [
        "### Pipeline"
      ]
    },
    {
      "cell_type": "code",
      "execution_count": 55,
      "metadata": {
        "colab": {
          "base_uri": "https://localhost:8080/",
          "height": 468
        },
        "id": "fJDTmf08-3N1",
        "outputId": "6dbe874f-29df-41c9-b6fd-033c926325fd"
      },
      "outputs": [
        {
          "data": {
            "text/html": [
              "<div>\n",
              "<style scoped>\n",
              "    .dataframe tbody tr th:only-of-type {\n",
              "        vertical-align: middle;\n",
              "    }\n",
              "\n",
              "    .dataframe tbody tr th {\n",
              "        vertical-align: top;\n",
              "    }\n",
              "\n",
              "    .dataframe thead th {\n",
              "        text-align: right;\n",
              "    }\n",
              "</style>\n",
              "<table border=\"1\" class=\"dataframe\">\n",
              "  <thead>\n",
              "    <tr style=\"text-align: right;\">\n",
              "      <th></th>\n",
              "      <th>ph</th>\n",
              "      <th>Hardness</th>\n",
              "      <th>Solids</th>\n",
              "      <th>Chloramines</th>\n",
              "      <th>Sulfate</th>\n",
              "      <th>Conductivity</th>\n",
              "      <th>Organic_carbon</th>\n",
              "      <th>Trihalomethanes</th>\n",
              "      <th>Turbidity</th>\n",
              "    </tr>\n",
              "  </thead>\n",
              "  <tbody>\n",
              "    <tr>\n",
              "      <th>1651</th>\n",
              "      <td>8.205447</td>\n",
              "      <td>145.797317</td>\n",
              "      <td>17981.254776</td>\n",
              "      <td>6.580460</td>\n",
              "      <td>359.392567</td>\n",
              "      <td>420.394223</td>\n",
              "      <td>15.856797</td>\n",
              "      <td>100.712306</td>\n",
              "      <td>3.739922</td>\n",
              "    </tr>\n",
              "    <tr>\n",
              "      <th>1215</th>\n",
              "      <td>8.151249</td>\n",
              "      <td>205.847301</td>\n",
              "      <td>15661.940335</td>\n",
              "      <td>7.009437</td>\n",
              "      <td>335.622779</td>\n",
              "      <td>555.590284</td>\n",
              "      <td>14.861133</td>\n",
              "      <td>72.762585</td>\n",
              "      <td>2.799883</td>\n",
              "    </tr>\n",
              "    <tr>\n",
              "      <th>1094</th>\n",
              "      <td>NaN</td>\n",
              "      <td>213.041191</td>\n",
              "      <td>12036.643044</td>\n",
              "      <td>9.794730</td>\n",
              "      <td>349.171395</td>\n",
              "      <td>284.017995</td>\n",
              "      <td>12.419906</td>\n",
              "      <td>74.674383</td>\n",
              "      <td>3.898916</td>\n",
              "    </tr>\n",
              "    <tr>\n",
              "      <th>549</th>\n",
              "      <td>8.790851</td>\n",
              "      <td>187.439812</td>\n",
              "      <td>7850.641892</td>\n",
              "      <td>6.359942</td>\n",
              "      <td>NaN</td>\n",
              "      <td>384.920771</td>\n",
              "      <td>16.722376</td>\n",
              "      <td>77.902673</td>\n",
              "      <td>3.480272</td>\n",
              "    </tr>\n",
              "    <tr>\n",
              "      <th>1150</th>\n",
              "      <td>NaN</td>\n",
              "      <td>204.860505</td>\n",
              "      <td>24590.125934</td>\n",
              "      <td>7.774361</td>\n",
              "      <td>NaN</td>\n",
              "      <td>440.936824</td>\n",
              "      <td>12.567061</td>\n",
              "      <td>118.357275</td>\n",
              "      <td>4.318272</td>\n",
              "    </tr>\n",
              "    <tr>\n",
              "      <th>...</th>\n",
              "      <td>...</td>\n",
              "      <td>...</td>\n",
              "      <td>...</td>\n",
              "      <td>...</td>\n",
              "      <td>...</td>\n",
              "      <td>...</td>\n",
              "      <td>...</td>\n",
              "      <td>...</td>\n",
              "      <td>...</td>\n",
              "    </tr>\n",
              "    <tr>\n",
              "      <th>1502</th>\n",
              "      <td>6.000723</td>\n",
              "      <td>161.002305</td>\n",
              "      <td>21111.664104</td>\n",
              "      <td>4.339126</td>\n",
              "      <td>301.307173</td>\n",
              "      <td>384.753298</td>\n",
              "      <td>9.261965</td>\n",
              "      <td>71.002217</td>\n",
              "      <td>4.176219</td>\n",
              "    </tr>\n",
              "    <tr>\n",
              "      <th>1055</th>\n",
              "      <td>NaN</td>\n",
              "      <td>182.161880</td>\n",
              "      <td>30646.815275</td>\n",
              "      <td>6.325162</td>\n",
              "      <td>294.966088</td>\n",
              "      <td>404.120152</td>\n",
              "      <td>14.712285</td>\n",
              "      <td>106.371720</td>\n",
              "      <td>3.855773</td>\n",
              "    </tr>\n",
              "    <tr>\n",
              "      <th>2371</th>\n",
              "      <td>5.153489</td>\n",
              "      <td>107.341982</td>\n",
              "      <td>19115.721861</td>\n",
              "      <td>9.296114</td>\n",
              "      <td>333.061939</td>\n",
              "      <td>457.891532</td>\n",
              "      <td>17.445656</td>\n",
              "      <td>77.598804</td>\n",
              "      <td>3.749921</td>\n",
              "    </tr>\n",
              "    <tr>\n",
              "      <th>2010</th>\n",
              "      <td>NaN</td>\n",
              "      <td>161.038971</td>\n",
              "      <td>25583.492009</td>\n",
              "      <td>6.796914</td>\n",
              "      <td>NaN</td>\n",
              "      <td>467.479901</td>\n",
              "      <td>14.105554</td>\n",
              "      <td>52.331462</td>\n",
              "      <td>4.514175</td>\n",
              "    </tr>\n",
              "    <tr>\n",
              "      <th>814</th>\n",
              "      <td>7.374775</td>\n",
              "      <td>217.698644</td>\n",
              "      <td>12285.891483</td>\n",
              "      <td>10.038245</td>\n",
              "      <td>NaN</td>\n",
              "      <td>358.983254</td>\n",
              "      <td>16.293716</td>\n",
              "      <td>93.784380</td>\n",
              "      <td>3.592265</td>\n",
              "    </tr>\n",
              "  </tbody>\n",
              "</table>\n",
              "<p>2282 rows × 9 columns</p>\n",
              "</div>"
            ],
            "text/plain": [
              "            ph    Hardness        Solids  Chloramines     Sulfate  \\\n",
              "1651  8.205447  145.797317  17981.254776     6.580460  359.392567   \n",
              "1215  8.151249  205.847301  15661.940335     7.009437  335.622779   \n",
              "1094       NaN  213.041191  12036.643044     9.794730  349.171395   \n",
              "549   8.790851  187.439812   7850.641892     6.359942         NaN   \n",
              "1150       NaN  204.860505  24590.125934     7.774361         NaN   \n",
              "...        ...         ...           ...          ...         ...   \n",
              "1502  6.000723  161.002305  21111.664104     4.339126  301.307173   \n",
              "1055       NaN  182.161880  30646.815275     6.325162  294.966088   \n",
              "2371  5.153489  107.341982  19115.721861     9.296114  333.061939   \n",
              "2010       NaN  161.038971  25583.492009     6.796914         NaN   \n",
              "814   7.374775  217.698644  12285.891483    10.038245         NaN   \n",
              "\n",
              "      Conductivity  Organic_carbon  Trihalomethanes  Turbidity  \n",
              "1651    420.394223       15.856797       100.712306   3.739922  \n",
              "1215    555.590284       14.861133        72.762585   2.799883  \n",
              "1094    284.017995       12.419906        74.674383   3.898916  \n",
              "549     384.920771       16.722376        77.902673   3.480272  \n",
              "1150    440.936824       12.567061       118.357275   4.318272  \n",
              "...            ...             ...              ...        ...  \n",
              "1502    384.753298        9.261965        71.002217   4.176219  \n",
              "1055    404.120152       14.712285       106.371720   3.855773  \n",
              "2371    457.891532       17.445656        77.598804   3.749921  \n",
              "2010    467.479901       14.105554        52.331462   4.514175  \n",
              "814     358.983254       16.293716        93.784380   3.592265  \n",
              "\n",
              "[2282 rows x 9 columns]"
            ]
          },
          "execution_count": 55,
          "metadata": {},
          "output_type": "execute_result"
        }
      ],
      "source": [
        "X_train"
      ]
    },
    {
      "cell_type": "markdown",
      "metadata": {
        "id": "9YxXwniBdejV"
      },
      "source": [
        "kita akan menggunakan pipeline untuk data numeric saja, karena categoric tidak melakukan handling apa apa, pipeline yang dilakukan :\n",
        "- handling outlier menggunakan winsorizer metode gaussian\n",
        "- handling missing value menggunakan simpleimputer metode = mean\n",
        "- scaling menggunakan StandardScaller"
      ]
    },
    {
      "cell_type": "code",
      "execution_count": 56,
      "metadata": {
        "colab": {
          "base_uri": "https://localhost:8080/"
        },
        "id": "wdJ9hWqfDQeF",
        "outputId": "d22f25bb-4e9b-4565-c2b6-8baa9904f67d"
      },
      "outputs": [
        {
          "data": {
            "text/html": [
              "<style>#sk-container-id-1 {color: black;background-color: white;}#sk-container-id-1 pre{padding: 0;}#sk-container-id-1 div.sk-toggleable {background-color: white;}#sk-container-id-1 label.sk-toggleable__label {cursor: pointer;display: block;width: 100%;margin-bottom: 0;padding: 0.3em;box-sizing: border-box;text-align: center;}#sk-container-id-1 label.sk-toggleable__label-arrow:before {content: \"▸\";float: left;margin-right: 0.25em;color: #696969;}#sk-container-id-1 label.sk-toggleable__label-arrow:hover:before {color: black;}#sk-container-id-1 div.sk-estimator:hover label.sk-toggleable__label-arrow:before {color: black;}#sk-container-id-1 div.sk-toggleable__content {max-height: 0;max-width: 0;overflow: hidden;text-align: left;background-color: #f0f8ff;}#sk-container-id-1 div.sk-toggleable__content pre {margin: 0.2em;color: black;border-radius: 0.25em;background-color: #f0f8ff;}#sk-container-id-1 input.sk-toggleable__control:checked~div.sk-toggleable__content {max-height: 200px;max-width: 100%;overflow: auto;}#sk-container-id-1 input.sk-toggleable__control:checked~label.sk-toggleable__label-arrow:before {content: \"▾\";}#sk-container-id-1 div.sk-estimator input.sk-toggleable__control:checked~label.sk-toggleable__label {background-color: #d4ebff;}#sk-container-id-1 div.sk-label input.sk-toggleable__control:checked~label.sk-toggleable__label {background-color: #d4ebff;}#sk-container-id-1 input.sk-hidden--visually {border: 0;clip: rect(1px 1px 1px 1px);clip: rect(1px, 1px, 1px, 1px);height: 1px;margin: -1px;overflow: hidden;padding: 0;position: absolute;width: 1px;}#sk-container-id-1 div.sk-estimator {font-family: monospace;background-color: #f0f8ff;border: 1px dotted black;border-radius: 0.25em;box-sizing: border-box;margin-bottom: 0.5em;}#sk-container-id-1 div.sk-estimator:hover {background-color: #d4ebff;}#sk-container-id-1 div.sk-parallel-item::after {content: \"\";width: 100%;border-bottom: 1px solid gray;flex-grow: 1;}#sk-container-id-1 div.sk-label:hover label.sk-toggleable__label {background-color: #d4ebff;}#sk-container-id-1 div.sk-serial::before {content: \"\";position: absolute;border-left: 1px solid gray;box-sizing: border-box;top: 0;bottom: 0;left: 50%;z-index: 0;}#sk-container-id-1 div.sk-serial {display: flex;flex-direction: column;align-items: center;background-color: white;padding-right: 0.2em;padding-left: 0.2em;position: relative;}#sk-container-id-1 div.sk-item {position: relative;z-index: 1;}#sk-container-id-1 div.sk-parallel {display: flex;align-items: stretch;justify-content: center;background-color: white;position: relative;}#sk-container-id-1 div.sk-item::before, #sk-container-id-1 div.sk-parallel-item::before {content: \"\";position: absolute;border-left: 1px solid gray;box-sizing: border-box;top: 0;bottom: 0;left: 50%;z-index: -1;}#sk-container-id-1 div.sk-parallel-item {display: flex;flex-direction: column;z-index: 1;position: relative;background-color: white;}#sk-container-id-1 div.sk-parallel-item:first-child::after {align-self: flex-end;width: 50%;}#sk-container-id-1 div.sk-parallel-item:last-child::after {align-self: flex-start;width: 50%;}#sk-container-id-1 div.sk-parallel-item:only-child::after {width: 0;}#sk-container-id-1 div.sk-dashed-wrapped {border: 1px dashed gray;margin: 0 0.4em 0.5em 0.4em;box-sizing: border-box;padding-bottom: 0.4em;background-color: white;}#sk-container-id-1 div.sk-label label {font-family: monospace;font-weight: bold;display: inline-block;line-height: 1.2em;}#sk-container-id-1 div.sk-label-container {text-align: center;}#sk-container-id-1 div.sk-container {/* jupyter's `normalize.less` sets `[hidden] { display: none; }` but bootstrap.min.css set `[hidden] { display: none !important; }` so we also need the `!important` here to be able to override the default hidden behavior on the sphinx rendered scikit-learn.org. See: https://github.com/scikit-learn/scikit-learn/issues/21755 */display: inline-block !important;position: relative;}#sk-container-id-1 div.sk-text-repr-fallback {display: none;}</style><div id=\"sk-container-id-1\" class=\"sk-top-container\"><div class=\"sk-text-repr-fallback\"><pre>Pipeline(steps=[(&#x27;outlier&#x27;, Winsorizer(missing_values=&#x27;ignore&#x27;, tail=&#x27;both&#x27;)),\n",
              "                (&#x27;imputer&#x27;, SimpleImputer()), (&#x27;scaler&#x27;, StandardScaler())])</pre><b>In a Jupyter environment, please rerun this cell to show the HTML representation or trust the notebook. <br />On GitHub, the HTML representation is unable to render, please try loading this page with nbviewer.org.</b></div><div class=\"sk-container\" hidden><div class=\"sk-item sk-dashed-wrapped\"><div class=\"sk-label-container\"><div class=\"sk-label sk-toggleable\"><input class=\"sk-toggleable__control sk-hidden--visually\" id=\"sk-estimator-id-1\" type=\"checkbox\" ><label for=\"sk-estimator-id-1\" class=\"sk-toggleable__label sk-toggleable__label-arrow\">Pipeline</label><div class=\"sk-toggleable__content\"><pre>Pipeline(steps=[(&#x27;outlier&#x27;, Winsorizer(missing_values=&#x27;ignore&#x27;, tail=&#x27;both&#x27;)),\n",
              "                (&#x27;imputer&#x27;, SimpleImputer()), (&#x27;scaler&#x27;, StandardScaler())])</pre></div></div></div><div class=\"sk-serial\"><div class=\"sk-item\"><div class=\"sk-estimator sk-toggleable\"><input class=\"sk-toggleable__control sk-hidden--visually\" id=\"sk-estimator-id-2\" type=\"checkbox\" ><label for=\"sk-estimator-id-2\" class=\"sk-toggleable__label sk-toggleable__label-arrow\">Winsorizer</label><div class=\"sk-toggleable__content\"><pre>Winsorizer(missing_values=&#x27;ignore&#x27;, tail=&#x27;both&#x27;)</pre></div></div></div><div class=\"sk-item\"><div class=\"sk-estimator sk-toggleable\"><input class=\"sk-toggleable__control sk-hidden--visually\" id=\"sk-estimator-id-3\" type=\"checkbox\" ><label for=\"sk-estimator-id-3\" class=\"sk-toggleable__label sk-toggleable__label-arrow\">SimpleImputer</label><div class=\"sk-toggleable__content\"><pre>SimpleImputer()</pre></div></div></div><div class=\"sk-item\"><div class=\"sk-estimator sk-toggleable\"><input class=\"sk-toggleable__control sk-hidden--visually\" id=\"sk-estimator-id-4\" type=\"checkbox\" ><label for=\"sk-estimator-id-4\" class=\"sk-toggleable__label sk-toggleable__label-arrow\">StandardScaler</label><div class=\"sk-toggleable__content\"><pre>StandardScaler()</pre></div></div></div></div></div></div></div>"
            ],
            "text/plain": [
              "Pipeline(steps=[('outlier', Winsorizer(missing_values='ignore', tail='both')),\n",
              "                ('imputer', SimpleImputer()), ('scaler', StandardScaler())])"
            ]
          },
          "execution_count": 56,
          "metadata": {},
          "output_type": "execute_result"
        }
      ],
      "source": [
        "pipe = Pipeline([\n",
        "        ('outlier', Winsorizer(capping_method='gaussian', tail='both', fold=3,missing_values='ignore')),\n",
        "        ('imputer', SimpleImputer(strategy='mean')),\n",
        "        ('scaler', StandardScaler())\n",
        "    ])\n",
        "pipe"
      ]
    },
    {
      "cell_type": "code",
      "execution_count": 57,
      "metadata": {
        "colab": {
          "base_uri": "https://localhost:8080/"
        },
        "id": "uOqsk-09Hyvh",
        "outputId": "19bbdf4b-3c46-4d0b-bd37-79a7f03fa1bd"
      },
      "outputs": [
        {
          "data": {
            "text/plain": [
              "array([[ 7.51107450e-01, -1.55950318e+00, -4.58667250e-01, ...,\n",
              "         4.67758551e-01,  2.16249256e+00, -2.83354029e-01],\n",
              "       [ 7.14142702e-01,  2.88684588e-01, -7.26931359e-01, ...,\n",
              "         1.65561611e-01,  3.92218202e-01, -1.48269682e+00],\n",
              "       [-6.05764736e-16,  5.10094490e-01, -1.14625231e+00, ...,\n",
              "        -5.75382183e-01,  5.13307336e-01, -8.05021609e-02],\n",
              "       ...,\n",
              "       [-1.33042115e+00, -2.74306189e+00, -3.27448819e-01, ...,\n",
              "         9.49997639e-01,  6.98533769e-01, -2.70596994e-01],\n",
              "       [-6.05764736e-16, -1.09040334e+00,  4.20647501e-01, ...,\n",
              "        -6.37661957e-02, -9.01844539e-01,  7.04472358e-01],\n",
              "       [ 1.84564091e-01,  6.53439183e-01, -1.11742293e+00, ...,\n",
              "         6.00368924e-01,  1.72369284e+00, -4.71741330e-01]])"
            ]
          },
          "execution_count": 57,
          "metadata": {},
          "output_type": "execute_result"
        }
      ],
      "source": [
        "num_tr = pipe.fit_transform(X_train)\n",
        "num_tr"
      ]
    },
    {
      "cell_type": "code",
      "execution_count": 58,
      "metadata": {
        "colab": {
          "base_uri": "https://localhost:8080/"
        },
        "id": "kFN6jUeYI-Yu",
        "outputId": "8f2a802e-b946-4b88-ad35-3a900e7c82bc"
      },
      "outputs": [
        {
          "data": {
            "text/plain": [
              "True"
            ]
          },
          "execution_count": 58,
          "metadata": {},
          "output_type": "execute_result"
        }
      ],
      "source": [
        "train_manual = np.array(X_train_eda[['ph', 'Hardness', 'Solids', 'Chloramines', 'Sulfate', 'Conductivity',\n",
        "       'Organic_carbon', 'Trihalomethanes', 'Turbidity']])\n",
        "\n",
        "np.allclose(num_tr, train_manual)"
      ]
    },
    {
      "cell_type": "code",
      "execution_count": 59,
      "metadata": {
        "colab": {
          "base_uri": "https://localhost:8080/"
        },
        "id": "iFUOpi1JJ77K",
        "outputId": "c66ba1f0-600d-45f4-946b-bb50cf4d8be3"
      },
      "outputs": [
        {
          "data": {
            "text/plain": [
              "array([[-6.05764736e-16, -7.49618258e-01,  5.37687042e-01, ...,\n",
              "        -1.95398818e+00,  1.69319163e+00, -5.25267583e-01],\n",
              "       [ 5.74094640e-01,  5.10870551e-01, -5.98780009e-01, ...,\n",
              "        -3.81793407e-02,  9.80741775e-01, -4.80459787e-01],\n",
              "       [-1.73457337e+00, -9.44698147e-01,  1.14788343e-01, ...,\n",
              "        -2.28089249e-01,  8.07334283e-01,  2.06187604e-01],\n",
              "       ...,\n",
              "       [-5.86296204e-03,  8.22860281e-03,  9.58685141e-01, ...,\n",
              "         5.30264547e-01, -2.21777969e+00,  1.14732014e+00],\n",
              "       [-2.24070558e-01, -1.29557927e+00, -7.42725031e-01, ...,\n",
              "         8.50714701e-01, -6.61631948e-01, -1.20499524e+00],\n",
              "       [ 1.34631301e-01, -5.78760692e-01,  1.72866504e-01, ...,\n",
              "        -9.47725568e-02, -7.21212362e-01, -1.51449389e+00]])"
            ]
          },
          "execution_count": 59,
          "metadata": {},
          "output_type": "execute_result"
        }
      ],
      "source": [
        "test_tr = pipe.transform(X_test)\n",
        "test_tr"
      ]
    },
    {
      "cell_type": "markdown",
      "metadata": {
        "id": "T6iCKmDbPSCg"
      },
      "source": [
        "## Model Building"
      ]
    },
    {
      "cell_type": "markdown",
      "metadata": {
        "id": "30tzgORAPVe3"
      },
      "source": [
        "Model yang digunakan dalam classification ini \n",
        "\n",
        "- LogisticRegression\n",
        "- DecisionTree Classifier\n",
        "- RandomFOrest Classifier\n",
        "- AdaboostClassifier"
      ]
    },
    {
      "cell_type": "code",
      "execution_count": 60,
      "metadata": {
        "id": "xvu-JozJO6e5"
      },
      "outputs": [],
      "source": [
        "logreg = LogisticRegression(random_state=0)\n",
        "dtc = DecisionTreeClassifier(random_state=0)\n",
        "rfc = RandomForestClassifier(random_state=0)\n",
        "adb = AdaBoostClassifier(random_state=0)"
      ]
    },
    {
      "cell_type": "markdown",
      "metadata": {
        "id": "jpeEy9GLetpv"
      },
      "source": [
        "Model training dengan menggunakan parameter default (baseline model) dari setiap algoritma. "
      ]
    },
    {
      "cell_type": "markdown",
      "metadata": {
        "id": "mZs5gB7we1JT"
      },
      "source": [
        "## Model Evaluation"
      ]
    },
    {
      "cell_type": "markdown",
      "metadata": {
        "id": "svuhpzrNe3Ha"
      },
      "source": [
        "### Logistic regression"
      ]
    },
    {
      "cell_type": "code",
      "execution_count": 61,
      "metadata": {
        "colab": {
          "base_uri": "https://localhost:8080/",
          "height": 626
        },
        "id": "sEtBSd5NPt8N",
        "outputId": "fb7d36fe-ce84-47d8-af9e-0e2dafac33fd"
      },
      "outputs": [
        {
          "name": "stdout",
          "output_type": "stream",
          "text": [
            "              precision    recall  f1-score   support\n",
            "\n",
            "           0       0.61      1.00      0.76      1392\n",
            "           1       0.25      0.00      0.00       890\n",
            "\n",
            "    accuracy                           0.61      2282\n",
            "   macro avg       0.43      0.50      0.38      2282\n",
            "weighted avg       0.47      0.61      0.46      2282\n",
            "\n",
            "              precision    recall  f1-score   support\n",
            "\n",
            "           0       0.61      1.00      0.76       597\n",
            "           1       0.00      0.00      0.00       382\n",
            "\n",
            "    accuracy                           0.61       979\n",
            "   macro avg       0.30      0.50      0.38       979\n",
            "weighted avg       0.37      0.61      0.46       979\n",
            "\n",
            "Confusion Matrix      : \n",
            " <sklearn.metrics._plot.confusion_matrix.ConfusionMatrixDisplay object at 0x0000025A6BB39880>\n"
          ]
        },
        {
          "data": {
            "image/png": "[encoded data removed]",
            "text/plain": [
              "<Figure size 432x288 with 2 Axes>"
            ]
          },
          "metadata": {
            "needs_background": "light"
          },
          "output_type": "display_data"
        }
      ],
      "source": [
        "logreg.fit(num_tr, y_train)\n",
        "\n",
        "lr_train = logreg.predict(num_tr)\n",
        "lr_test = logreg.predict(test_tr)\n",
        "\n",
        "print(classification_report(y_train, lr_train))\n",
        "print(classification_report(y_test, lr_test))\n",
        "print('Confusion Matrix      : \\n', ConfusionMatrixDisplay.from_estimator(logreg, test_tr, y_test, cmap='Greys'))"
      ]
    },
    {
      "cell_type": "markdown",
      "metadata": {
        "id": "W6pxLGZofCNI"
      },
      "source": [
        "### Decission Tree Classifier"
      ]
    },
    {
      "cell_type": "code",
      "execution_count": 62,
      "metadata": {
        "colab": {
          "base_uri": "https://localhost:8080/",
          "height": 626
        },
        "id": "IyFKzY14RNKQ",
        "outputId": "71d88384-63e5-47e2-9efd-afe540366ccd"
      },
      "outputs": [
        {
          "name": "stdout",
          "output_type": "stream",
          "text": [
            "              precision    recall  f1-score   support\n",
            "\n",
            "           0       1.00      1.00      1.00      1392\n",
            "           1       1.00      1.00      1.00       890\n",
            "\n",
            "    accuracy                           1.00      2282\n",
            "   macro avg       1.00      1.00      1.00      2282\n",
            "weighted avg       1.00      1.00      1.00      2282\n",
            "\n",
            "              precision    recall  f1-score   support\n",
            "\n",
            "           0       0.66      0.67      0.66       597\n",
            "           1       0.47      0.45      0.46       382\n",
            "\n",
            "    accuracy                           0.58       979\n",
            "   macro avg       0.56      0.56      0.56       979\n",
            "weighted avg       0.58      0.58      0.58       979\n",
            "\n",
            "Confusion Matrix      : \n",
            " <sklearn.metrics._plot.confusion_matrix.ConfusionMatrixDisplay object at 0x0000025A6B71AEE0>\n"
          ]
        },
        {
          "data": {
            "image/png": "[encoded data removed]",
            "text/plain": [
              "<Figure size 432x288 with 2 Axes>"
            ]
          },
          "metadata": {
            "needs_background": "light"
          },
          "output_type": "display_data"
        }
      ],
      "source": [
        "dtc.fit(num_tr, y_train)\n",
        "\n",
        "dtc_train = dtc.predict(num_tr)\n",
        "dtc_test = dtc.predict(test_tr)\n",
        "\n",
        "print(classification_report(y_train, dtc_train))\n",
        "print(classification_report(y_test, dtc_test))\n",
        "print('Confusion Matrix      : \\n', ConfusionMatrixDisplay.from_estimator(dtc, test_tr, y_test, cmap='Greys'))"
      ]
    },
    {
      "cell_type": "markdown",
      "metadata": {
        "id": "N4JiG5sKfGlC"
      },
      "source": [
        "### Random Forest Classifier"
      ]
    },
    {
      "cell_type": "code",
      "execution_count": 63,
      "metadata": {
        "colab": {
          "base_uri": "https://localhost:8080/",
          "height": 626
        },
        "id": "VKyil9yFSxah",
        "outputId": "a03327f8-0508-4d2c-ebb8-cd85ec04237d"
      },
      "outputs": [
        {
          "name": "stdout",
          "output_type": "stream",
          "text": [
            "              precision    recall  f1-score   support\n",
            "\n",
            "           0       1.00      1.00      1.00      1392\n",
            "           1       1.00      1.00      1.00       890\n",
            "\n",
            "    accuracy                           1.00      2282\n",
            "   macro avg       1.00      1.00      1.00      2282\n",
            "weighted avg       1.00      1.00      1.00      2282\n",
            "\n",
            "              precision    recall  f1-score   support\n",
            "\n",
            "           0       0.67      0.90      0.77       597\n",
            "           1       0.68      0.32      0.43       382\n",
            "\n",
            "    accuracy                           0.67       979\n",
            "   macro avg       0.67      0.61      0.60       979\n",
            "weighted avg       0.67      0.67      0.64       979\n",
            "\n",
            "Confusion Matrix      : \n",
            " <sklearn.metrics._plot.confusion_matrix.ConfusionMatrixDisplay object at 0x0000025A6B723310>\n"
          ]
        },
        {
          "data": {
            "image/png": "[encoded data removed]",
            "text/plain": [
              "<Figure size 432x288 with 2 Axes>"
            ]
          },
          "metadata": {
            "needs_background": "light"
          },
          "output_type": "display_data"
        }
      ],
      "source": [
        "rfc.fit(num_tr, y_train)\n",
        "\n",
        "rfc_train = rfc.predict(num_tr)\n",
        "rfc_test = rfc.predict(test_tr)\n",
        "\n",
        "print(classification_report(y_train, rfc_train))\n",
        "print(classification_report(y_test, rfc_test))\n",
        "print('Confusion Matrix      : \\n', ConfusionMatrixDisplay.from_estimator(rfc, test_tr, y_test, cmap='Greys'))"
      ]
    },
    {
      "cell_type": "markdown",
      "metadata": {
        "id": "mnpm32PKfSfJ"
      },
      "source": [
        "### AdaBoost Classifier"
      ]
    },
    {
      "cell_type": "code",
      "execution_count": 64,
      "metadata": {
        "colab": {
          "base_uri": "https://localhost:8080/",
          "height": 626
        },
        "id": "ePoxS76_S5VM",
        "outputId": "58a1b36d-5005-4f51-abc8-6845126ad38d"
      },
      "outputs": [
        {
          "name": "stdout",
          "output_type": "stream",
          "text": [
            "              precision    recall  f1-score   support\n",
            "\n",
            "           0       0.67      0.91      0.77      1392\n",
            "           1       0.68      0.29      0.40       890\n",
            "\n",
            "    accuracy                           0.67      2282\n",
            "   macro avg       0.67      0.60      0.59      2282\n",
            "weighted avg       0.67      0.67      0.63      2282\n",
            "\n",
            "              precision    recall  f1-score   support\n",
            "\n",
            "           0       0.64      0.88      0.74       597\n",
            "           1       0.53      0.22      0.31       382\n",
            "\n",
            "    accuracy                           0.62       979\n",
            "   macro avg       0.58      0.55      0.52       979\n",
            "weighted avg       0.60      0.62      0.57       979\n",
            "\n",
            "Confusion Matrix      : \n",
            " <sklearn.metrics._plot.confusion_matrix.ConfusionMatrixDisplay object at 0x0000025A6B8A28B0>\n"
          ]
        },
        {
          "data": {
            "image/png": "[encoded data removed]",
            "text/plain": [
              "<Figure size 432x288 with 2 Axes>"
            ]
          },
          "metadata": {
            "needs_background": "light"
          },
          "output_type": "display_data"
        }
      ],
      "source": [
        "adb.fit(num_tr, y_train)\n",
        "\n",
        "adb_train = adb.predict(num_tr)\n",
        "adb_test = adb.predict(test_tr)\n",
        "\n",
        "print(classification_report(y_train, adb_train))\n",
        "print(classification_report(y_test, adb_test))\n",
        "print('Confusion Matrix      : \\n', ConfusionMatrixDisplay.from_estimator(adb, test_tr, y_test, cmap='Greys'))"
      ]
    },
    {
      "cell_type": "markdown",
      "metadata": {
        "id": "4hjDzjqxffQn"
      },
      "source": [
        "Karena urgency target yaitu Potability 1=bisa diminum, 0= tidak bisa diminum\n",
        "maka yang menjadi perhatian adalah nilai 0. Dimana nilai prediksi 0 nya harus tinggi. \n",
        "\n",
        "Kita akan menggunakan nilai precision, yaitu nilai pengukuran model bilamana kita menitikberatkan pada nilai false positive yang harus rendah dan data imbalance. \n",
        "nilai False positive yg artinya prediksinya 1 padahal actualnya 0 atau prediksi bisa diminum padahal tidak, hal ini harus dihindari atau harus bernilai lebih rendah. Jadi dari nilai precision kita lihat prediksi 0 nya harus tinggi.\n",
        "\n",
        "Begitu juga dengan nilai dari confusion matrix nya, predict 1, actual 0 nya atau nilai false positive harus lebih rendah. \n",
        "\n",
        "Nilai precision dan confusion matrix yang didapatkan dari beberapa model sbb :\n",
        "\n",
        "\n",
        "1. Logistic regression\n",
        "- 0 : 0.61\n",
        "- 1 : 0.00\n",
        "- confusion_matrix = False Positive nya : 1\n",
        "2. Decision Tree \n",
        "- 0 : 0.66\n",
        "- 1 : 0.47\n",
        "- confusion_matrix = False Positive nya : 199\n",
        "3. Random Forest  \n",
        "- 0 : 0.67\n",
        "- 1 : 0.68\n",
        "- confusion_matrix = False Positive nya : 58\n",
        "4. Adaboost \n",
        "- 0 : 0.64\n",
        "- 1 : 0.53\n",
        "- confusion_matrix = False Positive nya : 73\n",
        "\n",
        "Dari perhitungan sementara model yang paling bagus memprediksi nilai 0 adalah RandomForest dimana nilainya 0.67 dan confusion matrix nya juga 58, lebih rendah dibanding model lain. Sejauh ini dapat kita katakan model kita masih tidak bagus performanya dilihat juga pada saat train nilainya lebih bagus daripada test maka dapat dikatakan model ini overfit. Mari kita lihat melalui cross validation. "
      ]
    },
    {
      "cell_type": "markdown",
      "metadata": {
        "id": "J1UmEo3OVp7e"
      },
      "source": [
        "## Cross Validation "
      ]
    },
    {
      "cell_type": "markdown",
      "metadata": {
        "id": "65DuHdR5h3Fo"
      },
      "source": [
        "untuk mengevaluasi kinerja model maka akan kita gunakan cross validation dengan menggunakna skoring accuracy untuk melihat sejauh mana model konsisten dilihat dari nilai mean nya yang paling tinggi dan nilai standar deviasi nya yg paling rendah dari masing-masing model yg diterapkan untuk selanjutnya dipilih best model"
      ]
    },
    {
      "cell_type": "markdown",
      "metadata": {
        "id": "mTr86V2Shefi"
      },
      "source": [
        "### Logistic Regression"
      ]
    },
    {
      "cell_type": "code",
      "execution_count": 65,
      "metadata": {
        "colab": {
          "base_uri": "https://localhost:8080/"
        },
        "id": "OwexXAWKTjs0",
        "outputId": "5f7359c8-36a2-43e2-b499-db81da5cdcca"
      },
      "outputs": [
        {
          "name": "stdout",
          "output_type": "stream",
          "text": [
            "LogisticRegression\n",
            "accuracy Score - All - Cross Validation  :  [0.60840999 0.60578187 0.61052632]\n",
            "accuracy Score - Mean - Cross Validation :  0.6082393895382346\n",
            "accuracy Score - Std - Cross Validation  :  0.00194066631456797\n",
            "accuracy Score - Range of Test-Set       :  0.6062987232236666 - 0.6101800558528027\n"
          ]
        }
      ],
      "source": [
        "cv_logreg = cross_val_score(logreg,num_tr, y_train, cv=3, scoring='accuracy')\n",
        "\n",
        "print('LogisticRegression')\n",
        "print('accuracy Score - All - Cross Validation  : ', cv_logreg)\n",
        "print('accuracy Score - Mean - Cross Validation : ', cv_logreg.mean())\n",
        "print('accuracy Score - Std - Cross Validation  : ', cv_logreg.std())\n",
        "print('accuracy Score - Range of Test-Set       : ', (cv_logreg.mean()-cv_logreg.std()) , '-', (cv_logreg.mean()+cv_logreg.std()))"
      ]
    },
    {
      "cell_type": "markdown",
      "metadata": {
        "id": "REF2GBjihiGS"
      },
      "source": [
        "### Decission Tree Classifier"
      ]
    },
    {
      "cell_type": "code",
      "execution_count": 66,
      "metadata": {
        "colab": {
          "base_uri": "https://localhost:8080/"
        },
        "id": "QQtPXqGFWCjh",
        "outputId": "8b512a14-10be-4be7-a80d-b9b899160c8c"
      },
      "outputs": [
        {
          "name": "stdout",
          "output_type": "stream",
          "text": [
            "LogisticRegression\n",
            "accuracy Score - All - Cross Validation  :  [0.56373193 0.59395532 0.56184211]\n",
            "accuracy Score - Mean - Cross Validation :  0.5731764529589414\n",
            "accuracy Score - Std - Cross Validation  :  0.014713121314206172\n",
            "accuracy Score - Range of Test-Set       :  0.5584633316447352 - 0.5878895742731476\n"
          ]
        }
      ],
      "source": [
        "cv_dtc = cross_val_score(dtc,num_tr, y_train, cv=3, scoring='accuracy')\n",
        "\n",
        "print('LogisticRegression')\n",
        "print('accuracy Score - All - Cross Validation  : ', cv_dtc)\n",
        "print('accuracy Score - Mean - Cross Validation : ', cv_dtc.mean())\n",
        "print('accuracy Score - Std - Cross Validation  : ', cv_dtc.std())\n",
        "print('accuracy Score - Range of Test-Set       : ', (cv_dtc.mean()-cv_dtc.std()) , '-', (cv_dtc.mean()+cv_dtc.std()))"
      ]
    },
    {
      "cell_type": "markdown",
      "metadata": {
        "id": "1w0_VRMohlCD"
      },
      "source": [
        "### Random Forest Classifier"
      ]
    },
    {
      "cell_type": "code",
      "execution_count": 67,
      "metadata": {
        "colab": {
          "base_uri": "https://localhost:8080/"
        },
        "id": "zKx5ejQ8WSK7",
        "outputId": "f5e1d78c-12e9-47cf-e54b-4280d268fb35"
      },
      "outputs": [
        {
          "name": "stdout",
          "output_type": "stream",
          "text": [
            "LogisticRegression\n",
            "accuracy Score - All - Cross Validation  :  [0.65308804 0.64914586 0.66578947]\n",
            "accuracy Score - Mean - Cross Validation :  0.6560077921479125\n",
            "accuracy Score - Std - Cross Validation  :  0.007101463167929983\n",
            "accuracy Score - Range of Test-Set       :  0.6489063289799825 - 0.6631092553158425\n"
          ]
        }
      ],
      "source": [
        "cv_rfc = cross_val_score(rfc,num_tr, y_train, cv=3, scoring='accuracy')\n",
        "\n",
        "print('LogisticRegression')\n",
        "print('accuracy Score - All - Cross Validation  : ', cv_rfc)\n",
        "print('accuracy Score - Mean - Cross Validation : ', cv_rfc.mean())\n",
        "print('accuracy Score - Std - Cross Validation  : ', cv_rfc.std())\n",
        "print('accuracy Score - Range of Test-Set       : ', (cv_rfc.mean()-cv_rfc.std()) , '-', (cv_rfc.mean()+cv_rfc.std()))"
      ]
    },
    {
      "cell_type": "markdown",
      "metadata": {
        "id": "zhFNvcsrhpxc"
      },
      "source": [
        "### Adaboost Classifier"
      ]
    },
    {
      "cell_type": "code",
      "execution_count": 68,
      "metadata": {
        "colab": {
          "base_uri": "https://localhost:8080/"
        },
        "id": "oBNphR-rWhrJ",
        "outputId": "ee70de02-efb1-4b39-c241-ee95b4379e12"
      },
      "outputs": [
        {
          "name": "stdout",
          "output_type": "stream",
          "text": [
            "LogisticRegression\n",
            "accuracy Score - All - Cross Validation  :  [0.60578187 0.58607096 0.60921053]\n",
            "accuracy Score - Mean - Cross Validation :  0.6003544505152499\n",
            "accuracy Score - Std - Cross Validation  :  0.010196486966582735\n",
            "accuracy Score - Range of Test-Set       :  0.5901579635486672 - 0.6105509374818326\n"
          ]
        }
      ],
      "source": [
        "cv_adb = cross_val_score(adb,num_tr, y_train, cv=3, scoring='accuracy')\n",
        "\n",
        "print('LogisticRegression')\n",
        "print('accuracy Score - All - Cross Validation  : ', cv_adb)\n",
        "print('accuracy Score - Mean - Cross Validation : ', cv_adb.mean())\n",
        "print('accuracy Score - Std - Cross Validation  : ', cv_adb.std())\n",
        "print('accuracy Score - Range of Test-Set       : ', (cv_adb.mean()-cv_adb.std()) , '-', (cv_adb.mean()+cv_adb.std()))"
      ]
    },
    {
      "cell_type": "markdown",
      "metadata": {
        "id": "2Bkxtx5sWp7B"
      },
      "source": [
        "### Best Score"
      ]
    },
    {
      "cell_type": "code",
      "execution_count": 69,
      "metadata": {
        "colab": {
          "base_uri": "https://localhost:8080/",
          "height": 175
        },
        "id": "RY7sF8pWWpQu",
        "outputId": "9dc89f9f-d260-4a43-b284-9b40e3836c1a"
      },
      "outputs": [
        {
          "data": {
            "text/html": [
              "<div>\n",
              "<style scoped>\n",
              "    .dataframe tbody tr th:only-of-type {\n",
              "        vertical-align: middle;\n",
              "    }\n",
              "\n",
              "    .dataframe tbody tr th {\n",
              "        vertical-align: top;\n",
              "    }\n",
              "\n",
              "    .dataframe thead th {\n",
              "        text-align: right;\n",
              "    }\n",
              "</style>\n",
              "<table border=\"1\" class=\"dataframe\">\n",
              "  <thead>\n",
              "    <tr style=\"text-align: right;\">\n",
              "      <th></th>\n",
              "      <th>Model</th>\n",
              "      <th>Mean</th>\n",
              "      <th>Std</th>\n",
              "    </tr>\n",
              "  </thead>\n",
              "  <tbody>\n",
              "    <tr>\n",
              "      <th>0</th>\n",
              "      <td>Random Forest</td>\n",
              "      <td>0.656</td>\n",
              "      <td>0.007</td>\n",
              "    </tr>\n",
              "    <tr>\n",
              "      <th>1</th>\n",
              "      <td>Logistic Regression</td>\n",
              "      <td>0.608</td>\n",
              "      <td>0.002</td>\n",
              "    </tr>\n",
              "    <tr>\n",
              "      <th>2</th>\n",
              "      <td>AdaBoost</td>\n",
              "      <td>0.600</td>\n",
              "      <td>0.010</td>\n",
              "    </tr>\n",
              "    <tr>\n",
              "      <th>3</th>\n",
              "      <td>Decission Tree</td>\n",
              "      <td>0.573</td>\n",
              "      <td>0.015</td>\n",
              "    </tr>\n",
              "  </tbody>\n",
              "</table>\n",
              "</div>"
            ],
            "text/plain": [
              "                 Model   Mean    Std\n",
              "0        Random Forest  0.656  0.007\n",
              "1  Logistic Regression  0.608  0.002\n",
              "2             AdaBoost  0.600  0.010\n",
              "3       Decission Tree  0.573  0.015"
            ]
          },
          "execution_count": 69,
          "metadata": {},
          "output_type": "execute_result"
        }
      ],
      "source": [
        "crossval = [cv_logreg,cv_dtc,cv_rfc,cv_adb]\n",
        "mean = []\n",
        "std = []\n",
        "for i in crossval:\n",
        "    mean.append(i.mean())\n",
        "    std.append(i.std())\n",
        "model = ['Logistic Regression','Decission Tree','Random Forest','AdaBoost']\n",
        "bestmodel = pd.DataFrame(model)\n",
        "bestmodel['Mean']=np.round(mean,3)\n",
        "bestmodel['Std']=np.round(std,3)\n",
        "bestmodel.rename(columns={0:'Model'},inplace = True)\n",
        "bestmodel.sort_values(by= 'Mean' , ascending = False).reset_index(drop=True)"
      ]
    },
    {
      "cell_type": "markdown",
      "metadata": {
        "id": "KeZvsjL4h_Bq"
      },
      "source": [
        "Dari hasil cross validation didapatkan hasil bahwa Model RandomForest mendapatkan peringkat pertama dimana nilai Mean nya 0.656 dan std nya 0.007. Maka dari itu akan kita coba untuk menerapkan hyperparameter pada model ini untuk mendapatkan hasil yang lebih bagus."
      ]
    },
    {
      "cell_type": "markdown",
      "metadata": {
        "id": "tTml_vmvXg5M"
      },
      "source": [
        "## Hyperparameter Tuning using GridSearchCV"
      ]
    },
    {
      "cell_type": "markdown",
      "metadata": {
        "id": "IxHUXohsiMbm"
      },
      "source": [
        "### Random Forest Classifier"
      ]
    },
    {
      "cell_type": "markdown",
      "metadata": {
        "id": "ungH3Qy9i8sD"
      },
      "source": [
        "Mendefinisikan parameter parameter yang akan digunakan dalam pemilihan gridsearch"
      ]
    },
    {
      "cell_type": "markdown",
      "metadata": {
        "id": "CTFtEpcRi_Sq"
      },
      "source": [
        "Menerapkan fungsi random_grid ke dalam gridseacrhcv dengan menggunakna scoring precision."
      ]
    },
    {
      "cell_type": "code",
      "execution_count": 70,
      "metadata": {
        "colab": {
          "base_uri": "https://localhost:8080/"
        },
        "id": "AIALhsLvXihm",
        "outputId": "8833d00a-a249-4b6a-b73f-93bbbf53149c"
      },
      "outputs": [
        {
          "data": {
            "text/html": [
              "<style>#sk-container-id-2 {color: black;background-color: white;}#sk-container-id-2 pre{padding: 0;}#sk-container-id-2 div.sk-toggleable {background-color: white;}#sk-container-id-2 label.sk-toggleable__label {cursor: pointer;display: block;width: 100%;margin-bottom: 0;padding: 0.3em;box-sizing: border-box;text-align: center;}#sk-container-id-2 label.sk-toggleable__label-arrow:before {content: \"▸\";float: left;margin-right: 0.25em;color: #696969;}#sk-container-id-2 label.sk-toggleable__label-arrow:hover:before {color: black;}#sk-container-id-2 div.sk-estimator:hover label.sk-toggleable__label-arrow:before {color: black;}#sk-container-id-2 div.sk-toggleable__content {max-height: 0;max-width: 0;overflow: hidden;text-align: left;background-color: #f0f8ff;}#sk-container-id-2 div.sk-toggleable__content pre {margin: 0.2em;color: black;border-radius: 0.25em;background-color: #f0f8ff;}#sk-container-id-2 input.sk-toggleable__control:checked~div.sk-toggleable__content {max-height: 200px;max-width: 100%;overflow: auto;}#sk-container-id-2 input.sk-toggleable__control:checked~label.sk-toggleable__label-arrow:before {content: \"▾\";}#sk-container-id-2 div.sk-estimator input.sk-toggleable__control:checked~label.sk-toggleable__label {background-color: #d4ebff;}#sk-container-id-2 div.sk-label input.sk-toggleable__control:checked~label.sk-toggleable__label {background-color: #d4ebff;}#sk-container-id-2 input.sk-hidden--visually {border: 0;clip: rect(1px 1px 1px 1px);clip: rect(1px, 1px, 1px, 1px);height: 1px;margin: -1px;overflow: hidden;padding: 0;position: absolute;width: 1px;}#sk-container-id-2 div.sk-estimator {font-family: monospace;background-color: #f0f8ff;border: 1px dotted black;border-radius: 0.25em;box-sizing: border-box;margin-bottom: 0.5em;}#sk-container-id-2 div.sk-estimator:hover {background-color: #d4ebff;}#sk-container-id-2 div.sk-parallel-item::after {content: \"\";width: 100%;border-bottom: 1px solid gray;flex-grow: 1;}#sk-container-id-2 div.sk-label:hover label.sk-toggleable__label {background-color: #d4ebff;}#sk-container-id-2 div.sk-serial::before {content: \"\";position: absolute;border-left: 1px solid gray;box-sizing: border-box;top: 0;bottom: 0;left: 50%;z-index: 0;}#sk-container-id-2 div.sk-serial {display: flex;flex-direction: column;align-items: center;background-color: white;padding-right: 0.2em;padding-left: 0.2em;position: relative;}#sk-container-id-2 div.sk-item {position: relative;z-index: 1;}#sk-container-id-2 div.sk-parallel {display: flex;align-items: stretch;justify-content: center;background-color: white;position: relative;}#sk-container-id-2 div.sk-item::before, #sk-container-id-2 div.sk-parallel-item::before {content: \"\";position: absolute;border-left: 1px solid gray;box-sizing: border-box;top: 0;bottom: 0;left: 50%;z-index: -1;}#sk-container-id-2 div.sk-parallel-item {display: flex;flex-direction: column;z-index: 1;position: relative;background-color: white;}#sk-container-id-2 div.sk-parallel-item:first-child::after {align-self: flex-end;width: 50%;}#sk-container-id-2 div.sk-parallel-item:last-child::after {align-self: flex-start;width: 50%;}#sk-container-id-2 div.sk-parallel-item:only-child::after {width: 0;}#sk-container-id-2 div.sk-dashed-wrapped {border: 1px dashed gray;margin: 0 0.4em 0.5em 0.4em;box-sizing: border-box;padding-bottom: 0.4em;background-color: white;}#sk-container-id-2 div.sk-label label {font-family: monospace;font-weight: bold;display: inline-block;line-height: 1.2em;}#sk-container-id-2 div.sk-label-container {text-align: center;}#sk-container-id-2 div.sk-container {/* jupyter's `normalize.less` sets `[hidden] { display: none; }` but bootstrap.min.css set `[hidden] { display: none !important; }` so we also need the `!important` here to be able to override the default hidden behavior on the sphinx rendered scikit-learn.org. See: https://github.com/scikit-learn/scikit-learn/issues/21755 */display: inline-block !important;position: relative;}#sk-container-id-2 div.sk-text-repr-fallback {display: none;}</style><div id=\"sk-container-id-2\" class=\"sk-top-container\"><div class=\"sk-text-repr-fallback\"><pre>GridSearchCV(cv=5, estimator=RandomForestClassifier(random_state=0),\n",
              "             param_grid=[{&#x27;class_weight&#x27;: [&#x27;balanced_subsample&#x27;],\n",
              "                          &#x27;criterion&#x27;: [&#x27;gini&#x27;, &#x27;entropy&#x27;],\n",
              "                          &#x27;max_depth&#x27;: [5, 10, None],\n",
              "                          &#x27;max_features&#x27;: [2, 3, 5, 1],\n",
              "                          &#x27;n_estimators&#x27;: [10, 20, 40, 60]}],\n",
              "             return_train_score=True, scoring=&#x27;precision&#x27;)</pre><b>In a Jupyter environment, please rerun this cell to show the HTML representation or trust the notebook. <br />On GitHub, the HTML representation is unable to render, please try loading this page with nbviewer.org.</b></div><div class=\"sk-container\" hidden><div class=\"sk-item sk-dashed-wrapped\"><div class=\"sk-label-container\"><div class=\"sk-label sk-toggleable\"><input class=\"sk-toggleable__control sk-hidden--visually\" id=\"sk-estimator-id-5\" type=\"checkbox\" ><label for=\"sk-estimator-id-5\" class=\"sk-toggleable__label sk-toggleable__label-arrow\">GridSearchCV</label><div class=\"sk-toggleable__content\"><pre>GridSearchCV(cv=5, estimator=RandomForestClassifier(random_state=0),\n",
              "             param_grid=[{&#x27;class_weight&#x27;: [&#x27;balanced_subsample&#x27;],\n",
              "                          &#x27;criterion&#x27;: [&#x27;gini&#x27;, &#x27;entropy&#x27;],\n",
              "                          &#x27;max_depth&#x27;: [5, 10, None],\n",
              "                          &#x27;max_features&#x27;: [2, 3, 5, 1],\n",
              "                          &#x27;n_estimators&#x27;: [10, 20, 40, 60]}],\n",
              "             return_train_score=True, scoring=&#x27;precision&#x27;)</pre></div></div></div><div class=\"sk-parallel\"><div class=\"sk-parallel-item\"><div class=\"sk-item\"><div class=\"sk-label-container\"><div class=\"sk-label sk-toggleable\"><input class=\"sk-toggleable__control sk-hidden--visually\" id=\"sk-estimator-id-6\" type=\"checkbox\" ><label for=\"sk-estimator-id-6\" class=\"sk-toggleable__label sk-toggleable__label-arrow\">estimator: RandomForestClassifier</label><div class=\"sk-toggleable__content\"><pre>RandomForestClassifier(random_state=0)</pre></div></div></div><div class=\"sk-serial\"><div class=\"sk-item\"><div class=\"sk-estimator sk-toggleable\"><input class=\"sk-toggleable__control sk-hidden--visually\" id=\"sk-estimator-id-7\" type=\"checkbox\" ><label for=\"sk-estimator-id-7\" class=\"sk-toggleable__label sk-toggleable__label-arrow\">RandomForestClassifier</label><div class=\"sk-toggleable__content\"><pre>RandomForestClassifier(random_state=0)</pre></div></div></div></div></div></div></div></div></div></div>"
            ],
            "text/plain": [
              "GridSearchCV(cv=5, estimator=RandomForestClassifier(random_state=0),\n",
              "             param_grid=[{'class_weight': ['balanced_subsample'],\n",
              "                          'criterion': ['gini', 'entropy'],\n",
              "                          'max_depth': [5, 10, None],\n",
              "                          'max_features': [2, 3, 5, 1],\n",
              "                          'n_estimators': [10, 20, 40, 60]}],\n",
              "             return_train_score=True, scoring='precision')"
            ]
          },
          "execution_count": 70,
          "metadata": {},
          "output_type": "execute_result"
        }
      ],
      "source": [
        "params = [\n",
        "    {'n_estimators': [10, 20, 40, 60],        \n",
        "     'max_features': [2, 3, 5, 1],            \n",
        "     'max_depth': [5, 10, None],           \n",
        "     'criterion': ['gini', 'entropy'],\n",
        "     'class_weight' : ['balanced_subsample']}      \n",
        "  ]\n",
        "\n",
        "rfc = RandomForestClassifier(random_state=0)\n",
        "\n",
        "grid_search = GridSearchCV(rfc, params, cv=5,\n",
        "                           scoring='precision',\n",
        "                           return_train_score=True)\n",
        "grid_search.fit(num_tr, y_train)"
      ]
    },
    {
      "cell_type": "code",
      "execution_count": 71,
      "metadata": {
        "colab": {
          "base_uri": "https://localhost:8080/"
        },
        "id": "suNXA0YsbiIl",
        "outputId": "ca61eaa9-3db2-4e39-94c1-9e89ee0274a8"
      },
      "outputs": [
        {
          "data": {
            "text/plain": [
              "{'class_weight': 'balanced_subsample',\n",
              " 'criterion': 'entropy',\n",
              " 'max_depth': None,\n",
              " 'max_features': 1,\n",
              " 'n_estimators': 60}"
            ]
          },
          "execution_count": 71,
          "metadata": {},
          "output_type": "execute_result"
        }
      ],
      "source": [
        "grid_search.best_params_"
      ]
    },
    {
      "cell_type": "code",
      "execution_count": 72,
      "metadata": {
        "colab": {
          "base_uri": "https://localhost:8080/"
        },
        "id": "1ILdlVZNboCz",
        "outputId": "963fee69-7152-4c31-b708-6f2248c17cc5"
      },
      "outputs": [
        {
          "data": {
            "text/plain": [
              "0.6455741151691856"
            ]
          },
          "execution_count": 72,
          "metadata": {},
          "output_type": "execute_result"
        }
      ],
      "source": [
        "grid_search.best_score_"
      ]
    },
    {
      "cell_type": "markdown",
      "metadata": {
        "id": "_RtYt-Fak6MK"
      },
      "source": [
        "Implementasi pada data train dan test menggunakan best parameter"
      ]
    },
    {
      "cell_type": "code",
      "execution_count": 73,
      "metadata": {
        "colab": {
          "base_uri": "https://localhost:8080/",
          "height": 626
        },
        "id": "undON0eabqxJ",
        "outputId": "4b409e4f-e1bb-434e-d2a1-01d4b50047f0"
      },
      "outputs": [
        {
          "name": "stdout",
          "output_type": "stream",
          "text": [
            "              precision    recall  f1-score   support\n",
            "\n",
            "           0       1.00      1.00      1.00      1392\n",
            "           1       1.00      1.00      1.00       890\n",
            "\n",
            "    accuracy                           1.00      2282\n",
            "   macro avg       1.00      1.00      1.00      2282\n",
            "weighted avg       1.00      1.00      1.00      2282\n",
            "\n",
            "              precision    recall  f1-score   support\n",
            "\n",
            "           0       0.66      0.92      0.77       597\n",
            "           1       0.66      0.26      0.37       382\n",
            "\n",
            "    accuracy                           0.66       979\n",
            "   macro avg       0.66      0.59      0.57       979\n",
            "weighted avg       0.66      0.66      0.61       979\n",
            "\n",
            "Confusion Matrix      : \n",
            " <sklearn.metrics._plot.confusion_matrix.ConfusionMatrixDisplay object at 0x0000025A6BA138B0>\n"
          ]
        },
        {
          "data": {
            "image/png": "[encoded data removed]",
            "text/plain": [
              "<Figure size 432x288 with 2 Axes>"
            ]
          },
          "metadata": {
            "needs_background": "light"
          },
          "output_type": "display_data"
        }
      ],
      "source": [
        "model = grid_search.best_estimator_\n",
        "\n",
        "model.fit(num_tr, y_train)\n",
        "\n",
        "model_train = model.predict(num_tr)\n",
        "model_test = model.predict(test_tr)\n",
        "\n",
        "print(classification_report(y_train, model_train))\n",
        "print(classification_report(y_test, model_test))\n",
        "print('Confusion Matrix      : \\n', ConfusionMatrixDisplay.from_estimator(model, test_tr, y_test, cmap='Greys'))"
      ]
    },
    {
      "cell_type": "markdown",
      "metadata": {
        "id": "25ATNUYZmAra"
      },
      "source": [
        "Setelah dilakukan hyperparameter tuning pada RandomForest dan diterapkan pada data test nya hasilnya sama dengan pada saat training model dengan baseline, Nilai recall dan confusion nya sbb:\n",
        "\n",
        "1. Baseline RandomForest \n",
        "- 0 : 0.67\n",
        "- 1 : 0.68\n",
        "- confusion_matrix = False Positive nya : 58\n",
        "\n",
        "2. Setelah Hyperparameter Tuning\n",
        "- 0 : 0.66\n",
        "- 1 : 0.66\n",
        "- confusion_matrix = False Positive nya : 50\n",
        "\n",
        "hasil precision nya menurun namun false positive nya naik dari 58 menjadi 50. "
      ]
    },
    {
      "cell_type": "markdown",
      "metadata": {
        "id": "Z05Lkn0XmyLg"
      },
      "source": [
        "Menerapkan best model menggunakan pipeline. "
      ]
    },
    {
      "cell_type": "code",
      "execution_count": 74,
      "metadata": {
        "colab": {
          "base_uri": "https://localhost:8080/"
        },
        "id": "zGcG37fPcmm8",
        "outputId": "1fa48115-cf09-4036-ed6e-ca0bf84cabb2"
      },
      "outputs": [
        {
          "data": {
            "text/html": [
              "<style>#sk-container-id-3 {color: black;background-color: white;}#sk-container-id-3 pre{padding: 0;}#sk-container-id-3 div.sk-toggleable {background-color: white;}#sk-container-id-3 label.sk-toggleable__label {cursor: pointer;display: block;width: 100%;margin-bottom: 0;padding: 0.3em;box-sizing: border-box;text-align: center;}#sk-container-id-3 label.sk-toggleable__label-arrow:before {content: \"▸\";float: left;margin-right: 0.25em;color: #696969;}#sk-container-id-3 label.sk-toggleable__label-arrow:hover:before {color: black;}#sk-container-id-3 div.sk-estimator:hover label.sk-toggleable__label-arrow:before {color: black;}#sk-container-id-3 div.sk-toggleable__content {max-height: 0;max-width: 0;overflow: hidden;text-align: left;background-color: #f0f8ff;}#sk-container-id-3 div.sk-toggleable__content pre {margin: 0.2em;color: black;border-radius: 0.25em;background-color: #f0f8ff;}#sk-container-id-3 input.sk-toggleable__control:checked~div.sk-toggleable__content {max-height: 200px;max-width: 100%;overflow: auto;}#sk-container-id-3 input.sk-toggleable__control:checked~label.sk-toggleable__label-arrow:before {content: \"▾\";}#sk-container-id-3 div.sk-estimator input.sk-toggleable__control:checked~label.sk-toggleable__label {background-color: #d4ebff;}#sk-container-id-3 div.sk-label input.sk-toggleable__control:checked~label.sk-toggleable__label {background-color: #d4ebff;}#sk-container-id-3 input.sk-hidden--visually {border: 0;clip: rect(1px 1px 1px 1px);clip: rect(1px, 1px, 1px, 1px);height: 1px;margin: -1px;overflow: hidden;padding: 0;position: absolute;width: 1px;}#sk-container-id-3 div.sk-estimator {font-family: monospace;background-color: #f0f8ff;border: 1px dotted black;border-radius: 0.25em;box-sizing: border-box;margin-bottom: 0.5em;}#sk-container-id-3 div.sk-estimator:hover {background-color: #d4ebff;}#sk-container-id-3 div.sk-parallel-item::after {content: \"\";width: 100%;border-bottom: 1px solid gray;flex-grow: 1;}#sk-container-id-3 div.sk-label:hover label.sk-toggleable__label {background-color: #d4ebff;}#sk-container-id-3 div.sk-serial::before {content: \"\";position: absolute;border-left: 1px solid gray;box-sizing: border-box;top: 0;bottom: 0;left: 50%;z-index: 0;}#sk-container-id-3 div.sk-serial {display: flex;flex-direction: column;align-items: center;background-color: white;padding-right: 0.2em;padding-left: 0.2em;position: relative;}#sk-container-id-3 div.sk-item {position: relative;z-index: 1;}#sk-container-id-3 div.sk-parallel {display: flex;align-items: stretch;justify-content: center;background-color: white;position: relative;}#sk-container-id-3 div.sk-item::before, #sk-container-id-3 div.sk-parallel-item::before {content: \"\";position: absolute;border-left: 1px solid gray;box-sizing: border-box;top: 0;bottom: 0;left: 50%;z-index: -1;}#sk-container-id-3 div.sk-parallel-item {display: flex;flex-direction: column;z-index: 1;position: relative;background-color: white;}#sk-container-id-3 div.sk-parallel-item:first-child::after {align-self: flex-end;width: 50%;}#sk-container-id-3 div.sk-parallel-item:last-child::after {align-self: flex-start;width: 50%;}#sk-container-id-3 div.sk-parallel-item:only-child::after {width: 0;}#sk-container-id-3 div.sk-dashed-wrapped {border: 1px dashed gray;margin: 0 0.4em 0.5em 0.4em;box-sizing: border-box;padding-bottom: 0.4em;background-color: white;}#sk-container-id-3 div.sk-label label {font-family: monospace;font-weight: bold;display: inline-block;line-height: 1.2em;}#sk-container-id-3 div.sk-label-container {text-align: center;}#sk-container-id-3 div.sk-container {/* jupyter's `normalize.less` sets `[hidden] { display: none; }` but bootstrap.min.css set `[hidden] { display: none !important; }` so we also need the `!important` here to be able to override the default hidden behavior on the sphinx rendered scikit-learn.org. See: https://github.com/scikit-learn/scikit-learn/issues/21755 */display: inline-block !important;position: relative;}#sk-container-id-3 div.sk-text-repr-fallback {display: none;}</style><div id=\"sk-container-id-3\" class=\"sk-top-container\"><div class=\"sk-text-repr-fallback\"><pre>Pipeline(steps=[(&#x27;outlier&#x27;, Winsorizer(missing_values=&#x27;ignore&#x27;, tail=&#x27;both&#x27;)),\n",
              "                (&#x27;imputer&#x27;, SimpleImputer()), (&#x27;scaler&#x27;, StandardScaler())])</pre><b>In a Jupyter environment, please rerun this cell to show the HTML representation or trust the notebook. <br />On GitHub, the HTML representation is unable to render, please try loading this page with nbviewer.org.</b></div><div class=\"sk-container\" hidden><div class=\"sk-item sk-dashed-wrapped\"><div class=\"sk-label-container\"><div class=\"sk-label sk-toggleable\"><input class=\"sk-toggleable__control sk-hidden--visually\" id=\"sk-estimator-id-8\" type=\"checkbox\" ><label for=\"sk-estimator-id-8\" class=\"sk-toggleable__label sk-toggleable__label-arrow\">Pipeline</label><div class=\"sk-toggleable__content\"><pre>Pipeline(steps=[(&#x27;outlier&#x27;, Winsorizer(missing_values=&#x27;ignore&#x27;, tail=&#x27;both&#x27;)),\n",
              "                (&#x27;imputer&#x27;, SimpleImputer()), (&#x27;scaler&#x27;, StandardScaler())])</pre></div></div></div><div class=\"sk-serial\"><div class=\"sk-item\"><div class=\"sk-estimator sk-toggleable\"><input class=\"sk-toggleable__control sk-hidden--visually\" id=\"sk-estimator-id-9\" type=\"checkbox\" ><label for=\"sk-estimator-id-9\" class=\"sk-toggleable__label sk-toggleable__label-arrow\">Winsorizer</label><div class=\"sk-toggleable__content\"><pre>Winsorizer(missing_values=&#x27;ignore&#x27;, tail=&#x27;both&#x27;)</pre></div></div></div><div class=\"sk-item\"><div class=\"sk-estimator sk-toggleable\"><input class=\"sk-toggleable__control sk-hidden--visually\" id=\"sk-estimator-id-10\" type=\"checkbox\" ><label for=\"sk-estimator-id-10\" class=\"sk-toggleable__label sk-toggleable__label-arrow\">SimpleImputer</label><div class=\"sk-toggleable__content\"><pre>SimpleImputer()</pre></div></div></div><div class=\"sk-item\"><div class=\"sk-estimator sk-toggleable\"><input class=\"sk-toggleable__control sk-hidden--visually\" id=\"sk-estimator-id-11\" type=\"checkbox\" ><label for=\"sk-estimator-id-11\" class=\"sk-toggleable__label sk-toggleable__label-arrow\">StandardScaler</label><div class=\"sk-toggleable__content\"><pre>StandardScaler()</pre></div></div></div></div></div></div></div>"
            ],
            "text/plain": [
              "Pipeline(steps=[('outlier', Winsorizer(missing_values='ignore', tail='both')),\n",
              "                ('imputer', SimpleImputer()), ('scaler', StandardScaler())])"
            ]
          },
          "execution_count": 74,
          "metadata": {},
          "output_type": "execute_result"
        }
      ],
      "source": [
        "pipe"
      ]
    },
    {
      "cell_type": "code",
      "execution_count": 75,
      "metadata": {
        "colab": {
          "base_uri": "https://localhost:8080/"
        },
        "id": "FDZCEku0coSR",
        "outputId": "c384e71e-d144-4b80-dc8c-ac45798bfcf3"
      },
      "outputs": [
        {
          "name": "stdout",
          "output_type": "stream",
          "text": [
            "              precision    recall  f1-score   support\n",
            "\n",
            "           0       0.66      0.92      0.77       597\n",
            "           1       0.66      0.26      0.37       382\n",
            "\n",
            "    accuracy                           0.66       979\n",
            "   macro avg       0.66      0.59      0.57       979\n",
            "weighted avg       0.66      0.66      0.61       979\n",
            "\n"
          ]
        }
      ],
      "source": [
        "all_process = Pipeline([\n",
        "    (\"preprocess\", pipe),\n",
        "    (\"classification\", model)\n",
        "])\n",
        "\n",
        "all_process.fit(X_train, y_train)\n",
        "hasil = all_process.predict(X_test)\n",
        "\n",
        "print(classification_report(y_test, hasil))"
      ]
    },
    {
      "cell_type": "code",
      "execution_count": 76,
      "metadata": {
        "colab": {
          "base_uri": "https://localhost:8080/"
        },
        "id": "2WyoTStPpUzH",
        "outputId": "8c6737f2-83c3-4841-b43e-4b3ffba18147"
      },
      "outputs": [
        {
          "data": {
            "text/html": [
              "<style>#sk-container-id-4 {color: black;background-color: white;}#sk-container-id-4 pre{padding: 0;}#sk-container-id-4 div.sk-toggleable {background-color: white;}#sk-container-id-4 label.sk-toggleable__label {cursor: pointer;display: block;width: 100%;margin-bottom: 0;padding: 0.3em;box-sizing: border-box;text-align: center;}#sk-container-id-4 label.sk-toggleable__label-arrow:before {content: \"▸\";float: left;margin-right: 0.25em;color: #696969;}#sk-container-id-4 label.sk-toggleable__label-arrow:hover:before {color: black;}#sk-container-id-4 div.sk-estimator:hover label.sk-toggleable__label-arrow:before {color: black;}#sk-container-id-4 div.sk-toggleable__content {max-height: 0;max-width: 0;overflow: hidden;text-align: left;background-color: #f0f8ff;}#sk-container-id-4 div.sk-toggleable__content pre {margin: 0.2em;color: black;border-radius: 0.25em;background-color: #f0f8ff;}#sk-container-id-4 input.sk-toggleable__control:checked~div.sk-toggleable__content {max-height: 200px;max-width: 100%;overflow: auto;}#sk-container-id-4 input.sk-toggleable__control:checked~label.sk-toggleable__label-arrow:before {content: \"▾\";}#sk-container-id-4 div.sk-estimator input.sk-toggleable__control:checked~label.sk-toggleable__label {background-color: #d4ebff;}#sk-container-id-4 div.sk-label input.sk-toggleable__control:checked~label.sk-toggleable__label {background-color: #d4ebff;}#sk-container-id-4 input.sk-hidden--visually {border: 0;clip: rect(1px 1px 1px 1px);clip: rect(1px, 1px, 1px, 1px);height: 1px;margin: -1px;overflow: hidden;padding: 0;position: absolute;width: 1px;}#sk-container-id-4 div.sk-estimator {font-family: monospace;background-color: #f0f8ff;border: 1px dotted black;border-radius: 0.25em;box-sizing: border-box;margin-bottom: 0.5em;}#sk-container-id-4 div.sk-estimator:hover {background-color: #d4ebff;}#sk-container-id-4 div.sk-parallel-item::after {content: \"\";width: 100%;border-bottom: 1px solid gray;flex-grow: 1;}#sk-container-id-4 div.sk-label:hover label.sk-toggleable__label {background-color: #d4ebff;}#sk-container-id-4 div.sk-serial::before {content: \"\";position: absolute;border-left: 1px solid gray;box-sizing: border-box;top: 0;bottom: 0;left: 50%;z-index: 0;}#sk-container-id-4 div.sk-serial {display: flex;flex-direction: column;align-items: center;background-color: white;padding-right: 0.2em;padding-left: 0.2em;position: relative;}#sk-container-id-4 div.sk-item {position: relative;z-index: 1;}#sk-container-id-4 div.sk-parallel {display: flex;align-items: stretch;justify-content: center;background-color: white;position: relative;}#sk-container-id-4 div.sk-item::before, #sk-container-id-4 div.sk-parallel-item::before {content: \"\";position: absolute;border-left: 1px solid gray;box-sizing: border-box;top: 0;bottom: 0;left: 50%;z-index: -1;}#sk-container-id-4 div.sk-parallel-item {display: flex;flex-direction: column;z-index: 1;position: relative;background-color: white;}#sk-container-id-4 div.sk-parallel-item:first-child::after {align-self: flex-end;width: 50%;}#sk-container-id-4 div.sk-parallel-item:last-child::after {align-self: flex-start;width: 50%;}#sk-container-id-4 div.sk-parallel-item:only-child::after {width: 0;}#sk-container-id-4 div.sk-dashed-wrapped {border: 1px dashed gray;margin: 0 0.4em 0.5em 0.4em;box-sizing: border-box;padding-bottom: 0.4em;background-color: white;}#sk-container-id-4 div.sk-label label {font-family: monospace;font-weight: bold;display: inline-block;line-height: 1.2em;}#sk-container-id-4 div.sk-label-container {text-align: center;}#sk-container-id-4 div.sk-container {/* jupyter's `normalize.less` sets `[hidden] { display: none; }` but bootstrap.min.css set `[hidden] { display: none !important; }` so we also need the `!important` here to be able to override the default hidden behavior on the sphinx rendered scikit-learn.org. See: https://github.com/scikit-learn/scikit-learn/issues/21755 */display: inline-block !important;position: relative;}#sk-container-id-4 div.sk-text-repr-fallback {display: none;}</style><div id=\"sk-container-id-4\" class=\"sk-top-container\"><div class=\"sk-text-repr-fallback\"><pre>Pipeline(steps=[(&#x27;preprocess&#x27;,\n",
              "                 Pipeline(steps=[(&#x27;outlier&#x27;,\n",
              "                                  Winsorizer(missing_values=&#x27;ignore&#x27;,\n",
              "                                             tail=&#x27;both&#x27;)),\n",
              "                                 (&#x27;imputer&#x27;, SimpleImputer()),\n",
              "                                 (&#x27;scaler&#x27;, StandardScaler())])),\n",
              "                (&#x27;classification&#x27;,\n",
              "                 RandomForestClassifier(class_weight=&#x27;balanced_subsample&#x27;,\n",
              "                                        criterion=&#x27;entropy&#x27;, max_features=1,\n",
              "                                        n_estimators=60, random_state=0))])</pre><b>In a Jupyter environment, please rerun this cell to show the HTML representation or trust the notebook. <br />On GitHub, the HTML representation is unable to render, please try loading this page with nbviewer.org.</b></div><div class=\"sk-container\" hidden><div class=\"sk-item sk-dashed-wrapped\"><div class=\"sk-label-container\"><div class=\"sk-label sk-toggleable\"><input class=\"sk-toggleable__control sk-hidden--visually\" id=\"sk-estimator-id-12\" type=\"checkbox\" ><label for=\"sk-estimator-id-12\" class=\"sk-toggleable__label sk-toggleable__label-arrow\">Pipeline</label><div class=\"sk-toggleable__content\"><pre>Pipeline(steps=[(&#x27;preprocess&#x27;,\n",
              "                 Pipeline(steps=[(&#x27;outlier&#x27;,\n",
              "                                  Winsorizer(missing_values=&#x27;ignore&#x27;,\n",
              "                                             tail=&#x27;both&#x27;)),\n",
              "                                 (&#x27;imputer&#x27;, SimpleImputer()),\n",
              "                                 (&#x27;scaler&#x27;, StandardScaler())])),\n",
              "                (&#x27;classification&#x27;,\n",
              "                 RandomForestClassifier(class_weight=&#x27;balanced_subsample&#x27;,\n",
              "                                        criterion=&#x27;entropy&#x27;, max_features=1,\n",
              "                                        n_estimators=60, random_state=0))])</pre></div></div></div><div class=\"sk-serial\"><div class=\"sk-item\"><div class=\"sk-label-container\"><div class=\"sk-label sk-toggleable\"><input class=\"sk-toggleable__control sk-hidden--visually\" id=\"sk-estimator-id-13\" type=\"checkbox\" ><label for=\"sk-estimator-id-13\" class=\"sk-toggleable__label sk-toggleable__label-arrow\">preprocess: Pipeline</label><div class=\"sk-toggleable__content\"><pre>Pipeline(steps=[(&#x27;outlier&#x27;, Winsorizer(missing_values=&#x27;ignore&#x27;, tail=&#x27;both&#x27;)),\n",
              "                (&#x27;imputer&#x27;, SimpleImputer()), (&#x27;scaler&#x27;, StandardScaler())])</pre></div></div></div><div class=\"sk-serial\"><div class=\"sk-item\"><div class=\"sk-estimator sk-toggleable\"><input class=\"sk-toggleable__control sk-hidden--visually\" id=\"sk-estimator-id-14\" type=\"checkbox\" ><label for=\"sk-estimator-id-14\" class=\"sk-toggleable__label sk-toggleable__label-arrow\">Winsorizer</label><div class=\"sk-toggleable__content\"><pre>Winsorizer(missing_values=&#x27;ignore&#x27;, tail=&#x27;both&#x27;)</pre></div></div></div><div class=\"sk-item\"><div class=\"sk-estimator sk-toggleable\"><input class=\"sk-toggleable__control sk-hidden--visually\" id=\"sk-estimator-id-15\" type=\"checkbox\" ><label for=\"sk-estimator-id-15\" class=\"sk-toggleable__label sk-toggleable__label-arrow\">SimpleImputer</label><div class=\"sk-toggleable__content\"><pre>SimpleImputer()</pre></div></div></div><div class=\"sk-item\"><div class=\"sk-estimator sk-toggleable\"><input class=\"sk-toggleable__control sk-hidden--visually\" id=\"sk-estimator-id-16\" type=\"checkbox\" ><label for=\"sk-estimator-id-16\" class=\"sk-toggleable__label sk-toggleable__label-arrow\">StandardScaler</label><div class=\"sk-toggleable__content\"><pre>StandardScaler()</pre></div></div></div></div></div><div class=\"sk-item\"><div class=\"sk-estimator sk-toggleable\"><input class=\"sk-toggleable__control sk-hidden--visually\" id=\"sk-estimator-id-17\" type=\"checkbox\" ><label for=\"sk-estimator-id-17\" class=\"sk-toggleable__label sk-toggleable__label-arrow\">RandomForestClassifier</label><div class=\"sk-toggleable__content\"><pre>RandomForestClassifier(class_weight=&#x27;balanced_subsample&#x27;, criterion=&#x27;entropy&#x27;,\n",
              "                       max_features=1, n_estimators=60, random_state=0)</pre></div></div></div></div></div></div></div>"
            ],
            "text/plain": [
              "Pipeline(steps=[('preprocess',\n",
              "                 Pipeline(steps=[('outlier',\n",
              "                                  Winsorizer(missing_values='ignore',\n",
              "                                             tail='both')),\n",
              "                                 ('imputer', SimpleImputer()),\n",
              "                                 ('scaler', StandardScaler())])),\n",
              "                ('classification',\n",
              "                 RandomForestClassifier(class_weight='balanced_subsample',\n",
              "                                        criterion='entropy', max_features=1,\n",
              "                                        n_estimators=60, random_state=0))])"
            ]
          },
          "execution_count": 76,
          "metadata": {},
          "output_type": "execute_result"
        }
      ],
      "source": [
        "all_process"
      ]
    },
    {
      "cell_type": "markdown",
      "metadata": {
        "id": "DNcecEQj1mge"
      },
      "source": [
        "## Model Improvement "
      ]
    },
    {
      "cell_type": "markdown",
      "metadata": {
        "id": "7x-Lk-ACnT9d"
      },
      "source": [
        "Karena model kita tidak terlalu bekerja dengan baik maka kita akan mencoba melakukan model improvement dengan handling imbalance data menggunakan SMOTE. "
      ]
    },
    {
      "cell_type": "code",
      "execution_count": 77,
      "metadata": {
        "colab": {
          "base_uri": "https://localhost:8080/"
        },
        "id": "Kk3aWrJl1oUD",
        "outputId": "6e5bf07c-59dc-44f5-b4ea-88ad9f1da249"
      },
      "outputs": [
        {
          "data": {
            "text/html": [
              "<style>#sk-container-id-5 {color: black;background-color: white;}#sk-container-id-5 pre{padding: 0;}#sk-container-id-5 div.sk-toggleable {background-color: white;}#sk-container-id-5 label.sk-toggleable__label {cursor: pointer;display: block;width: 100%;margin-bottom: 0;padding: 0.3em;box-sizing: border-box;text-align: center;}#sk-container-id-5 label.sk-toggleable__label-arrow:before {content: \"▸\";float: left;margin-right: 0.25em;color: #696969;}#sk-container-id-5 label.sk-toggleable__label-arrow:hover:before {color: black;}#sk-container-id-5 div.sk-estimator:hover label.sk-toggleable__label-arrow:before {color: black;}#sk-container-id-5 div.sk-toggleable__content {max-height: 0;max-width: 0;overflow: hidden;text-align: left;background-color: #f0f8ff;}#sk-container-id-5 div.sk-toggleable__content pre {margin: 0.2em;color: black;border-radius: 0.25em;background-color: #f0f8ff;}#sk-container-id-5 input.sk-toggleable__control:checked~div.sk-toggleable__content {max-height: 200px;max-width: 100%;overflow: auto;}#sk-container-id-5 input.sk-toggleable__control:checked~label.sk-toggleable__label-arrow:before {content: \"▾\";}#sk-container-id-5 div.sk-estimator input.sk-toggleable__control:checked~label.sk-toggleable__label {background-color: #d4ebff;}#sk-container-id-5 div.sk-label input.sk-toggleable__control:checked~label.sk-toggleable__label {background-color: #d4ebff;}#sk-container-id-5 input.sk-hidden--visually {border: 0;clip: rect(1px 1px 1px 1px);clip: rect(1px, 1px, 1px, 1px);height: 1px;margin: -1px;overflow: hidden;padding: 0;position: absolute;width: 1px;}#sk-container-id-5 div.sk-estimator {font-family: monospace;background-color: #f0f8ff;border: 1px dotted black;border-radius: 0.25em;box-sizing: border-box;margin-bottom: 0.5em;}#sk-container-id-5 div.sk-estimator:hover {background-color: #d4ebff;}#sk-container-id-5 div.sk-parallel-item::after {content: \"\";width: 100%;border-bottom: 1px solid gray;flex-grow: 1;}#sk-container-id-5 div.sk-label:hover label.sk-toggleable__label {background-color: #d4ebff;}#sk-container-id-5 div.sk-serial::before {content: \"\";position: absolute;border-left: 1px solid gray;box-sizing: border-box;top: 0;bottom: 0;left: 50%;z-index: 0;}#sk-container-id-5 div.sk-serial {display: flex;flex-direction: column;align-items: center;background-color: white;padding-right: 0.2em;padding-left: 0.2em;position: relative;}#sk-container-id-5 div.sk-item {position: relative;z-index: 1;}#sk-container-id-5 div.sk-parallel {display: flex;align-items: stretch;justify-content: center;background-color: white;position: relative;}#sk-container-id-5 div.sk-item::before, #sk-container-id-5 div.sk-parallel-item::before {content: \"\";position: absolute;border-left: 1px solid gray;box-sizing: border-box;top: 0;bottom: 0;left: 50%;z-index: -1;}#sk-container-id-5 div.sk-parallel-item {display: flex;flex-direction: column;z-index: 1;position: relative;background-color: white;}#sk-container-id-5 div.sk-parallel-item:first-child::after {align-self: flex-end;width: 50%;}#sk-container-id-5 div.sk-parallel-item:last-child::after {align-self: flex-start;width: 50%;}#sk-container-id-5 div.sk-parallel-item:only-child::after {width: 0;}#sk-container-id-5 div.sk-dashed-wrapped {border: 1px dashed gray;margin: 0 0.4em 0.5em 0.4em;box-sizing: border-box;padding-bottom: 0.4em;background-color: white;}#sk-container-id-5 div.sk-label label {font-family: monospace;font-weight: bold;display: inline-block;line-height: 1.2em;}#sk-container-id-5 div.sk-label-container {text-align: center;}#sk-container-id-5 div.sk-container {/* jupyter's `normalize.less` sets `[hidden] { display: none; }` but bootstrap.min.css set `[hidden] { display: none !important; }` so we also need the `!important` here to be able to override the default hidden behavior on the sphinx rendered scikit-learn.org. See: https://github.com/scikit-learn/scikit-learn/issues/21755 */display: inline-block !important;position: relative;}#sk-container-id-5 div.sk-text-repr-fallback {display: none;}</style><div id=\"sk-container-id-5\" class=\"sk-top-container\"><div class=\"sk-text-repr-fallback\"><pre>Pipeline(steps=[(&#x27;outlier&#x27;, Winsorizer(missing_values=&#x27;ignore&#x27;, tail=&#x27;both&#x27;)),\n",
              "                (&#x27;imputer&#x27;, SimpleImputer()), (&#x27;scaler&#x27;, StandardScaler()),\n",
              "                (&#x27;over_sampl&#x27;, SMOTE(random_state=0, sampling_strategy=0.8))])</pre><b>In a Jupyter environment, please rerun this cell to show the HTML representation or trust the notebook. <br />On GitHub, the HTML representation is unable to render, please try loading this page with nbviewer.org.</b></div><div class=\"sk-container\" hidden><div class=\"sk-item sk-dashed-wrapped\"><div class=\"sk-label-container\"><div class=\"sk-label sk-toggleable\"><input class=\"sk-toggleable__control sk-hidden--visually\" id=\"sk-estimator-id-18\" type=\"checkbox\" ><label for=\"sk-estimator-id-18\" class=\"sk-toggleable__label sk-toggleable__label-arrow\">Pipeline</label><div class=\"sk-toggleable__content\"><pre>Pipeline(steps=[(&#x27;outlier&#x27;, Winsorizer(missing_values=&#x27;ignore&#x27;, tail=&#x27;both&#x27;)),\n",
              "                (&#x27;imputer&#x27;, SimpleImputer()), (&#x27;scaler&#x27;, StandardScaler()),\n",
              "                (&#x27;over_sampl&#x27;, SMOTE(random_state=0, sampling_strategy=0.8))])</pre></div></div></div><div class=\"sk-serial\"><div class=\"sk-item\"><div class=\"sk-estimator sk-toggleable\"><input class=\"sk-toggleable__control sk-hidden--visually\" id=\"sk-estimator-id-19\" type=\"checkbox\" ><label for=\"sk-estimator-id-19\" class=\"sk-toggleable__label sk-toggleable__label-arrow\">Winsorizer</label><div class=\"sk-toggleable__content\"><pre>Winsorizer(missing_values=&#x27;ignore&#x27;, tail=&#x27;both&#x27;)</pre></div></div></div><div class=\"sk-item\"><div class=\"sk-estimator sk-toggleable\"><input class=\"sk-toggleable__control sk-hidden--visually\" id=\"sk-estimator-id-20\" type=\"checkbox\" ><label for=\"sk-estimator-id-20\" class=\"sk-toggleable__label sk-toggleable__label-arrow\">SimpleImputer</label><div class=\"sk-toggleable__content\"><pre>SimpleImputer()</pre></div></div></div><div class=\"sk-item\"><div class=\"sk-estimator sk-toggleable\"><input class=\"sk-toggleable__control sk-hidden--visually\" id=\"sk-estimator-id-21\" type=\"checkbox\" ><label for=\"sk-estimator-id-21\" class=\"sk-toggleable__label sk-toggleable__label-arrow\">StandardScaler</label><div class=\"sk-toggleable__content\"><pre>StandardScaler()</pre></div></div></div><div class=\"sk-item\"><div class=\"sk-estimator sk-toggleable\"><input class=\"sk-toggleable__control sk-hidden--visually\" id=\"sk-estimator-id-22\" type=\"checkbox\" ><label for=\"sk-estimator-id-22\" class=\"sk-toggleable__label sk-toggleable__label-arrow\">SMOTE</label><div class=\"sk-toggleable__content\"><pre>SMOTE(random_state=0, sampling_strategy=0.8)</pre></div></div></div></div></div></div></div>"
            ],
            "text/plain": [
              "Pipeline(steps=[('outlier', Winsorizer(missing_values='ignore', tail='both')),\n",
              "                ('imputer', SimpleImputer()), ('scaler', StandardScaler()),\n",
              "                ('over_sampl', SMOTE(random_state=0, sampling_strategy=0.8))])"
            ]
          },
          "execution_count": 77,
          "metadata": {},
          "output_type": "execute_result"
        }
      ],
      "source": [
        "# imbalance pipeline\n",
        "pipes = imbpipe([\n",
        "        ('outlier', Winsorizer(capping_method='gaussian', tail='both', fold=3,missing_values='ignore')),\n",
        "        ('imputer', SimpleImputer(strategy='mean')),\n",
        "        ('scaler', StandardScaler()),\n",
        "        ('over_sampl', SMOTE(sampling_strategy=0.8, random_state=0))\n",
        "        ])\n",
        "pipes\n"
      ]
    },
    {
      "cell_type": "code",
      "execution_count": 78,
      "metadata": {
        "colab": {
          "base_uri": "https://localhost:8080/",
          "height": 488
        },
        "id": "U2tqCWuy4fdO",
        "outputId": "18aec857-d2ed-4156-f263-5b814670bcf9"
      },
      "outputs": [
        {
          "data": {
            "text/html": [
              "<div>\n",
              "<style scoped>\n",
              "    .dataframe tbody tr th:only-of-type {\n",
              "        vertical-align: middle;\n",
              "    }\n",
              "\n",
              "    .dataframe tbody tr th {\n",
              "        vertical-align: top;\n",
              "    }\n",
              "\n",
              "    .dataframe thead th {\n",
              "        text-align: right;\n",
              "    }\n",
              "</style>\n",
              "<table border=\"1\" class=\"dataframe\">\n",
              "  <thead>\n",
              "    <tr style=\"text-align: right;\">\n",
              "      <th></th>\n",
              "      <th>ph</th>\n",
              "      <th>Hardness</th>\n",
              "      <th>Solids</th>\n",
              "      <th>Chloramines</th>\n",
              "      <th>Sulfate</th>\n",
              "      <th>Conductivity</th>\n",
              "      <th>Organic_carbon</th>\n",
              "      <th>Trihalomethanes</th>\n",
              "      <th>Turbidity</th>\n",
              "      <th>Potability</th>\n",
              "    </tr>\n",
              "  </thead>\n",
              "  <tbody>\n",
              "    <tr>\n",
              "      <th>0</th>\n",
              "      <td>7.511075e-01</td>\n",
              "      <td>-1.559503</td>\n",
              "      <td>-0.458667</td>\n",
              "      <td>-0.334527</td>\n",
              "      <td>7.135743e-01</td>\n",
              "      <td>-0.082268</td>\n",
              "      <td>0.467759</td>\n",
              "      <td>2.162493</td>\n",
              "      <td>-0.283354</td>\n",
              "      <td>0</td>\n",
              "    </tr>\n",
              "    <tr>\n",
              "      <th>1</th>\n",
              "      <td>7.141427e-01</td>\n",
              "      <td>0.288685</td>\n",
              "      <td>-0.726931</td>\n",
              "      <td>-0.063724</td>\n",
              "      <td>4.550618e-02</td>\n",
              "      <td>1.587247</td>\n",
              "      <td>0.165562</td>\n",
              "      <td>0.392218</td>\n",
              "      <td>-1.482697</td>\n",
              "      <td>1</td>\n",
              "    </tr>\n",
              "    <tr>\n",
              "      <th>2</th>\n",
              "      <td>-6.057647e-16</td>\n",
              "      <td>0.510094</td>\n",
              "      <td>-1.146252</td>\n",
              "      <td>1.694565</td>\n",
              "      <td>4.263004e-01</td>\n",
              "      <td>-1.766356</td>\n",
              "      <td>-0.575382</td>\n",
              "      <td>0.513307</td>\n",
              "      <td>-0.080502</td>\n",
              "      <td>1</td>\n",
              "    </tr>\n",
              "    <tr>\n",
              "      <th>3</th>\n",
              "      <td>1.150371e+00</td>\n",
              "      <td>-0.277852</td>\n",
              "      <td>-1.630427</td>\n",
              "      <td>-0.473734</td>\n",
              "      <td>1.597628e-15</td>\n",
              "      <td>-0.520324</td>\n",
              "      <td>0.730473</td>\n",
              "      <td>0.717780</td>\n",
              "      <td>-0.614627</td>\n",
              "      <td>0</td>\n",
              "    </tr>\n",
              "    <tr>\n",
              "      <th>4</th>\n",
              "      <td>-6.057647e-16</td>\n",
              "      <td>0.258313</td>\n",
              "      <td>0.305750</td>\n",
              "      <td>0.419154</td>\n",
              "      <td>1.597628e-15</td>\n",
              "      <td>0.171410</td>\n",
              "      <td>-0.530718</td>\n",
              "      <td>3.076228</td>\n",
              "      <td>0.454531</td>\n",
              "      <td>1</td>\n",
              "    </tr>\n",
              "    <tr>\n",
              "      <th>...</th>\n",
              "      <td>...</td>\n",
              "      <td>...</td>\n",
              "      <td>...</td>\n",
              "      <td>...</td>\n",
              "      <td>...</td>\n",
              "      <td>...</td>\n",
              "      <td>...</td>\n",
              "      <td>...</td>\n",
              "      <td>...</td>\n",
              "      <td>...</td>\n",
              "    </tr>\n",
              "    <tr>\n",
              "      <th>2500</th>\n",
              "      <td>2.115931e-01</td>\n",
              "      <td>1.171494</td>\n",
              "      <td>1.105716</td>\n",
              "      <td>0.164525</td>\n",
              "      <td>-1.424378e+00</td>\n",
              "      <td>-0.030513</td>\n",
              "      <td>2.281395</td>\n",
              "      <td>1.246395</td>\n",
              "      <td>0.727987</td>\n",
              "      <td>1</td>\n",
              "    </tr>\n",
              "    <tr>\n",
              "      <th>2501</th>\n",
              "      <td>-6.057647e-16</td>\n",
              "      <td>0.357039</td>\n",
              "      <td>-0.324440</td>\n",
              "      <td>-0.139161</td>\n",
              "      <td>1.003052e+00</td>\n",
              "      <td>-1.031721</td>\n",
              "      <td>-0.928791</td>\n",
              "      <td>-1.336389</td>\n",
              "      <td>-0.172454</td>\n",
              "      <td>1</td>\n",
              "    </tr>\n",
              "    <tr>\n",
              "      <th>2502</th>\n",
              "      <td>-1.080550e+00</td>\n",
              "      <td>0.401707</td>\n",
              "      <td>0.627982</td>\n",
              "      <td>-1.965513</td>\n",
              "      <td>1.527412e-01</td>\n",
              "      <td>-0.620906</td>\n",
              "      <td>1.035630</td>\n",
              "      <td>-1.459466</td>\n",
              "      <td>-0.133519</td>\n",
              "      <td>1</td>\n",
              "    </tr>\n",
              "    <tr>\n",
              "      <th>2503</th>\n",
              "      <td>9.247414e-01</td>\n",
              "      <td>0.881089</td>\n",
              "      <td>-1.152185</td>\n",
              "      <td>0.036543</td>\n",
              "      <td>3.116029e-01</td>\n",
              "      <td>0.669305</td>\n",
              "      <td>1.014850</td>\n",
              "      <td>0.295439</td>\n",
              "      <td>0.583055</td>\n",
              "      <td>1</td>\n",
              "    </tr>\n",
              "    <tr>\n",
              "      <th>2504</th>\n",
              "      <td>-4.842593e-01</td>\n",
              "      <td>-0.507983</td>\n",
              "      <td>-0.138537</td>\n",
              "      <td>-0.756886</td>\n",
              "      <td>8.223384e-01</td>\n",
              "      <td>-1.038748</td>\n",
              "      <td>0.506274</td>\n",
              "      <td>0.588214</td>\n",
              "      <td>0.207229</td>\n",
              "      <td>1</td>\n",
              "    </tr>\n",
              "  </tbody>\n",
              "</table>\n",
              "<p>2505 rows × 10 columns</p>\n",
              "</div>"
            ],
            "text/plain": [
              "                ph  Hardness    Solids  Chloramines       Sulfate  \\\n",
              "0     7.511075e-01 -1.559503 -0.458667    -0.334527  7.135743e-01   \n",
              "1     7.141427e-01  0.288685 -0.726931    -0.063724  4.550618e-02   \n",
              "2    -6.057647e-16  0.510094 -1.146252     1.694565  4.263004e-01   \n",
              "3     1.150371e+00 -0.277852 -1.630427    -0.473734  1.597628e-15   \n",
              "4    -6.057647e-16  0.258313  0.305750     0.419154  1.597628e-15   \n",
              "...            ...       ...       ...          ...           ...   \n",
              "2500  2.115931e-01  1.171494  1.105716     0.164525 -1.424378e+00   \n",
              "2501 -6.057647e-16  0.357039 -0.324440    -0.139161  1.003052e+00   \n",
              "2502 -1.080550e+00  0.401707  0.627982    -1.965513  1.527412e-01   \n",
              "2503  9.247414e-01  0.881089 -1.152185     0.036543  3.116029e-01   \n",
              "2504 -4.842593e-01 -0.507983 -0.138537    -0.756886  8.223384e-01   \n",
              "\n",
              "      Conductivity  Organic_carbon  Trihalomethanes  Turbidity  Potability  \n",
              "0        -0.082268        0.467759         2.162493  -0.283354           0  \n",
              "1         1.587247        0.165562         0.392218  -1.482697           1  \n",
              "2        -1.766356       -0.575382         0.513307  -0.080502           1  \n",
              "3        -0.520324        0.730473         0.717780  -0.614627           0  \n",
              "4         0.171410       -0.530718         3.076228   0.454531           1  \n",
              "...            ...             ...              ...        ...         ...  \n",
              "2500     -0.030513        2.281395         1.246395   0.727987           1  \n",
              "2501     -1.031721       -0.928791        -1.336389  -0.172454           1  \n",
              "2502     -0.620906        1.035630        -1.459466  -0.133519           1  \n",
              "2503      0.669305        1.014850         0.295439   0.583055           1  \n",
              "2504     -1.038748        0.506274         0.588214   0.207229           1  \n",
              "\n",
              "[2505 rows x 10 columns]"
            ]
          },
          "execution_count": 78,
          "metadata": {},
          "output_type": "execute_result"
        }
      ],
      "source": [
        "X_resampled, y_resampled = pipes.fit_resample(X_train, y_train)\n",
        "resampled = pd.concat([pd.DataFrame(X_resampled, columns=X_train.columns.tolist()), pd.DataFrame(y_resampled)], axis=1)\n",
        "resampled"
      ]
    },
    {
      "cell_type": "markdown",
      "metadata": {
        "id": "CEomVKXNoJwi"
      },
      "source": [
        "Melihat data yang sudah di handling imbalance. "
      ]
    },
    {
      "cell_type": "code",
      "execution_count": 79,
      "metadata": {
        "colab": {
          "base_uri": "https://localhost:8080/"
        },
        "id": "Gljlz8xe8QGJ",
        "outputId": "f2aabd1c-7308-4ec5-c26d-645fe988b5e7"
      },
      "outputs": [
        {
          "data": {
            "text/plain": [
              "0    1392\n",
              "1    1113\n",
              "Name: Potability, dtype: int64"
            ]
          },
          "execution_count": 79,
          "metadata": {},
          "output_type": "execute_result"
        }
      ],
      "source": [
        "resampled.Potability.value_counts()"
      ]
    },
    {
      "cell_type": "code",
      "execution_count": 80,
      "metadata": {
        "colab": {
          "base_uri": "https://localhost:8080/"
        },
        "id": "KmtM-_H_-F6V",
        "outputId": "be16c735-314c-46b7-fa3a-3865b2f12221"
      },
      "outputs": [
        {
          "data": {
            "text/html": [
              "<style>#sk-container-id-6 {color: black;background-color: white;}#sk-container-id-6 pre{padding: 0;}#sk-container-id-6 div.sk-toggleable {background-color: white;}#sk-container-id-6 label.sk-toggleable__label {cursor: pointer;display: block;width: 100%;margin-bottom: 0;padding: 0.3em;box-sizing: border-box;text-align: center;}#sk-container-id-6 label.sk-toggleable__label-arrow:before {content: \"▸\";float: left;margin-right: 0.25em;color: #696969;}#sk-container-id-6 label.sk-toggleable__label-arrow:hover:before {color: black;}#sk-container-id-6 div.sk-estimator:hover label.sk-toggleable__label-arrow:before {color: black;}#sk-container-id-6 div.sk-toggleable__content {max-height: 0;max-width: 0;overflow: hidden;text-align: left;background-color: #f0f8ff;}#sk-container-id-6 div.sk-toggleable__content pre {margin: 0.2em;color: black;border-radius: 0.25em;background-color: #f0f8ff;}#sk-container-id-6 input.sk-toggleable__control:checked~div.sk-toggleable__content {max-height: 200px;max-width: 100%;overflow: auto;}#sk-container-id-6 input.sk-toggleable__control:checked~label.sk-toggleable__label-arrow:before {content: \"▾\";}#sk-container-id-6 div.sk-estimator input.sk-toggleable__control:checked~label.sk-toggleable__label {background-color: #d4ebff;}#sk-container-id-6 div.sk-label input.sk-toggleable__control:checked~label.sk-toggleable__label {background-color: #d4ebff;}#sk-container-id-6 input.sk-hidden--visually {border: 0;clip: rect(1px 1px 1px 1px);clip: rect(1px, 1px, 1px, 1px);height: 1px;margin: -1px;overflow: hidden;padding: 0;position: absolute;width: 1px;}#sk-container-id-6 div.sk-estimator {font-family: monospace;background-color: #f0f8ff;border: 1px dotted black;border-radius: 0.25em;box-sizing: border-box;margin-bottom: 0.5em;}#sk-container-id-6 div.sk-estimator:hover {background-color: #d4ebff;}#sk-container-id-6 div.sk-parallel-item::after {content: \"\";width: 100%;border-bottom: 1px solid gray;flex-grow: 1;}#sk-container-id-6 div.sk-label:hover label.sk-toggleable__label {background-color: #d4ebff;}#sk-container-id-6 div.sk-serial::before {content: \"\";position: absolute;border-left: 1px solid gray;box-sizing: border-box;top: 0;bottom: 0;left: 50%;z-index: 0;}#sk-container-id-6 div.sk-serial {display: flex;flex-direction: column;align-items: center;background-color: white;padding-right: 0.2em;padding-left: 0.2em;position: relative;}#sk-container-id-6 div.sk-item {position: relative;z-index: 1;}#sk-container-id-6 div.sk-parallel {display: flex;align-items: stretch;justify-content: center;background-color: white;position: relative;}#sk-container-id-6 div.sk-item::before, #sk-container-id-6 div.sk-parallel-item::before {content: \"\";position: absolute;border-left: 1px solid gray;box-sizing: border-box;top: 0;bottom: 0;left: 50%;z-index: -1;}#sk-container-id-6 div.sk-parallel-item {display: flex;flex-direction: column;z-index: 1;position: relative;background-color: white;}#sk-container-id-6 div.sk-parallel-item:first-child::after {align-self: flex-end;width: 50%;}#sk-container-id-6 div.sk-parallel-item:last-child::after {align-self: flex-start;width: 50%;}#sk-container-id-6 div.sk-parallel-item:only-child::after {width: 0;}#sk-container-id-6 div.sk-dashed-wrapped {border: 1px dashed gray;margin: 0 0.4em 0.5em 0.4em;box-sizing: border-box;padding-bottom: 0.4em;background-color: white;}#sk-container-id-6 div.sk-label label {font-family: monospace;font-weight: bold;display: inline-block;line-height: 1.2em;}#sk-container-id-6 div.sk-label-container {text-align: center;}#sk-container-id-6 div.sk-container {/* jupyter's `normalize.less` sets `[hidden] { display: none; }` but bootstrap.min.css set `[hidden] { display: none !important; }` so we also need the `!important` here to be able to override the default hidden behavior on the sphinx rendered scikit-learn.org. See: https://github.com/scikit-learn/scikit-learn/issues/21755 */display: inline-block !important;position: relative;}#sk-container-id-6 div.sk-text-repr-fallback {display: none;}</style><div id=\"sk-container-id-6\" class=\"sk-top-container\"><div class=\"sk-text-repr-fallback\"><pre>Pipeline(steps=[(&#x27;outlier&#x27;, Winsorizer(missing_values=&#x27;ignore&#x27;, tail=&#x27;both&#x27;)),\n",
              "                (&#x27;imputer&#x27;, SimpleImputer()), (&#x27;scaler&#x27;, StandardScaler()),\n",
              "                (&#x27;over_sampl&#x27;, SMOTE(random_state=0, sampling_strategy=0.8)),\n",
              "                (&#x27;rfc&#x27;,\n",
              "                 RandomForestClassifier(class_weight=&#x27;balanced_subsample&#x27;,\n",
              "                                        max_features=5, n_estimators=60))])</pre><b>In a Jupyter environment, please rerun this cell to show the HTML representation or trust the notebook. <br />On GitHub, the HTML representation is unable to render, please try loading this page with nbviewer.org.</b></div><div class=\"sk-container\" hidden><div class=\"sk-item sk-dashed-wrapped\"><div class=\"sk-label-container\"><div class=\"sk-label sk-toggleable\"><input class=\"sk-toggleable__control sk-hidden--visually\" id=\"sk-estimator-id-23\" type=\"checkbox\" ><label for=\"sk-estimator-id-23\" class=\"sk-toggleable__label sk-toggleable__label-arrow\">Pipeline</label><div class=\"sk-toggleable__content\"><pre>Pipeline(steps=[(&#x27;outlier&#x27;, Winsorizer(missing_values=&#x27;ignore&#x27;, tail=&#x27;both&#x27;)),\n",
              "                (&#x27;imputer&#x27;, SimpleImputer()), (&#x27;scaler&#x27;, StandardScaler()),\n",
              "                (&#x27;over_sampl&#x27;, SMOTE(random_state=0, sampling_strategy=0.8)),\n",
              "                (&#x27;rfc&#x27;,\n",
              "                 RandomForestClassifier(class_weight=&#x27;balanced_subsample&#x27;,\n",
              "                                        max_features=5, n_estimators=60))])</pre></div></div></div><div class=\"sk-serial\"><div class=\"sk-item\"><div class=\"sk-estimator sk-toggleable\"><input class=\"sk-toggleable__control sk-hidden--visually\" id=\"sk-estimator-id-24\" type=\"checkbox\" ><label for=\"sk-estimator-id-24\" class=\"sk-toggleable__label sk-toggleable__label-arrow\">Winsorizer</label><div class=\"sk-toggleable__content\"><pre>Winsorizer(missing_values=&#x27;ignore&#x27;, tail=&#x27;both&#x27;)</pre></div></div></div><div class=\"sk-item\"><div class=\"sk-estimator sk-toggleable\"><input class=\"sk-toggleable__control sk-hidden--visually\" id=\"sk-estimator-id-25\" type=\"checkbox\" ><label for=\"sk-estimator-id-25\" class=\"sk-toggleable__label sk-toggleable__label-arrow\">SimpleImputer</label><div class=\"sk-toggleable__content\"><pre>SimpleImputer()</pre></div></div></div><div class=\"sk-item\"><div class=\"sk-estimator sk-toggleable\"><input class=\"sk-toggleable__control sk-hidden--visually\" id=\"sk-estimator-id-26\" type=\"checkbox\" ><label for=\"sk-estimator-id-26\" class=\"sk-toggleable__label sk-toggleable__label-arrow\">StandardScaler</label><div class=\"sk-toggleable__content\"><pre>StandardScaler()</pre></div></div></div><div class=\"sk-item\"><div class=\"sk-estimator sk-toggleable\"><input class=\"sk-toggleable__control sk-hidden--visually\" id=\"sk-estimator-id-27\" type=\"checkbox\" ><label for=\"sk-estimator-id-27\" class=\"sk-toggleable__label sk-toggleable__label-arrow\">SMOTE</label><div class=\"sk-toggleable__content\"><pre>SMOTE(random_state=0, sampling_strategy=0.8)</pre></div></div></div><div class=\"sk-item\"><div class=\"sk-estimator sk-toggleable\"><input class=\"sk-toggleable__control sk-hidden--visually\" id=\"sk-estimator-id-28\" type=\"checkbox\" ><label for=\"sk-estimator-id-28\" class=\"sk-toggleable__label sk-toggleable__label-arrow\">RandomForestClassifier</label><div class=\"sk-toggleable__content\"><pre>RandomForestClassifier(class_weight=&#x27;balanced_subsample&#x27;, max_features=5,\n",
              "                       n_estimators=60)</pre></div></div></div></div></div></div></div>"
            ],
            "text/plain": [
              "Pipeline(steps=[('outlier', Winsorizer(missing_values='ignore', tail='both')),\n",
              "                ('imputer', SimpleImputer()), ('scaler', StandardScaler()),\n",
              "                ('over_sampl', SMOTE(random_state=0, sampling_strategy=0.8)),\n",
              "                ('rfc',\n",
              "                 RandomForestClassifier(class_weight='balanced_subsample',\n",
              "                                        max_features=5, n_estimators=60))])"
            ]
          },
          "execution_count": 80,
          "metadata": {},
          "output_type": "execute_result"
        }
      ],
      "source": [
        "full_imbhandling = imbpipe([\n",
        "            ('outlier', Winsorizer(capping_method='gaussian', tail='both', fold=3,missing_values='ignore')),\n",
        "            ('imputer', SimpleImputer(strategy='mean')),\n",
        "            ('scaler', StandardScaler()),\n",
        "            ('over_sampl', SMOTE(sampling_strategy=0.8, random_state=0)),\n",
        "            ('rfc', RandomForestClassifier(class_weight= 'balanced_subsample',criterion='gini',max_features= 5,n_estimators= 60))\n",
        "])\n",
        "\n",
        "full_imbhandling"
      ]
    },
    {
      "cell_type": "markdown",
      "metadata": {
        "id": "BePJrufqoUsK"
      },
      "source": [
        "Implementasi pipeline pada data test menggunakan model dengan best parameter yang sudah kita dapatkan sebelumnya. "
      ]
    },
    {
      "cell_type": "code",
      "execution_count": 81,
      "metadata": {
        "colab": {
          "base_uri": "https://localhost:8080/"
        },
        "id": "LMraWMgX-sTU",
        "outputId": "7ca4d288-ed68-48e2-e1f7-e5a00725f805"
      },
      "outputs": [
        {
          "name": "stdout",
          "output_type": "stream",
          "text": [
            "              precision    recall  f1-score   support\n",
            "\n",
            "           0       0.69      0.82      0.75       597\n",
            "           1       0.59      0.42      0.49       382\n",
            "\n",
            "    accuracy                           0.66       979\n",
            "   macro avg       0.64      0.62      0.62       979\n",
            "weighted avg       0.65      0.66      0.65       979\n",
            "\n"
          ]
        }
      ],
      "source": [
        "full_imbhandling.fit(X_train, y_train)\n",
        "\n",
        "# evaluate on test\n",
        "handled_pred = full_imbhandling.predict(X_test)\n",
        "\n",
        "print(classification_report(y_test, handled_pred))\n"
      ]
    },
    {
      "cell_type": "code",
      "execution_count": 82,
      "metadata": {
        "colab": {
          "base_uri": "https://localhost:8080/",
          "height": 351
        },
        "id": "TlvpGeb3AOaQ",
        "outputId": "a34aa17b-40d9-4c9a-ae71-b90f4c83747e"
      },
      "outputs": [
        {
          "name": "stderr",
          "output_type": "stream",
          "text": [
            "c:\\Users\\lenovo\\anaconda3\\lib\\site-packages\\sklearn\\utils\\deprecation.py:87: FutureWarning: Function plot_confusion_matrix is deprecated; Function `plot_confusion_matrix` is deprecated in 1.0 and will be removed in 1.2. Use one of the class methods: ConfusionMatrixDisplay.from_predictions or ConfusionMatrixDisplay.from_estimator.\n",
            "  warnings.warn(msg, category=FutureWarning)\n"
          ]
        },
        {
          "data": {
            "text/plain": [
              "<sklearn.metrics._plot.confusion_matrix.ConfusionMatrixDisplay at 0x25a6ba1feb0>"
            ]
          },
          "execution_count": 82,
          "metadata": {},
          "output_type": "execute_result"
        },
        {
          "data": {
            "image/png": "[encoded data removed]",
            "text/plain": [
              "<Figure size 432x288 with 2 Axes>"
            ]
          },
          "metadata": {
            "needs_background": "light"
          },
          "output_type": "display_data"
        }
      ],
      "source": [
        "plot_confusion_matrix(full_imbhandling, X_test, y_test,cmap='Greys')"
      ]
    },
    {
      "cell_type": "markdown",
      "metadata": {
        "id": "s3AM3WGwoqTn"
      },
      "source": [
        "Dapat terlihat bahwa implementasi  handling data imbalance kurang berpengaruh terhadap performa model, hasilnya precision nya tidak lebih bagus dibanding tanpa handling imbalance, dan false positivenya juga lebih besar. Selanjutnya untuk model inference akan digunakan data yang semula.\n",
        "\n",
        "1. Setelah imbalance handling\n",
        "- 0 : 0.69\n",
        "- 1 : 0.59\n",
        "- confusion_matrix = False Positive nya : 109\n",
        "\n",
        "2. Sebelum imbalance handling\n",
        "- 0 : 0.66\n",
        "- 1 : 0.66\n",
        "- confusion_matrix = False Positive nya : 50"
      ]
    },
    {
      "cell_type": "markdown",
      "metadata": {
        "id": "kN8_myKcnceo"
      },
      "source": [
        "## Model Inference"
      ]
    },
    {
      "cell_type": "code",
      "execution_count": 83,
      "metadata": {
        "colab": {
          "base_uri": "https://localhost:8080/",
          "height": 584
        },
        "id": "guTpBFODmlvo",
        "outputId": "92d831a5-763d-461f-8f31-9134fa7c9092"
      },
      "outputs": [
        {
          "data": {
            "text/html": [
              "<div>\n",
              "<style scoped>\n",
              "    .dataframe tbody tr th:only-of-type {\n",
              "        vertical-align: middle;\n",
              "    }\n",
              "\n",
              "    .dataframe tbody tr th {\n",
              "        vertical-align: top;\n",
              "    }\n",
              "\n",
              "    .dataframe thead th {\n",
              "        text-align: right;\n",
              "    }\n",
              "</style>\n",
              "<table border=\"1\" class=\"dataframe\">\n",
              "  <thead>\n",
              "    <tr style=\"text-align: right;\">\n",
              "      <th></th>\n",
              "      <th>ph</th>\n",
              "      <th>Hardness</th>\n",
              "      <th>Solids</th>\n",
              "      <th>Chloramines</th>\n",
              "      <th>Sulfate</th>\n",
              "      <th>Conductivity</th>\n",
              "      <th>Organic_carbon</th>\n",
              "      <th>Trihalomethanes</th>\n",
              "      <th>Turbidity</th>\n",
              "      <th>Potability</th>\n",
              "    </tr>\n",
              "  </thead>\n",
              "  <tbody>\n",
              "    <tr>\n",
              "      <th>0</th>\n",
              "      <td>6.665774</td>\n",
              "      <td>155.709679</td>\n",
              "      <td>30610.047900</td>\n",
              "      <td>8.172548</td>\n",
              "      <td>337.173767</td>\n",
              "      <td>425.691956</td>\n",
              "      <td>15.101533</td>\n",
              "      <td>79.780467</td>\n",
              "      <td>4.903553</td>\n",
              "      <td>1</td>\n",
              "    </tr>\n",
              "    <tr>\n",
              "      <th>1</th>\n",
              "      <td>6.185951</td>\n",
              "      <td>174.796123</td>\n",
              "      <td>22198.929420</td>\n",
              "      <td>7.608496</td>\n",
              "      <td>NaN</td>\n",
              "      <td>479.091845</td>\n",
              "      <td>13.744284</td>\n",
              "      <td>51.497112</td>\n",
              "      <td>5.205724</td>\n",
              "      <td>0</td>\n",
              "    </tr>\n",
              "    <tr>\n",
              "      <th>2</th>\n",
              "      <td>NaN</td>\n",
              "      <td>168.388431</td>\n",
              "      <td>27492.307307</td>\n",
              "      <td>7.046225</td>\n",
              "      <td>299.820478</td>\n",
              "      <td>383.795020</td>\n",
              "      <td>16.182066</td>\n",
              "      <td>75.729434</td>\n",
              "      <td>3.048057</td>\n",
              "      <td>0</td>\n",
              "    </tr>\n",
              "    <tr>\n",
              "      <th>3</th>\n",
              "      <td>6.887864</td>\n",
              "      <td>173.325022</td>\n",
              "      <td>19947.924178</td>\n",
              "      <td>7.488703</td>\n",
              "      <td>334.098023</td>\n",
              "      <td>441.002612</td>\n",
              "      <td>10.780501</td>\n",
              "      <td>89.005492</td>\n",
              "      <td>5.454488</td>\n",
              "      <td>0</td>\n",
              "    </tr>\n",
              "    <tr>\n",
              "      <th>4</th>\n",
              "      <td>NaN</td>\n",
              "      <td>162.935371</td>\n",
              "      <td>24916.625585</td>\n",
              "      <td>6.374496</td>\n",
              "      <td>388.312725</td>\n",
              "      <td>494.288784</td>\n",
              "      <td>14.297696</td>\n",
              "      <td>84.802970</td>\n",
              "      <td>4.301273</td>\n",
              "      <td>0</td>\n",
              "    </tr>\n",
              "    <tr>\n",
              "      <th>5</th>\n",
              "      <td>8.589202</td>\n",
              "      <td>233.727975</td>\n",
              "      <td>7263.056749</td>\n",
              "      <td>6.953308</td>\n",
              "      <td>268.971355</td>\n",
              "      <td>258.880209</td>\n",
              "      <td>8.986363</td>\n",
              "      <td>41.930439</td>\n",
              "      <td>4.041446</td>\n",
              "      <td>1</td>\n",
              "    </tr>\n",
              "    <tr>\n",
              "      <th>6</th>\n",
              "      <td>6.088022</td>\n",
              "      <td>162.278357</td>\n",
              "      <td>23567.132875</td>\n",
              "      <td>7.698582</td>\n",
              "      <td>372.835081</td>\n",
              "      <td>387.970635</td>\n",
              "      <td>13.663607</td>\n",
              "      <td>75.266064</td>\n",
              "      <td>4.173083</td>\n",
              "      <td>0</td>\n",
              "    </tr>\n",
              "    <tr>\n",
              "      <th>7</th>\n",
              "      <td>7.943882</td>\n",
              "      <td>211.816551</td>\n",
              "      <td>32071.179369</td>\n",
              "      <td>7.769215</td>\n",
              "      <td>290.337398</td>\n",
              "      <td>353.336484</td>\n",
              "      <td>17.871950</td>\n",
              "      <td>78.492783</td>\n",
              "      <td>4.111691</td>\n",
              "      <td>0</td>\n",
              "    </tr>\n",
              "    <tr>\n",
              "      <th>8</th>\n",
              "      <td>NaN</td>\n",
              "      <td>161.826476</td>\n",
              "      <td>29299.123353</td>\n",
              "      <td>7.028797</td>\n",
              "      <td>350.430940</td>\n",
              "      <td>375.780716</td>\n",
              "      <td>19.762576</td>\n",
              "      <td>86.698457</td>\n",
              "      <td>3.497577</td>\n",
              "      <td>1</td>\n",
              "    </tr>\n",
              "    <tr>\n",
              "      <th>9</th>\n",
              "      <td>6.579969</td>\n",
              "      <td>197.226981</td>\n",
              "      <td>17657.084176</td>\n",
              "      <td>4.506293</td>\n",
              "      <td>290.289894</td>\n",
              "      <td>254.393276</td>\n",
              "      <td>9.847655</td>\n",
              "      <td>73.749716</td>\n",
              "      <td>4.575932</td>\n",
              "      <td>0</td>\n",
              "    </tr>\n",
              "    <tr>\n",
              "      <th>10</th>\n",
              "      <td>4.868827</td>\n",
              "      <td>258.678959</td>\n",
              "      <td>13400.385532</td>\n",
              "      <td>4.880910</td>\n",
              "      <td>NaN</td>\n",
              "      <td>328.764529</td>\n",
              "      <td>17.352080</td>\n",
              "      <td>55.968217</td>\n",
              "      <td>3.255600</td>\n",
              "      <td>1</td>\n",
              "    </tr>\n",
              "    <tr>\n",
              "      <th>11</th>\n",
              "      <td>6.583065</td>\n",
              "      <td>163.361604</td>\n",
              "      <td>17977.693938</td>\n",
              "      <td>6.542088</td>\n",
              "      <td>NaN</td>\n",
              "      <td>383.124504</td>\n",
              "      <td>18.094544</td>\n",
              "      <td>44.136469</td>\n",
              "      <td>3.772859</td>\n",
              "      <td>0</td>\n",
              "    </tr>\n",
              "    <tr>\n",
              "      <th>12</th>\n",
              "      <td>8.927906</td>\n",
              "      <td>188.054419</td>\n",
              "      <td>22139.878848</td>\n",
              "      <td>4.252721</td>\n",
              "      <td>376.334566</td>\n",
              "      <td>438.515587</td>\n",
              "      <td>8.597973</td>\n",
              "      <td>92.828321</td>\n",
              "      <td>5.474355</td>\n",
              "      <td>0</td>\n",
              "    </tr>\n",
              "    <tr>\n",
              "      <th>13</th>\n",
              "      <td>5.763773</td>\n",
              "      <td>183.073629</td>\n",
              "      <td>22025.696606</td>\n",
              "      <td>8.952896</td>\n",
              "      <td>NaN</td>\n",
              "      <td>376.581389</td>\n",
              "      <td>10.547398</td>\n",
              "      <td>63.299757</td>\n",
              "      <td>3.253200</td>\n",
              "      <td>1</td>\n",
              "    </tr>\n",
              "    <tr>\n",
              "      <th>14</th>\n",
              "      <td>NaN</td>\n",
              "      <td>259.144928</td>\n",
              "      <td>2808.025756</td>\n",
              "      <td>10.087062</td>\n",
              "      <td>392.833160</td>\n",
              "      <td>354.405278</td>\n",
              "      <td>13.898950</td>\n",
              "      <td>63.857674</td>\n",
              "      <td>4.081329</td>\n",
              "      <td>1</td>\n",
              "    </tr>\n",
              "  </tbody>\n",
              "</table>\n",
              "</div>"
            ],
            "text/plain": [
              "          ph    Hardness        Solids  Chloramines     Sulfate  Conductivity  \\\n",
              "0   6.665774  155.709679  30610.047900     8.172548  337.173767    425.691956   \n",
              "1   6.185951  174.796123  22198.929420     7.608496         NaN    479.091845   \n",
              "2        NaN  168.388431  27492.307307     7.046225  299.820478    383.795020   \n",
              "3   6.887864  173.325022  19947.924178     7.488703  334.098023    441.002612   \n",
              "4        NaN  162.935371  24916.625585     6.374496  388.312725    494.288784   \n",
              "5   8.589202  233.727975   7263.056749     6.953308  268.971355    258.880209   \n",
              "6   6.088022  162.278357  23567.132875     7.698582  372.835081    387.970635   \n",
              "7   7.943882  211.816551  32071.179369     7.769215  290.337398    353.336484   \n",
              "8        NaN  161.826476  29299.123353     7.028797  350.430940    375.780716   \n",
              "9   6.579969  197.226981  17657.084176     4.506293  290.289894    254.393276   \n",
              "10  4.868827  258.678959  13400.385532     4.880910         NaN    328.764529   \n",
              "11  6.583065  163.361604  17977.693938     6.542088         NaN    383.124504   \n",
              "12  8.927906  188.054419  22139.878848     4.252721  376.334566    438.515587   \n",
              "13  5.763773  183.073629  22025.696606     8.952896         NaN    376.581389   \n",
              "14       NaN  259.144928   2808.025756    10.087062  392.833160    354.405278   \n",
              "\n",
              "    Organic_carbon  Trihalomethanes  Turbidity  Potability  \n",
              "0        15.101533        79.780467   4.903553           1  \n",
              "1        13.744284        51.497112   5.205724           0  \n",
              "2        16.182066        75.729434   3.048057           0  \n",
              "3        10.780501        89.005492   5.454488           0  \n",
              "4        14.297696        84.802970   4.301273           0  \n",
              "5         8.986363        41.930439   4.041446           1  \n",
              "6        13.663607        75.266064   4.173083           0  \n",
              "7        17.871950        78.492783   4.111691           0  \n",
              "8        19.762576        86.698457   3.497577           1  \n",
              "9         9.847655        73.749716   4.575932           0  \n",
              "10       17.352080        55.968217   3.255600           1  \n",
              "11       18.094544        44.136469   3.772859           0  \n",
              "12        8.597973        92.828321   5.474355           0  \n",
              "13       10.547398        63.299757   3.253200           1  \n",
              "14       13.898950        63.857674   4.081329           1  "
            ]
          },
          "execution_count": 83,
          "metadata": {},
          "output_type": "execute_result"
        }
      ],
      "source": [
        "data_inf"
      ]
    },
    {
      "cell_type": "code",
      "execution_count": 84,
      "metadata": {
        "colab": {
          "base_uri": "https://localhost:8080/"
        },
        "id": "0Cj6Eb4bvrHe",
        "outputId": "fa9be67f-c6d0-4952-f22a-5597c5bd8d5c"
      },
      "outputs": [
        {
          "data": {
            "text/plain": [
              "Index(['ph', 'Hardness', 'Solids', 'Chloramines', 'Sulfate', 'Conductivity',\n",
              "       'Organic_carbon', 'Trihalomethanes', 'Turbidity', 'Potability'],\n",
              "      dtype='object')"
            ]
          },
          "execution_count": 84,
          "metadata": {},
          "output_type": "execute_result"
        }
      ],
      "source": [
        "data_inf.columns"
      ]
    },
    {
      "cell_type": "markdown",
      "metadata": {
        "id": "ejO3SWsvtQfi"
      },
      "source": [
        "Menghilangkan target dari inference"
      ]
    },
    {
      "cell_type": "code",
      "execution_count": 85,
      "metadata": {
        "id": "QIkcyw9JwFl-"
      },
      "outputs": [],
      "source": [
        "X_inf = data_inf.drop('Potability',axis=1).copy()"
      ]
    },
    {
      "cell_type": "markdown",
      "metadata": {
        "id": "CJ4gKDKstV3H"
      },
      "source": [
        "Predict inference menggunakna pipeline"
      ]
    },
    {
      "cell_type": "code",
      "execution_count": 86,
      "metadata": {
        "colab": {
          "base_uri": "https://localhost:8080/"
        },
        "id": "VX8QTfRxrPap",
        "outputId": "6d930bf5-f400-4b63-f783-eeeac3ce1875"
      },
      "outputs": [
        {
          "data": {
            "text/plain": [
              "array([0, 0, 0, 0, 1, 0, 0, 1, 0, 0, 1, 0, 0, 0, 1], dtype=int64)"
            ]
          },
          "execution_count": 86,
          "metadata": {},
          "output_type": "execute_result"
        }
      ],
      "source": [
        "hasil_inf = all_process.predict(X_inf)\n",
        "hasil_inf"
      ]
    },
    {
      "cell_type": "code",
      "execution_count": 87,
      "metadata": {
        "colab": {
          "base_uri": "https://localhost:8080/",
          "height": 206
        },
        "id": "EaP8kbw2rvi5",
        "outputId": "474a5390-2c5e-4e7a-9006-9025f4447d82"
      },
      "outputs": [
        {
          "data": {
            "text/html": [
              "<div>\n",
              "<style scoped>\n",
              "    .dataframe tbody tr th:only-of-type {\n",
              "        vertical-align: middle;\n",
              "    }\n",
              "\n",
              "    .dataframe tbody tr th {\n",
              "        vertical-align: top;\n",
              "    }\n",
              "\n",
              "    .dataframe thead th {\n",
              "        text-align: right;\n",
              "    }\n",
              "</style>\n",
              "<table border=\"1\" class=\"dataframe\">\n",
              "  <thead>\n",
              "    <tr style=\"text-align: right;\">\n",
              "      <th></th>\n",
              "      <th>hasil prediksi</th>\n",
              "    </tr>\n",
              "  </thead>\n",
              "  <tbody>\n",
              "    <tr>\n",
              "      <th>0</th>\n",
              "      <td>0</td>\n",
              "    </tr>\n",
              "    <tr>\n",
              "      <th>1</th>\n",
              "      <td>0</td>\n",
              "    </tr>\n",
              "    <tr>\n",
              "      <th>2</th>\n",
              "      <td>0</td>\n",
              "    </tr>\n",
              "    <tr>\n",
              "      <th>3</th>\n",
              "      <td>0</td>\n",
              "    </tr>\n",
              "    <tr>\n",
              "      <th>4</th>\n",
              "      <td>1</td>\n",
              "    </tr>\n",
              "  </tbody>\n",
              "</table>\n",
              "</div>"
            ],
            "text/plain": [
              "   hasil prediksi\n",
              "0               0\n",
              "1               0\n",
              "2               0\n",
              "3               0\n",
              "4               1"
            ]
          },
          "execution_count": 87,
          "metadata": {},
          "output_type": "execute_result"
        }
      ],
      "source": [
        "hasil_inff = pd.DataFrame(hasil_inf, columns=['hasil prediksi'])\n",
        "hasil_inff.head()"
      ]
    },
    {
      "cell_type": "markdown",
      "metadata": {
        "id": "FHnxniUntaUF"
      },
      "source": [
        "membandingkan hasil prediksi dengan data asli"
      ]
    },
    {
      "cell_type": "code",
      "execution_count": 88,
      "metadata": {
        "colab": {
          "base_uri": "https://localhost:8080/",
          "height": 520
        },
        "id": "ejqoFuPQr_pY",
        "outputId": "71830997-608d-4335-cb70-0decbeb98d5a"
      },
      "outputs": [
        {
          "data": {
            "text/html": [
              "<div>\n",
              "<style scoped>\n",
              "    .dataframe tbody tr th:only-of-type {\n",
              "        vertical-align: middle;\n",
              "    }\n",
              "\n",
              "    .dataframe tbody tr th {\n",
              "        vertical-align: top;\n",
              "    }\n",
              "\n",
              "    .dataframe thead th {\n",
              "        text-align: right;\n",
              "    }\n",
              "</style>\n",
              "<table border=\"1\" class=\"dataframe\">\n",
              "  <thead>\n",
              "    <tr style=\"text-align: right;\">\n",
              "      <th></th>\n",
              "      <th>hasil prediksi</th>\n",
              "      <th>Real Data</th>\n",
              "    </tr>\n",
              "  </thead>\n",
              "  <tbody>\n",
              "    <tr>\n",
              "      <th>0</th>\n",
              "      <td>0</td>\n",
              "      <td>1</td>\n",
              "    </tr>\n",
              "    <tr>\n",
              "      <th>1</th>\n",
              "      <td>0</td>\n",
              "      <td>0</td>\n",
              "    </tr>\n",
              "    <tr>\n",
              "      <th>2</th>\n",
              "      <td>0</td>\n",
              "      <td>0</td>\n",
              "    </tr>\n",
              "    <tr>\n",
              "      <th>3</th>\n",
              "      <td>0</td>\n",
              "      <td>0</td>\n",
              "    </tr>\n",
              "    <tr>\n",
              "      <th>4</th>\n",
              "      <td>1</td>\n",
              "      <td>0</td>\n",
              "    </tr>\n",
              "    <tr>\n",
              "      <th>5</th>\n",
              "      <td>0</td>\n",
              "      <td>1</td>\n",
              "    </tr>\n",
              "    <tr>\n",
              "      <th>6</th>\n",
              "      <td>0</td>\n",
              "      <td>0</td>\n",
              "    </tr>\n",
              "    <tr>\n",
              "      <th>7</th>\n",
              "      <td>1</td>\n",
              "      <td>0</td>\n",
              "    </tr>\n",
              "    <tr>\n",
              "      <th>8</th>\n",
              "      <td>0</td>\n",
              "      <td>1</td>\n",
              "    </tr>\n",
              "    <tr>\n",
              "      <th>9</th>\n",
              "      <td>0</td>\n",
              "      <td>0</td>\n",
              "    </tr>\n",
              "    <tr>\n",
              "      <th>10</th>\n",
              "      <td>1</td>\n",
              "      <td>1</td>\n",
              "    </tr>\n",
              "    <tr>\n",
              "      <th>11</th>\n",
              "      <td>0</td>\n",
              "      <td>0</td>\n",
              "    </tr>\n",
              "    <tr>\n",
              "      <th>12</th>\n",
              "      <td>0</td>\n",
              "      <td>0</td>\n",
              "    </tr>\n",
              "    <tr>\n",
              "      <th>13</th>\n",
              "      <td>0</td>\n",
              "      <td>1</td>\n",
              "    </tr>\n",
              "    <tr>\n",
              "      <th>14</th>\n",
              "      <td>1</td>\n",
              "      <td>1</td>\n",
              "    </tr>\n",
              "  </tbody>\n",
              "</table>\n",
              "</div>"
            ],
            "text/plain": [
              "    hasil prediksi  Real Data\n",
              "0                0          1\n",
              "1                0          0\n",
              "2                0          0\n",
              "3                0          0\n",
              "4                1          0\n",
              "5                0          1\n",
              "6                0          0\n",
              "7                1          0\n",
              "8                0          1\n",
              "9                0          0\n",
              "10               1          1\n",
              "11               0          0\n",
              "12               0          0\n",
              "13               0          1\n",
              "14               1          1"
            ]
          },
          "execution_count": 88,
          "metadata": {},
          "output_type": "execute_result"
        }
      ],
      "source": [
        "hasil_inff['Real Data'] = data_inf['Potability']\n",
        "hasil_inff"
      ]
    },
    {
      "cell_type": "markdown",
      "metadata": {
        "id": "TcYzKwdotfd4"
      },
      "source": [
        "Model tidak cukup bagus untuk konsisten memprediksi 0 dan 1. Masih banyak kesalahan prediksi. Dari 20 data, 6 salah terprediksi. False negative : 4, False positive : 2. "
      ]
    },
    {
      "cell_type": "markdown",
      "metadata": {
        "id": "sNsVj2xE4WYr"
      },
      "source": [
        "## Model Inference - Deployment"
      ]
    },
    {
      "cell_type": "code",
      "execution_count": 89,
      "metadata": {
        "id": "Fg0LNvv4peL7"
      },
      "outputs": [],
      "source": [
        "#save model\n",
        "\n",
        "pickle.dump(all_process, open(\"Model.pkl\", \"wb\"))"
      ]
    },
    {
      "cell_type": "code",
      "execution_count": 90,
      "metadata": {
        "id": "pJFx3O4cx8Qm"
      },
      "outputs": [],
      "source": [
        "set_config(display='diagram')"
      ]
    },
    {
      "cell_type": "code",
      "execution_count": 91,
      "metadata": {
        "colab": {
          "base_uri": "https://localhost:8080/",
          "height": 221
        },
        "id": "0oVQCZoPx_LS",
        "outputId": "503d4504-7177-4d4c-dbef-1ea5ecb2270b"
      },
      "outputs": [
        {
          "data": {
            "text/html": [
              "<style>#sk-container-id-7 {color: black;background-color: white;}#sk-container-id-7 pre{padding: 0;}#sk-container-id-7 div.sk-toggleable {background-color: white;}#sk-container-id-7 label.sk-toggleable__label {cursor: pointer;display: block;width: 100%;margin-bottom: 0;padding: 0.3em;box-sizing: border-box;text-align: center;}#sk-container-id-7 label.sk-toggleable__label-arrow:before {content: \"▸\";float: left;margin-right: 0.25em;color: #696969;}#sk-container-id-7 label.sk-toggleable__label-arrow:hover:before {color: black;}#sk-container-id-7 div.sk-estimator:hover label.sk-toggleable__label-arrow:before {color: black;}#sk-container-id-7 div.sk-toggleable__content {max-height: 0;max-width: 0;overflow: hidden;text-align: left;background-color: #f0f8ff;}#sk-container-id-7 div.sk-toggleable__content pre {margin: 0.2em;color: black;border-radius: 0.25em;background-color: #f0f8ff;}#sk-container-id-7 input.sk-toggleable__control:checked~div.sk-toggleable__content {max-height: 200px;max-width: 100%;overflow: auto;}#sk-container-id-7 input.sk-toggleable__control:checked~label.sk-toggleable__label-arrow:before {content: \"▾\";}#sk-container-id-7 div.sk-estimator input.sk-toggleable__control:checked~label.sk-toggleable__label {background-color: #d4ebff;}#sk-container-id-7 div.sk-label input.sk-toggleable__control:checked~label.sk-toggleable__label {background-color: #d4ebff;}#sk-container-id-7 input.sk-hidden--visually {border: 0;clip: rect(1px 1px 1px 1px);clip: rect(1px, 1px, 1px, 1px);height: 1px;margin: -1px;overflow: hidden;padding: 0;position: absolute;width: 1px;}#sk-container-id-7 div.sk-estimator {font-family: monospace;background-color: #f0f8ff;border: 1px dotted black;border-radius: 0.25em;box-sizing: border-box;margin-bottom: 0.5em;}#sk-container-id-7 div.sk-estimator:hover {background-color: #d4ebff;}#sk-container-id-7 div.sk-parallel-item::after {content: \"\";width: 100%;border-bottom: 1px solid gray;flex-grow: 1;}#sk-container-id-7 div.sk-label:hover label.sk-toggleable__label {background-color: #d4ebff;}#sk-container-id-7 div.sk-serial::before {content: \"\";position: absolute;border-left: 1px solid gray;box-sizing: border-box;top: 0;bottom: 0;left: 50%;z-index: 0;}#sk-container-id-7 div.sk-serial {display: flex;flex-direction: column;align-items: center;background-color: white;padding-right: 0.2em;padding-left: 0.2em;position: relative;}#sk-container-id-7 div.sk-item {position: relative;z-index: 1;}#sk-container-id-7 div.sk-parallel {display: flex;align-items: stretch;justify-content: center;background-color: white;position: relative;}#sk-container-id-7 div.sk-item::before, #sk-container-id-7 div.sk-parallel-item::before {content: \"\";position: absolute;border-left: 1px solid gray;box-sizing: border-box;top: 0;bottom: 0;left: 50%;z-index: -1;}#sk-container-id-7 div.sk-parallel-item {display: flex;flex-direction: column;z-index: 1;position: relative;background-color: white;}#sk-container-id-7 div.sk-parallel-item:first-child::after {align-self: flex-end;width: 50%;}#sk-container-id-7 div.sk-parallel-item:last-child::after {align-self: flex-start;width: 50%;}#sk-container-id-7 div.sk-parallel-item:only-child::after {width: 0;}#sk-container-id-7 div.sk-dashed-wrapped {border: 1px dashed gray;margin: 0 0.4em 0.5em 0.4em;box-sizing: border-box;padding-bottom: 0.4em;background-color: white;}#sk-container-id-7 div.sk-label label {font-family: monospace;font-weight: bold;display: inline-block;line-height: 1.2em;}#sk-container-id-7 div.sk-label-container {text-align: center;}#sk-container-id-7 div.sk-container {/* jupyter's `normalize.less` sets `[hidden] { display: none; }` but bootstrap.min.css set `[hidden] { display: none !important; }` so we also need the `!important` here to be able to override the default hidden behavior on the sphinx rendered scikit-learn.org. See: https://github.com/scikit-learn/scikit-learn/issues/21755 */display: inline-block !important;position: relative;}#sk-container-id-7 div.sk-text-repr-fallback {display: none;}</style><div id=\"sk-container-id-7\" class=\"sk-top-container\"><div class=\"sk-text-repr-fallback\"><pre>Pipeline(steps=[(&#x27;preprocess&#x27;,\n",
              "                 Pipeline(steps=[(&#x27;outlier&#x27;,\n",
              "                                  Winsorizer(missing_values=&#x27;ignore&#x27;,\n",
              "                                             tail=&#x27;both&#x27;)),\n",
              "                                 (&#x27;imputer&#x27;, SimpleImputer()),\n",
              "                                 (&#x27;scaler&#x27;, StandardScaler())])),\n",
              "                (&#x27;classification&#x27;,\n",
              "                 RandomForestClassifier(class_weight=&#x27;balanced_subsample&#x27;,\n",
              "                                        criterion=&#x27;entropy&#x27;, max_features=1,\n",
              "                                        n_estimators=60, random_state=0))])</pre><b>In a Jupyter environment, please rerun this cell to show the HTML representation or trust the notebook. <br />On GitHub, the HTML representation is unable to render, please try loading this page with nbviewer.org.</b></div><div class=\"sk-container\" hidden><div class=\"sk-item sk-dashed-wrapped\"><div class=\"sk-label-container\"><div class=\"sk-label sk-toggleable\"><input class=\"sk-toggleable__control sk-hidden--visually\" id=\"sk-estimator-id-29\" type=\"checkbox\" ><label for=\"sk-estimator-id-29\" class=\"sk-toggleable__label sk-toggleable__label-arrow\">Pipeline</label><div class=\"sk-toggleable__content\"><pre>Pipeline(steps=[(&#x27;preprocess&#x27;,\n",
              "                 Pipeline(steps=[(&#x27;outlier&#x27;,\n",
              "                                  Winsorizer(missing_values=&#x27;ignore&#x27;,\n",
              "                                             tail=&#x27;both&#x27;)),\n",
              "                                 (&#x27;imputer&#x27;, SimpleImputer()),\n",
              "                                 (&#x27;scaler&#x27;, StandardScaler())])),\n",
              "                (&#x27;classification&#x27;,\n",
              "                 RandomForestClassifier(class_weight=&#x27;balanced_subsample&#x27;,\n",
              "                                        criterion=&#x27;entropy&#x27;, max_features=1,\n",
              "                                        n_estimators=60, random_state=0))])</pre></div></div></div><div class=\"sk-serial\"><div class=\"sk-item\"><div class=\"sk-label-container\"><div class=\"sk-label sk-toggleable\"><input class=\"sk-toggleable__control sk-hidden--visually\" id=\"sk-estimator-id-30\" type=\"checkbox\" ><label for=\"sk-estimator-id-30\" class=\"sk-toggleable__label sk-toggleable__label-arrow\">preprocess: Pipeline</label><div class=\"sk-toggleable__content\"><pre>Pipeline(steps=[(&#x27;outlier&#x27;, Winsorizer(missing_values=&#x27;ignore&#x27;, tail=&#x27;both&#x27;)),\n",
              "                (&#x27;imputer&#x27;, SimpleImputer()), (&#x27;scaler&#x27;, StandardScaler())])</pre></div></div></div><div class=\"sk-serial\"><div class=\"sk-item\"><div class=\"sk-estimator sk-toggleable\"><input class=\"sk-toggleable__control sk-hidden--visually\" id=\"sk-estimator-id-31\" type=\"checkbox\" ><label for=\"sk-estimator-id-31\" class=\"sk-toggleable__label sk-toggleable__label-arrow\">Winsorizer</label><div class=\"sk-toggleable__content\"><pre>Winsorizer(missing_values=&#x27;ignore&#x27;, tail=&#x27;both&#x27;)</pre></div></div></div><div class=\"sk-item\"><div class=\"sk-estimator sk-toggleable\"><input class=\"sk-toggleable__control sk-hidden--visually\" id=\"sk-estimator-id-32\" type=\"checkbox\" ><label for=\"sk-estimator-id-32\" class=\"sk-toggleable__label sk-toggleable__label-arrow\">SimpleImputer</label><div class=\"sk-toggleable__content\"><pre>SimpleImputer()</pre></div></div></div><div class=\"sk-item\"><div class=\"sk-estimator sk-toggleable\"><input class=\"sk-toggleable__control sk-hidden--visually\" id=\"sk-estimator-id-33\" type=\"checkbox\" ><label for=\"sk-estimator-id-33\" class=\"sk-toggleable__label sk-toggleable__label-arrow\">StandardScaler</label><div class=\"sk-toggleable__content\"><pre>StandardScaler()</pre></div></div></div></div></div><div class=\"sk-item\"><div class=\"sk-estimator sk-toggleable\"><input class=\"sk-toggleable__control sk-hidden--visually\" id=\"sk-estimator-id-34\" type=\"checkbox\" ><label for=\"sk-estimator-id-34\" class=\"sk-toggleable__label sk-toggleable__label-arrow\">RandomForestClassifier</label><div class=\"sk-toggleable__content\"><pre>RandomForestClassifier(class_weight=&#x27;balanced_subsample&#x27;, criterion=&#x27;entropy&#x27;,\n",
              "                       max_features=1, n_estimators=60, random_state=0)</pre></div></div></div></div></div></div></div>"
            ],
            "text/plain": [
              "Pipeline(steps=[('preprocess',\n",
              "                 Pipeline(steps=[('outlier',\n",
              "                                  Winsorizer(missing_values='ignore',\n",
              "                                             tail='both')),\n",
              "                                 ('imputer', SimpleImputer()),\n",
              "                                 ('scaler', StandardScaler())])),\n",
              "                ('classification',\n",
              "                 RandomForestClassifier(class_weight='balanced_subsample',\n",
              "                                        criterion='entropy', max_features=1,\n",
              "                                        n_estimators=60, random_state=0))])"
            ]
          },
          "execution_count": 91,
          "metadata": {},
          "output_type": "execute_result"
        }
      ],
      "source": [
        "all_process"
      ]
    },
    {
      "cell_type": "code",
      "execution_count": 92,
      "metadata": {
        "id": "7jyBBllDmLbe"
      },
      "outputs": [],
      "source": [
        "# STEP 1 - Import saved model\n",
        "models = pickle.load(open(\"Model.pkl\", \"rb\"))"
      ]
    },
    {
      "cell_type": "code",
      "execution_count": 93,
      "metadata": {
        "colab": {
          "base_uri": "https://localhost:8080/",
          "height": 81
        },
        "id": "_HBDGABbyL5P",
        "outputId": "93531f0d-d1b7-420a-ccc6-baaefbd13129"
      },
      "outputs": [
        {
          "data": {
            "text/html": [
              "<div>\n",
              "<style scoped>\n",
              "    .dataframe tbody tr th:only-of-type {\n",
              "        vertical-align: middle;\n",
              "    }\n",
              "\n",
              "    .dataframe tbody tr th {\n",
              "        vertical-align: top;\n",
              "    }\n",
              "\n",
              "    .dataframe thead th {\n",
              "        text-align: right;\n",
              "    }\n",
              "</style>\n",
              "<table border=\"1\" class=\"dataframe\">\n",
              "  <thead>\n",
              "    <tr style=\"text-align: right;\">\n",
              "      <th></th>\n",
              "      <th>ph</th>\n",
              "      <th>Hardness</th>\n",
              "      <th>Solids</th>\n",
              "      <th>Chloramines</th>\n",
              "      <th>Sulfate</th>\n",
              "      <th>Conductivity</th>\n",
              "      <th>Organic_carbon</th>\n",
              "      <th>Trihalomethanes</th>\n",
              "      <th>Turbidity</th>\n",
              "    </tr>\n",
              "  </thead>\n",
              "  <tbody>\n",
              "    <tr>\n",
              "      <th>0</th>\n",
              "      <td>6.665774</td>\n",
              "      <td>155.709679</td>\n",
              "      <td>30610.0479</td>\n",
              "      <td>8.172548</td>\n",
              "      <td>337.173767</td>\n",
              "      <td>425.691956</td>\n",
              "      <td>15.101533</td>\n",
              "      <td>79.780467</td>\n",
              "      <td>4.903553</td>\n",
              "    </tr>\n",
              "  </tbody>\n",
              "</table>\n",
              "</div>"
            ],
            "text/plain": [
              "         ph    Hardness      Solids  Chloramines     Sulfate  Conductivity  \\\n",
              "0  6.665774  155.709679  30610.0479     8.172548  337.173767    425.691956   \n",
              "\n",
              "   Organic_carbon  Trihalomethanes  Turbidity  \n",
              "0       15.101533        79.780467   4.903553  "
            ]
          },
          "execution_count": 93,
          "metadata": {},
          "output_type": "execute_result"
        }
      ],
      "source": [
        "# STEP 2 - Prepare input data from user\n",
        "\n",
        "inf = X_inf.head(1)\n",
        "inf"
      ]
    },
    {
      "cell_type": "code",
      "execution_count": 94,
      "metadata": {
        "colab": {
          "base_uri": "https://localhost:8080/"
        },
        "id": "sFRPMcZ2mQbd",
        "outputId": "299dcca6-da15-41ed-8b7b-69bffbb33769"
      },
      "outputs": [
        {
          "name": "stderr",
          "output_type": "stream",
          "text": [
            "c:\\Users\\lenovo\\anaconda3\\lib\\site-packages\\sklearn\\base.py:443: UserWarning: X has feature names, but RandomForestClassifier was fitted without feature names\n",
            "  warnings.warn(\n"
          ]
        },
        {
          "data": {
            "text/plain": [
              "0"
            ]
          },
          "execution_count": 94,
          "metadata": {},
          "output_type": "execute_result"
        }
      ],
      "source": [
        "# STEP 3 - model predict input data\n",
        "pred = model.predict(inf).tolist()[0]\n",
        "pred"
      ]
    },
    {
      "cell_type": "code",
      "execution_count": 95,
      "metadata": {
        "colab": {
          "base_uri": "https://localhost:8080/"
        },
        "id": "QyheRXzwyTLT",
        "outputId": "f0e3c957-5c51-40a5-f422-db2c88fb3fed"
      },
      "outputs": [
        {
          "name": "stdout",
          "output_type": "stream",
          "text": [
            "Not Potable\n"
          ]
        }
      ],
      "source": [
        "# STEP 4 - interpretation for human language\n",
        "if pred == 1:\n",
        "    print('Potable')\n",
        "else:\n",
        "    print('Not Potable')"
      ]
    },
    {
      "cell_type": "markdown",
      "metadata": {
        "id": "0h7BrI3VswVe"
      },
      "source": [
        "## Kesimpulan "
      ]
    },
    {
      "cell_type": "markdown",
      "metadata": {
        "id": "aHmiDiSouDvH"
      },
      "source": [
        "- Analisis Data Water Potability ini berfokus pada pengujian apakah air bisa diminum atau tidak dengan urgency model prediksi harus bisa meminimalkan kesalahan prediksi air bisa diminum padahal kenyataan nya tidak.\n",
        "- Model terbaik yang didapatkan setelah melakukan uji validasi kepada semua model yaitu Random Forest Classifier. \n",
        "- Hyper-parameter tuning yang telah dilakukan memperbaiki performa model namun tidak signifikan\n",
        "- Handling Imbalance pada data tidak menghasilkan atau memperbaiki performa model\n",
        "- Model RandomForest tidak cukup bagus untuk konsisten memprediksi 0 dan 1. Masih banyak kesalahan prediksi. Dari 20 data inference, 6 salah terprediksi. False negative : 4, False positive : 2. \n",
        "- Namun hasil baik nya hasil false positive lebih rendah dari pada false negative. Sesuai dengan ekspektasi sebelumnya. \n",
        "- Untuk kedepannya, bisa dipilih lagi model model klasifikasi lain dengan perbaikan hyperparameter yang lebih baik pula, kemudian handling imbalance data lebih dalam lagi dan melakukan feature selection lebih teliti lagi dengan cara cara lain. \n",
        "\n"
      ]
    }
  ],
  "metadata": {
    "colab": {
      "provenance": [],
      "toc_visible": true
    },
    "kernelspec": {
      "display_name": "Python 3.9.12 ('base')",
      "language": "python",
      "name": "python3"
    },
    "language_info": {
      "codemirror_mode": {
        "name": "ipython",
        "version": 3
      },
      "file_extension": ".py",
      "mimetype": "text/x-python",
      "name": "python",
      "nbconvert_exporter": "python",
      "pygments_lexer": "ipython3",
      "version": "3.9.12"
    },
    "vscode": {
      "interpreter": {
        "hash": "a71a9e4fb054fff428071484f7faa898cb9ecb31a518fe88e3463da9af879578"
      }
    }
  },
  "nbformat": 4,
  "nbformat_minor": 0
}
